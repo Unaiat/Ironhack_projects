{
 "cells": [
  {
   "cell_type": "markdown",
   "metadata": {},
   "source": [
    "<img src=\"https://bit.ly/2VnXWr2\" width=\"100\" align=\"left\">"
   ]
  },
  {
   "cell_type": "markdown",
   "metadata": {},
   "source": [
    "# Rock, Paper & Scissors\n",
    "\n",
    "Let's play the famous game against our computer. You can check the rules [here](https://en.wikipedia.org/wiki/Rock%E2%80%93paper%E2%80%93scissors). \n",
    "\n",
    "## Task\n",
    "Create a program that imitates the playability of the well known game of rock, paper, scissors. Follow the guidelines provided.\n",
    "\n",
    "## Tools\n",
    "1. Loop: **for/while**\n",
    "2. Functions: **input(), print()...**\n",
    "3. Conditional statements: **if, elif, else**\n",
    "4. Definition of functions. Modular programming\n",
    "5. Import modules\n",
    "\n",
    "**To solve this challenge, the use of functions is recommended.**\n",
    "\n",
    "#### 1. Import the choice function of the random module."
   ]
  },
  {
   "cell_type": "code",
   "execution_count": 40,
   "metadata": {},
   "outputs": [],
   "source": [
    "import random"
   ]
  },
  {
   "cell_type": "markdown",
   "metadata": {},
   "source": [
    "#### 2. Create a list that includes the 3 possible gesture options of the game: 'rock', 'paper' or 'scissors'. Store the list in a variable called `gestures`."
   ]
  },
  {
   "cell_type": "code",
   "execution_count": 50,
   "metadata": {},
   "outputs": [],
   "source": [
    "gestures = [\"rock\", \"paper\", \"scissors\"]"
   ]
  },
  {
   "cell_type": "markdown",
   "metadata": {},
   "source": [
    "#### 3. Create a variable called `n_rounds` to store the maximum number of rounds to play in a game. \n",
    "Remember that the number of rounds must be odd: 1, 3, 5, ..."
   ]
  },
  {
   "cell_type": "code",
   "execution_count": 58,
   "metadata": {
    "scrolled": true
   },
   "outputs": [],
   "source": [
    "def ask_rounds():\n",
    "    \"\"\"\n",
    "    The function asks the user the number of rounds to play.\n",
    "    The input has to be an odd number. Otherwise, the request will be repeated until the condition is met. \n",
    "    Arg: None\n",
    "    Return: The input of the user as an int.\n",
    "    \"\"\"\n",
    "    n_rounds = input(\"Please enter the amount of rounds to play. The number must be odd: \")\n",
    "\n",
    "    while not n_rounds.isdigit() or int(n_rounds) % 2 == 0:\n",
    "        print('ERROR: Please enter an odd number: ')\n",
    "        n_rounds = input(\"Please enter the amount of rounds to play. The number must be odd: \")\n",
    "    print(f\"You will play {n_rounds} rounds.\")\n",
    "\n",
    "    return int(n_rounds)"
   ]
  },
  {
   "cell_type": "code",
   "execution_count": 59,
   "metadata": {},
   "outputs": [
    {
     "name": "stdout",
     "output_type": "stream",
     "text": [
      "Please enter the amount of rounds to play. The number must be odd: 5\n",
      "You will play 5 rounds.\n"
     ]
    }
   ],
   "source": [
    "n_rounds = ask_rounds()"
   ]
  },
  {
   "cell_type": "markdown",
   "metadata": {},
   "source": [
    "#### 4. Create a variable called `rounds_to_win` to store the number of rounds that a player must win to win the game.\n",
    "**Hint**: the value stored in `rounds_to_win` depends on the value of `n_rounds`. "
   ]
  },
  {
   "cell_type": "code",
   "execution_count": 60,
   "metadata": {},
   "outputs": [
    {
     "data": {
      "text/plain": [
       "3"
      ]
     },
     "execution_count": 60,
     "metadata": {},
     "output_type": "execute_result"
    }
   ],
   "source": [
    "rounds_to_win = n_rounds // 2 + 1\n",
    "\n",
    "rounds_to_win"
   ]
  },
  {
   "cell_type": "markdown",
   "metadata": {},
   "source": [
    "#### 5. Create two variables to store the number of rounds that the computer and the player have won. Call these variables `cpu_score` and `player_score`."
   ]
  },
  {
   "cell_type": "code",
   "execution_count": 45,
   "metadata": {},
   "outputs": [],
   "source": [
    "cpu_score = 0\n",
    "\n",
    "player_score = 0"
   ]
  },
  {
   "cell_type": "markdown",
   "metadata": {},
   "source": [
    "#### 6. Define a function that randomly returns one of the 3 gesture options.\n",
    "You will use this function to simulate the gesture choice of the computer. "
   ]
  },
  {
   "cell_type": "code",
   "execution_count": 46,
   "metadata": {},
   "outputs": [],
   "source": [
    "def ask_cpu_ges(gestures):\n",
    "    \"\"\"\n",
    "    The function returns one of the three gesture options.\n",
    "    Arg: None.\n",
    "    Return: Random choice of one of the three (rock, paper, scissors) gestures in the gesture variable. \n",
    "    \n",
    "    \"\"\"\n",
    "    return random.choice(gestures)"
   ]
  },
  {
   "cell_type": "code",
   "execution_count": 47,
   "metadata": {},
   "outputs": [
    {
     "data": {
      "text/plain": [
       "'paper '"
      ]
     },
     "execution_count": 47,
     "metadata": {},
     "output_type": "execute_result"
    }
   ],
   "source": [
    "ask_cpu_ges(gestures)"
   ]
  },
  {
   "cell_type": "markdown",
   "metadata": {},
   "source": [
    "#### 7. Define a function that asks the player which is the gesture he or she wants to show: 'rock', 'paper' or 'scissors'.\n",
    "The player should only be allowed to choose one of the 3 gesture options. If the player's choice is not rock, paper or scissors, keep asking until it is."
   ]
  },
  {
   "cell_type": "code",
   "execution_count": 48,
   "metadata": {},
   "outputs": [],
   "source": [
    "def ask_player_ges(gestures):\n",
    "    \"\"\"\n",
    "    The function asks the user to input one of the three (rock, paper, scissors) gestures.\n",
    "    The question is repeated until one of the three is written.\n",
    "    In case the user writes in capital letters, the .lower() function is applied to the input. \n",
    "    Arg: None. \n",
    "    Return: The choice in lower cases. \n",
    "    \"\"\"\n",
    "   \n",
    "    \n",
    "    choice = input(\"Please, select rock, paper or scissors: \").lower()\n",
    "    \n",
    "    while choice not in gestures:\n",
    "        print(\"\\nPlease, choose one of the three options.\\n\")\n",
    "        choice = input(\"\\nDo you want to use rock, paper or scissors?\\n\").lower()\n",
    "    return choice"
   ]
  },
  {
   "cell_type": "code",
   "execution_count": 51,
   "metadata": {
    "scrolled": false
   },
   "outputs": [
    {
     "name": "stdout",
     "output_type": "stream",
     "text": [
      "Please, select rock, paper or scissors: paper\n"
     ]
    },
    {
     "data": {
      "text/plain": [
       "'paper'"
      ]
     },
     "execution_count": 51,
     "metadata": {},
     "output_type": "execute_result"
    }
   ],
   "source": [
    "ask_player_ges(gestures)"
   ]
  },
  {
   "cell_type": "markdown",
   "metadata": {},
   "source": [
    "#### 8. Define a function that checks who won a round. \n",
    "The function should return 0 if there is a tie, 1 if the computer wins and 2 if the player wins."
   ]
  },
  {
   "cell_type": "code",
   "execution_count": 52,
   "metadata": {},
   "outputs": [],
   "source": [
    "def check_winner(cpu, player):\n",
    "    \"\"\"\n",
    "    The function takes the choice of the cpu and the player. \n",
    "    First it checks if the value of the key selected by the cpu corresponds to what the player selected. \n",
    "    So, if cpu selects \"paper\", it takes it as the key and calls its value in rules. \n",
    "    In this example, if the value is \"rock\", the cpu wins. \n",
    "    If there are no matches, it reverses the operation. Takes what the player gave as key and checks the values.\n",
    "    Arg: Choice of the cpu, choice of the player. \n",
    "    Return: 1 if cpu wins, 2 if player wins, 0 if tie. \n",
    "    \"\"\"\n",
    "    \n",
    "    rules = {\"rock\": \"scissors\", \n",
    "            \"paper\": \"rock\", \n",
    "            \"scissors\": \"paper\"}\n",
    "    \n",
    "    if rules[cpu] == player:\n",
    "        return 1\n",
    "    elif rules[player] == cpu:\n",
    "        return 2\n",
    "    else:\n",
    "        return 0"
   ]
  },
  {
   "cell_type": "code",
   "execution_count": 53,
   "metadata": {},
   "outputs": [
    {
     "data": {
      "text/plain": [
       "2"
      ]
     },
     "execution_count": 53,
     "metadata": {},
     "output_type": "execute_result"
    }
   ],
   "source": [
    "check_winner(\"paper\", \"scissors\")"
   ]
  },
  {
   "cell_type": "markdown",
   "metadata": {},
   "source": [
    "#### 9. Define a function that prints the choice of the computer, the choice of the player and a message that announces who won the current round. \n",
    "You should also use this function to update the variables that count the number of rounds that the computer and the player have won. The score of the winner increases by one point. If there is a tie, the score does not increase."
   ]
  },
  {
   "cell_type": "code",
   "execution_count": 54,
   "metadata": {},
   "outputs": [],
   "source": [
    "def clash_result(cpu, player, player_score, cpu_score):\n",
    "    \"\"\"\n",
    "    This function takes the choices of the cpu and the player and calls the functon that checks the winner. \n",
    "    If the result is 1, it adds one point to the player_win counter (defined above) and one to the rounds. \n",
    "    If the result is 2, it adds one point to the cpu_win counter (defined above) and one to the rounds. \n",
    "    In case of a tie, it adds one point to the rounds.\n",
    "    Arg: Choice of cpu, choice of player, score of cpu, score of player \n",
    "    Return: Score of the cpu, score of the player\n",
    "    \"\"\"\n",
    "    winner = check_winner(cpu, player)\n",
    "        \n",
    "    print(f\"\\nCPU showed {cpu}.\\n\")\n",
    "    \n",
    "    print(f\"Player showed {player}.\\n\")\n",
    "    \n",
    "    if winner == 1:\n",
    "        print(\"\\nThe CPU wins this round.\\n\\n\")\n",
    "        cpu_score += 1\n",
    "    elif winner == 2:\n",
    "        print(\"\\nThe player wins this round.\\n\\n\")\n",
    "        player_score += 1\n",
    "    else:\n",
    "        print(\"\\nThere is a tie.\\n\\n\")\n",
    "          \n",
    "    return cpu_score, player_score"
   ]
  },
  {
   "cell_type": "markdown",
   "metadata": {},
   "source": [
    "#### 10. Now it's time to code the execution of the game using the functions and variables you defined above. \n",
    "\n",
    "First, create a loop structure that repeats while no player reaches the minimum score necessary to win and the number of rounds is less than the maximum number of rounds to play in a game.  \n",
    "\n",
    "Inside the loop, use the functions and variables above to create the execution of a round: ask for the player's choice, generate the random choice of the computer, show the round results, update the scores, etc. "
   ]
  },
  {
   "cell_type": "code",
   "execution_count": 62,
   "metadata": {
    "scrolled": true
   },
   "outputs": [],
   "source": [
    "rounds = 0\n",
    "\n",
    "while player_score < rounds_to_win and cpu_score < rounds_to_win and rounds < n_rounds:\n",
    "    player_choice = ask_player_ges(gestures)\n",
    "    cpu_choice = ask_cpu_ges(gestures)\n",
    "    cpu_score, player_score = clash_result(cpu_choice, player_choice, player_score, cpu_score)\n",
    "    rounds += 1"
   ]
  },
  {
   "cell_type": "markdown",
   "metadata": {},
   "source": [
    "#### 11. Print the winner of the game based on who won more rounds.\n",
    "Remember that the game might be tied. "
   ]
  },
  {
   "cell_type": "code",
   "execution_count": 56,
   "metadata": {
    "scrolled": true
   },
   "outputs": [
    {
     "name": "stdout",
     "output_type": "stream",
     "text": [
      "\n",
      "There was a tie.\n",
      "\n",
      "The result was: CPU 1 - Player 1\n"
     ]
    }
   ],
   "source": [
    "if cpu_score > player_score:\n",
    "    print(\"\\nCPU won the game.\\n\")\n",
    "elif cpu_score < player_score:\n",
    "    print(\"\\nPlayer won the game.\\n\")\n",
    "else:\n",
    "    print(\"\\nThere was a tie.\\n\")\n",
    "    \n",
    "print(f\"The result was: CPU {cpu_score} - Player {player_score}\")"
   ]
  },
  {
   "cell_type": "code",
   "execution_count": null,
   "metadata": {},
   "outputs": [],
   "source": []
  },
  {
   "cell_type": "code",
   "execution_count": 2,
   "metadata": {},
   "outputs": [],
   "source": [
    "import random"
   ]
  },
  {
   "cell_type": "code",
   "execution_count": 3,
   "metadata": {},
   "outputs": [
    {
     "name": "stdout",
     "output_type": "stream",
     "text": [
      "Please enter your gesture: rock\n",
      "Computer gesture is scissors\n",
      "Please enter your gesture: paper\n",
      "Computer gesture is rock\n",
      "Player wins\n"
     ]
    }
   ],
   "source": [
    "#Valid gestures\n",
    "gestures = ['rock', 'paper', 'scissors']\n",
    "\n",
    "max_n_rounds = 3 #max num rounds\n",
    "n_rounds = 0\n",
    "rounds_to_win = 2 #minimun number for either player to win\n",
    "\n",
    "\n",
    "cpu_score = 0 # count the score\n",
    "player_score = 0 #count the score\n",
    "\n",
    "# create the loop that repeats until no player reaches the min score & number of rounds is less than max rounds of rounds\n",
    "while player_score < rounds_to_win and cpu_score < rounds_to_win and n_rounds < max_n_rounds:\n",
    "    \n",
    "    player_gesture = input(\"Please enter your gesture: \")  \n",
    "    \n",
    "    while player_gesture not in gestures:\n",
    "        print(\"Invalid. Try again.\")\n",
    "        player_gesture = input(\"Please enter your gesture:\")\n",
    "        \n",
    "\n",
    "    cpu_gesture = random.choice(gestures)\n",
    "    print(\"Computer gesture is\", cpu_gesture)\n",
    "    \n",
    "    if player_gesture == cpu_gesture:\n",
    "        cpu_score += 0\n",
    "        player_score += 0\n",
    "    \n",
    "    elif player_gesture == 'rock' and cpu_gesture == 'scissors':\n",
    "        player_score += 1\n",
    "    \n",
    "    elif player_gesture == 'scissors' and cpu_gesture == 'paper':\n",
    "        player_score += 1\n",
    "    \n",
    "    elif player_gesture == 'paper' and cpu_gesture == 'rock':\n",
    "        player_score += 1\n",
    "    \n",
    "    else:\n",
    "        cpu_score += 1\n",
    "        \n",
    "    n_rounds += 1\n",
    "        \n",
    "    \n",
    "if cpu_score == player_score:\n",
    "    print(\"Tie\")\n",
    "    \n",
    "elif cpu_score > player_score:\n",
    "    print(\"Computer wins\")\n",
    "    \n",
    "else:\n",
    "    print(\"Player wins\")"
   ]
  },
  {
   "cell_type": "code",
   "execution_count": 4,
   "metadata": {},
   "outputs": [
    {
     "name": "stdout",
     "output_type": "stream",
     "text": [
      "\n",
      "Player won the game.\n",
      "\n",
      "The result was: CPU 0 - Player 2\n"
     ]
    }
   ],
   "source": [
    "if cpu_score > player_score:\n",
    "    print(\"\\nCPU won the game.\\n\")\n",
    "elif cpu_score < player_score:\n",
    "    print(\"\\nPlayer won the game.\\n\")\n",
    "else:\n",
    "    print(\"\\nThere was a tie.\\n\")\n",
    "    \n",
    "print(f\"The result was: CPU {cpu_score} - Player {player_score}\")"
   ]
  },
  {
   "cell_type": "code",
   "execution_count": null,
   "metadata": {},
   "outputs": [],
   "source": []
  }
 ],
 "metadata": {
  "kernelspec": {
   "display_name": "Python 3",
   "language": "python",
   "name": "python3"
  },
  "language_info": {
   "codemirror_mode": {
    "name": "ipython",
    "version": 3
   },
   "file_extension": ".py",
   "mimetype": "text/x-python",
   "name": "python",
   "nbconvert_exporter": "python",
   "pygments_lexer": "ipython3",
   "version": "3.8.5"
  }
 },
 "nbformat": 4,
 "nbformat_minor": 2
}
