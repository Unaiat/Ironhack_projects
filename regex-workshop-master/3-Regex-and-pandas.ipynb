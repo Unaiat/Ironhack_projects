{
 "cells": [
  {
   "cell_type": "markdown",
   "metadata": {},
   "source": [
    "# 3. Regex & pandas 🐻‍❄️\n",
    "3.1. Lambda & function<br />\n",
    "3.2. Apply<br />\n",
    "3.3. Hands on<br />"
   ]
  },
  {
   "cell_type": "code",
   "execution_count": 1,
   "metadata": {},
   "outputs": [],
   "source": [
    "import re\n",
    "import pandas as pd"
   ]
  },
  {
   "cell_type": "markdown",
   "metadata": {},
   "source": [
    "### 3.1. Lambdas & functions"
   ]
  },
  {
   "cell_type": "code",
   "execution_count": 2,
   "metadata": {},
   "outputs": [],
   "source": [
    "usuario = \"hola qué tal es 40.00.11.00X\""
   ]
  },
  {
   "cell_type": "code",
   "execution_count": 3,
   "metadata": {},
   "outputs": [],
   "source": [
    "pattern = r'[\\d.]+\\w$'"
   ]
  },
  {
   "cell_type": "code",
   "execution_count": 4,
   "metadata": {},
   "outputs": [
    {
     "data": {
      "text/plain": [
       "['40.00.11.00X']"
      ]
     },
     "execution_count": 4,
     "metadata": {},
     "output_type": "execute_result"
    }
   ],
   "source": [
    "eldni = re.findall(pattern, usuario)\n",
    "eldni"
   ]
  },
  {
   "cell_type": "code",
   "execution_count": 5,
   "metadata": {},
   "outputs": [
    {
     "data": {
      "text/plain": [
       "'40.00.11.00X'"
      ]
     },
     "execution_count": 5,
     "metadata": {},
     "output_type": "execute_result"
    }
   ],
   "source": [
    "entero = \"\".join(eldni)\n",
    "entero"
   ]
  },
  {
   "cell_type": "code",
   "execution_count": 6,
   "metadata": {},
   "outputs": [
    {
     "data": {
      "text/plain": [
       "'40001100X'"
      ]
     },
     "execution_count": 6,
     "metadata": {},
     "output_type": "execute_result"
    }
   ],
   "source": [
    "#using python:\n",
    "\n",
    "simbolos = [\".\", \"-\", \"*\", \"\"]\n",
    "string_entera = \"\"\n",
    "\n",
    "for i in entero:\n",
    "    if i not in simbolos:\n",
    "        string_entera += i\n",
    "\n",
    "string_entera"
   ]
  },
  {
   "cell_type": "code",
   "execution_count": null,
   "metadata": {},
   "outputs": [],
   "source": [
    "hola = entero.replace(\".\", \"\")\n",
    "hola"
   ]
  },
  {
   "cell_type": "code",
   "execution_count": null,
   "metadata": {},
   "outputs": [],
   "source": [
    "# Using regex: we can use this code in a LAMBDA expression:"
   ]
  },
  {
   "cell_type": "code",
   "execution_count": null,
   "metadata": {},
   "outputs": [],
   "source": [
    "sacandoeldni = lambda x: re.findall(r'[\\d.]+\\w$', x)"
   ]
  },
  {
   "cell_type": "code",
   "execution_count": null,
   "metadata": {},
   "outputs": [],
   "source": [
    "sacandoeldni(usuario)"
   ]
  },
  {
   "cell_type": "code",
   "execution_count": null,
   "metadata": {},
   "outputs": [],
   "source": [
    "resultado_scrapping = [\"mi DNI es 00000000A\", \"hola qué tal es 40.00.11.00X\", \"1234567E\"]"
   ]
  },
  {
   "cell_type": "code",
   "execution_count": null,
   "metadata": {},
   "outputs": [],
   "source": [
    "los_dni = list(map(sacandoeldni, resultado_scrapping))\n",
    "los_dni"
   ]
  },
  {
   "cell_type": "code",
   "execution_count": null,
   "metadata": {},
   "outputs": [],
   "source": [
    "# Or we can define a FUNCTION"
   ]
  },
  {
   "cell_type": "code",
   "execution_count": null,
   "metadata": {},
   "outputs": [],
   "source": [
    "def getDNI (x):\n",
    "    numero = x[0]\n",
    "    numero = re.sub(r'\\.', \"\", numero)\n",
    "    return numero"
   ]
  },
  {
   "cell_type": "code",
   "execution_count": null,
   "metadata": {},
   "outputs": [],
   "source": [
    "getDNI(los_dni[1])"
   ]
  },
  {
   "cell_type": "markdown",
   "metadata": {},
   "source": [
    "### 3.2. Apply"
   ]
  },
  {
   "cell_type": "code",
   "execution_count": null,
   "metadata": {},
   "outputs": [],
   "source": [
    "# We have both lambdas and functions. We can use those in a dataframe!"
   ]
  },
  {
   "cell_type": "code",
   "execution_count": null,
   "metadata": {},
   "outputs": [],
   "source": [
    "df = pd.DataFrame(resultado_scrapping) # We make a dataframe with the list \n",
    "df"
   ]
  },
  {
   "cell_type": "code",
   "execution_count": null,
   "metadata": {},
   "outputs": [],
   "source": [
    "df['DNI'] = df[df.columns[0]].apply(lambda x: re.findall(pattern, x)) # We create a new column by using apply\n",
    "df"
   ]
  },
  {
   "cell_type": "markdown",
   "metadata": {},
   "source": [
    "### 3.3. Hands on ### "
   ]
  },
  {
   "cell_type": "markdown",
   "metadata": {},
   "source": [
    "#### Nigerian prince scams ####"
   ]
  },
  {
   "cell_type": "code",
   "execution_count": null,
   "metadata": {},
   "outputs": [],
   "source": [
    "fh = open(\"data/emails.txt\", \"r\").read()"
   ]
  },
  {
   "cell_type": "code",
   "execution_count": null,
   "metadata": {},
   "outputs": [],
   "source": [
    "contents = re.split(r\"From r\", fh)"
   ]
  },
  {
   "cell_type": "code",
   "execution_count": null,
   "metadata": {},
   "outputs": [],
   "source": [
    "emails_info={\n",
    "    \n",
    "}"
   ]
  },
  {
   "cell_type": "code",
   "execution_count": null,
   "metadata": {},
   "outputs": [],
   "source": [
    "fh[:1000]"
   ]
  },
  {
   "cell_type": "code",
   "execution_count": null,
   "metadata": {},
   "outputs": [],
   "source": [
    "#info_sender\n",
    "info_sender = re.findall(r'From:.*',fh)\n",
    "info_sender[:10]"
   ]
  },
  {
   "cell_type": "code",
   "execution_count": null,
   "metadata": {},
   "outputs": [],
   "source": [
    "#sender_email\n",
    "\n",
    "emails_info['sender_email']=[]\n",
    "\n",
    "for i in info_sender:\n",
    "    res = re.findall(r\"[\\w\\.]+@[\\w\\.-]+\",i)\n",
    "    \n",
    "    if res:\n",
    "        emails_info['sender_email'].append(res[0])\n",
    "    else:\n",
    "        emails_info['sender_email'].append('')\n",
    "emails_info['sender_email'][:10]"
   ]
  },
  {
   "cell_type": "code",
   "execution_count": null,
   "metadata": {},
   "outputs": [],
   "source": [
    "#sender name\n",
    "emails_info['sender_name']=[]\n",
    "\n",
    "\n",
    "for line in info_sender:\n",
    "    res=re.findall(r\":.*<\",line)\n",
    "    if res:\n",
    "        emails_info['sender_name'].append(res[0][1:-1])\n",
    "    else:\n",
    "        emails_info['sender_name'].append('')\n",
    "emails_info['sender_name'][:10]"
   ]
  },
  {
   "cell_type": "code",
   "execution_count": null,
   "metadata": {},
   "outputs": [],
   "source": [
    "#DATES\n",
    "dates = re.findall(r\"Date:.*\",fh)\n",
    "dates[:10]"
   ]
  },
  {
   "cell_type": "code",
   "execution_count": null,
   "metadata": {},
   "outputs": [],
   "source": [
    "emails_info['date_sent']=[]\n",
    "for dat in dates:\n",
    "    res = re.findall(r\"\\d+\\s\\w{3}\\s\\d+\",dat)\n",
    "    if res:\n",
    "        emails_info['date_sent'].append(res[0])\n",
    "    else:\n",
    "        emails_info['date_sent'].append('')\n",
    "emails_info['date_sent'][:10]"
   ]
  },
  {
   "cell_type": "code",
   "execution_count": null,
   "metadata": {},
   "outputs": [],
   "source": [
    "emails_info['time_sent']=[]\n",
    "for time in dates:\n",
    "    res = re.findall(r\"\\d{2}:\\d{2}.*\\s\",time)\n",
    "    if res:\n",
    "        emails_info['time_sent'].append(res[0][:-1])\n",
    "    else:\n",
    "        emails_info['time_sent'].append('')\n",
    "emails_info['time_sent'][:10]"
   ]
  },
  {
   "cell_type": "code",
   "execution_count": null,
   "metadata": {},
   "outputs": [],
   "source": [
    "#subject\n",
    "subjects=re.findall(r\"Subject:.*\",fh)\n",
    "subjects[:10]"
   ]
  },
  {
   "cell_type": "code",
   "execution_count": null,
   "metadata": {},
   "outputs": [],
   "source": [
    "emails_info['subject']=[]\n",
    "for sub in subjects:\n",
    "    res=re.findall(r\":.*\",sub)\n",
    "    if res:\n",
    "        emails_info['subject'].append(res[0][2:])\n",
    "    else:\n",
    "        emails_info['subject'].append('')\n",
    "emails_info['subject'][:10]"
   ]
  },
  {
   "cell_type": "code",
   "execution_count": null,
   "metadata": {},
   "outputs": [],
   "source": [
    "emails_info['sender_email'][:10]"
   ]
  },
  {
   "cell_type": "code",
   "execution_count": null,
   "metadata": {},
   "outputs": [],
   "source": [
    "for k,v in emails_info.items():\n",
    "    emails_info[k]=emails_info[k][:30]"
   ]
  },
  {
   "cell_type": "code",
   "execution_count": null,
   "metadata": {
    "scrolled": true
   },
   "outputs": [],
   "source": [
    "emails_info.items()"
   ]
  },
  {
   "cell_type": "code",
   "execution_count": null,
   "metadata": {
    "scrolled": true
   },
   "outputs": [],
   "source": [
    "df = pd.DataFrame(emails_info)\n",
    "df.head(20)"
   ]
  },
  {
   "cell_type": "markdown",
   "metadata": {},
   "source": [
    "<table border=\"0\">\n",
    "\n",
    " <tr>\n",
    "    <td><img src=\"https://i.redd.it/rqq6db7xja831.png\" alt=\"meme\" style=\"width: 250px;\"/><br /></td>\n",
    " </tr>\n",
    "</table>"
   ]
  }
 ],
 "metadata": {
  "kernelspec": {
   "display_name": "Python 3",
   "language": "python",
   "name": "python3"
  },
  "language_info": {
   "codemirror_mode": {
    "name": "ipython",
    "version": 3
   },
   "file_extension": ".py",
   "mimetype": "text/x-python",
   "name": "python",
   "nbconvert_exporter": "python",
   "pygments_lexer": "ipython3",
   "version": "3.8.5"
  }
 },
 "nbformat": 4,
 "nbformat_minor": 4
}
