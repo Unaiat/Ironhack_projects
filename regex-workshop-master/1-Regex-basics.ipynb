{
 "cells": [
  {
   "cell_type": "markdown",
   "metadata": {},
   "source": [
    "# <center>REGEX</center> # \n",
    "<img src=\"https://www.oreilly.com/content/wp-content/uploads/sites/2/2019/06/email-regex_crop-ae942dc427c8cebd3a83c52d17389123.jpg\" alt=\"regex\" style=\"width: 250px;\"/>"
   ]
  },
  {
   "cell_type": "markdown",
   "metadata": {},
   "source": [
    "### 0. What is regex?\n",
    "- email\n",
    "- phone numbers\n",
    "- credit card info\n",
    "- ID's\n",
    "- dates\n",
    "- Any other kind of standarized info\n",
    "\n",
    "### 1. Regex BASICS 📚\n",
    "1.1. What <br />\n",
    "1.2. Where <br />\n",
    "1.3. How many  <br />\n",
    "1.4. Brackets and groups <br/>\n",
    "\n",
    "\n",
    "### 2. Regex in PYTHON 🐍 ####\n",
    "\n",
    "    2.1. FINDING the pattern\n",
    "        2.1.1. Search\n",
    "        2.1.2. Match\n",
    "        2.1.3. Find all\n",
    "\n",
    "\n",
    "    2.2 WORKING with the pattern\n",
    "        2.2.1. sub\n",
    "        2.2.2. split\n",
    "\n",
    "\n",
    "### 3. Regex and pandas 🐻‍❄️ ###\n",
    "3.1. Lambda & function<br />\n",
    "3.2. Apply<br />\n",
    "3.3. Hands on<br />\n"
   ]
  },
  {
   "cell_type": "markdown",
   "metadata": {},
   "source": [
    "# 1. Regex basics"
   ]
  },
  {
   "cell_type": "markdown",
   "metadata": {},
   "source": [
    "###  <center> Your new favoritebookmark: https://regex101.com/ 🤩</center>"
   ]
  },
  {
   "cell_type": "markdown",
   "metadata": {},
   "source": [
    "## 1.1. WHAT ##\n",
    "\n",
    "### characters\n",
    "\n",
    "##### capturing vs. escaping #####\n",
    "##### * (need to be escaped: \"\\d\")  #####\n",
    "\n",
    "- `.`  Any Character Except New Line\n",
    "- `\\d` Digit (0-9)\n",
    "- `\\D` Not a Digit (0-9)\n",
    "- `\\w` Word Character (a-z, A-Z, 0-9, _)\n",
    "- `\\W` Not a Word Character\n",
    "- `\\s` Whitespace (space, tab, newline)\n",
    "- `\\S` Not Whitespace (space, tab, newline)\n",
    "\n",
    "\n",
    "## 1.2. WHERE ##\n",
    "### anchors & boundaries ###\n",
    "\n",
    "- `\\b` Word Boundary\n",
    "- `\\B` Not a Word Boundary\n",
    "- `^`  Beginning of a String\n",
    "- `$` End of a String\n",
    "\n",
    "\n",
    "\n",
    "## 1.3. HOW MANY ##\n",
    "### Quantifiers\n",
    "\n",
    "- `*`       - 0 or More\n",
    "- `+`       - 1 or More\n",
    "- `?`       - 0 or One\n",
    "- `{3}`     - Exact Numbe{3}     - Exact Number\n",
    "- `{3,4}`   - Range of Numbers (Minimum, Maximum{3,4}   - Range of Numbers (Minimum, Maximum`)\n",
    "\n",
    "## 1.4. Brackets and groups ##\n",
    "\n",
    "\n",
    "- `[]`      - Matches Characters in brackets\n",
    "- `[^ ]`    - Matches Characters NOT in brackets\n",
    "- `|`       - Either Or\n",
    "- `( )`     - Group\n",
    "\n",
    "Need to be escaped: . ^ $ * + ? { } \\ | ( )"
   ]
  },
  {
   "cell_type": "markdown",
   "metadata": {},
   "source": [
    "### Sample Regexs ###\n",
    "\n",
    "[a-zA-Z0-9_.+-]+@[a-zA-Z0-9-]+\\.[a-zA-Z0-9-.]+"
   ]
  },
  {
   "cell_type": "markdown",
   "metadata": {},
   "source": [
    "### 📚 Other resources\n",
    "\n",
    "1️⃣ [The documentation](https://docs.python.org/3/howto/regex.html)<br />\n",
    "2️⃣ [Simple CHEATSHEET](https://medium.com/factory-mind/regex-tutorial-a-simple-cheatsheet-by-examples-649dc1c3f285)  <br />\n",
    "3️⃣ [Tutorial datacamp](https://www.datacamp.com/community/tutorials/python-regular-expression-tutorial)<br />\n",
    "4️⃣ https://www.dataquest.io/blog/regular-expressions-data-scientists/ <br />\n",
    "5️⃣ https://www.kaggle.com/rtatman/fraudulent-email-corpus"
   ]
  },
  {
   "cell_type": "markdown",
   "metadata": {},
   "source": [
    "### Let's practice ❗️ ###\n",
    "\n",
    "Remember to:\n",
    "- Make sure you know what you need to match\n",
    "- It does match not only the lines, but the whole content\n",
    "- Make it usable for your goals: r'.*' will necessarily match everything, try to make it somewhat specific.\n",
    "\n",
    "https://regexone.com/lesson/matching_characters?"
   ]
  }
 ],
 "metadata": {
  "kernelspec": {
   "display_name": "Python 3",
   "language": "python",
   "name": "python3"
  },
  "language_info": {
   "codemirror_mode": {
    "name": "ipython",
    "version": 3
   },
   "file_extension": ".py",
   "mimetype": "text/x-python",
   "name": "python",
   "nbconvert_exporter": "python",
   "pygments_lexer": "ipython3",
   "version": "3.9.2"
  }
 },
 "nbformat": 4,
 "nbformat_minor": 4
}
