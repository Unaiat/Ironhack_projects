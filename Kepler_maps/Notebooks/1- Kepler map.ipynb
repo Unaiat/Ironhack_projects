{
 "cells": [
  {
   "cell_type": "markdown",
   "metadata": {
    "toc": true
   },
   "source": [
    "<h1>Table of Contents<span class=\"tocSkip\"></span></h1>\n",
    "<div class=\"toc\"><ul class=\"toc-item\"><li><span><a href=\"#Libraries\" data-toc-modified-id=\"Libraries-1\"><span class=\"toc-item-num\">1&nbsp;&nbsp;</span>Libraries</a></span></li><li><span><a href=\"#Crimes-in-Nueva-York\" data-toc-modified-id=\"Crimes-in-Nueva-York-2\"><span class=\"toc-item-num\">2&nbsp;&nbsp;</span>Crimes in Nueva York</a></span><ul class=\"toc-item\"><li><span><a href=\"#Time-to-map-the-dataset\" data-toc-modified-id=\"Time-to-map-the-dataset-2.1\"><span class=\"toc-item-num\">2.1&nbsp;&nbsp;</span>Time to map the dataset</a></span><ul class=\"toc-item\"><li><span><a href=\"#Configuration\" data-toc-modified-id=\"Configuration-2.1.1\"><span class=\"toc-item-num\">2.1.1&nbsp;&nbsp;</span>Configuration</a></span></li><li><span><a href=\"#Save-the-configuration-in-.py-file\" data-toc-modified-id=\"Save-the-configuration-in-.py-file-2.1.2\"><span class=\"toc-item-num\">2.1.2&nbsp;&nbsp;</span>Save the configuration in .py file</a></span></li><li><span><a href=\"#Save-the-map\" data-toc-modified-id=\"Save-the-map-2.1.3\"><span class=\"toc-item-num\">2.1.3&nbsp;&nbsp;</span>Save the map</a></span></li></ul></li></ul></li><li><span><a href=\"#Time-series-in-Kepler\" data-toc-modified-id=\"Time-series-in-Kepler-3\"><span class=\"toc-item-num\">3&nbsp;&nbsp;</span>Time series in Kepler</a></span></li><li><span><a href=\"#Uk-movements\" data-toc-modified-id=\"Uk-movements-4\"><span class=\"toc-item-num\">4&nbsp;&nbsp;</span>Uk movements</a></span></li><li><span><a href=\"#Further-materials\" data-toc-modified-id=\"Further-materials-5\"><span class=\"toc-item-num\">5&nbsp;&nbsp;</span>Further materials</a></span></li></ul></div>"
   ]
  },
  {
   "cell_type": "markdown",
   "metadata": {},
   "source": [
    "![portada](https://miro.medium.com/max/7077/1*0l-WeqdtYRruoV_XxS-ZKg.png)"
   ]
  },
  {
   "cell_type": "markdown",
   "metadata": {},
   "source": [
    "# Libraries "
   ]
  },
  {
   "cell_type": "code",
   "execution_count": 2,
   "metadata": {
    "scrolled": true
   },
   "outputs": [],
   "source": [
    "import pandas as pd\n",
    "import geopandas as gpd\n",
    "from keplergl import KeplerGl"
   ]
  },
  {
   "cell_type": "markdown",
   "metadata": {},
   "source": [
    "# Crimes in Nueva York "
   ]
  },
  {
   "cell_type": "code",
   "execution_count": 3,
   "metadata": {},
   "outputs": [],
   "source": [
    "df = pd.read_csv(\"../Input/NYPD_Shoot_.csv\")"
   ]
  },
  {
   "cell_type": "code",
   "execution_count": null,
   "metadata": {},
   "outputs": [],
   "source": [
    "df.head()"
   ]
  },
  {
   "cell_type": "markdown",
   "metadata": {},
   "source": [
    "## Time to map the dataset"
   ]
  },
  {
   "cell_type": "markdown",
   "metadata": {},
   "source": [
    "The usual Kepler.gl workflow is as follows:\n",
    "\n",
    "    1- Add data to the map  \n",
    "    2- Create data layers  \n",
    "    3- Add filters  \n",
    "    4- Customize your map settings  \n",
    "    5- Save your map as an image and export it as a html file\n"
   ]
  },
  {
   "cell_type": "code",
   "execution_count": null,
   "metadata": {
    "scrolled": false
   },
   "outputs": [],
   "source": [
    "#Create a basemap "
   ]
  },
  {
   "cell_type": "code",
   "execution_count": 1,
   "metadata": {},
   "outputs": [],
   "source": [
    "#show the map"
   ]
  },
  {
   "cell_type": "markdown",
   "metadata": {},
   "source": [
    "### Configuration\n",
    "Each map will have a configuration file in dictionary format. We can save this configuration and work with it later without having to touch the interface again."
   ]
  },
  {
   "cell_type": "code",
   "execution_count": null,
   "metadata": {},
   "outputs": [],
   "source": [
    "# we can store the config file in a variable to modify the map configuration latter. "
   ]
  },
  {
   "cell_type": "code",
   "execution_count": null,
   "metadata": {},
   "outputs": [],
   "source": []
  },
  {
   "cell_type": "code",
   "execution_count": null,
   "metadata": {},
   "outputs": [],
   "source": [
    "# Now, we explore the different maps setting troughout the diccionar"
   ]
  },
  {
   "cell_type": "markdown",
   "metadata": {},
   "source": [
    "### Save the configuration in .py file"
   ]
  },
  {
   "cell_type": "code",
   "execution_count": null,
   "metadata": {},
   "outputs": [],
   "source": [
    "# Save map_1 config to a file"
   ]
  },
  {
   "cell_type": "code",
   "execution_count": null,
   "metadata": {
    "scrolled": false
   },
   "outputs": [],
   "source": [
    "map_2= KeplerGl(height=1000, data={'data_1': df}, config=config)\n",
    "map_2"
   ]
  },
  {
   "cell_type": "markdown",
   "metadata": {},
   "source": [
    "### Save the map "
   ]
  },
  {
   "cell_type": "code",
   "execution_count": null,
   "metadata": {},
   "outputs": [],
   "source": []
  },
  {
   "cell_type": "markdown",
   "metadata": {},
   "source": [
    "# Time series in Kepler"
   ]
  },
  {
   "cell_type": "markdown",
   "metadata": {},
   "source": [
    "Besides geospatial data, Kepler.gl’s can handle **spatiotemporal** data and add time playbacks to visualize data evolution over time. This is enabled by the “filters” concept in Kepler.gl. "
   ]
  },
  {
   "cell_type": "markdown",
   "metadata": {},
   "source": [
    "For this example we are going to use a database of taxi movements in New York. The objective is to represent all the taxi movements in this city throughout the day. You can download the dateset [here](https://www1.nyc.gov/site/tlc/about/tlc-trip-record-data.page)"
   ]
  },
  {
   "cell_type": "code",
   "execution_count": null,
   "metadata": {},
   "outputs": [],
   "source": [
    "df_1 = pd.read_csv(\"../Input/nytrips.csv\")\n",
    "df_1.head()"
   ]
  },
  {
   "cell_type": "markdown",
   "metadata": {},
   "source": [
    "##### To add data to the map, also we can use the add_data method. \n",
    "   > **1-** Load a basemap with the `height` and `width` parameters \n",
    "    \n",
    "   > **2-** Use the `add_data` method. In this method we need to specify:  \n",
    "        - data ==> the target dataframe  \n",
    "        - name ==> the map's name  \n",
    "        \n",
    " ⚠️ If we want to add a config file, it would be included in the basemap code ⚠️"
   ]
  },
  {
   "cell_type": "code",
   "execution_count": null,
   "metadata": {},
   "outputs": [],
   "source": [
    "#create a map"
   ]
  },
  {
   "cell_type": "code",
   "execution_count": null,
   "metadata": {
    "scrolled": true
   },
   "outputs": [],
   "source": []
  },
  {
   "cell_type": "markdown",
   "metadata": {},
   "source": [
    "# Uk movements\n",
    "\n",
    "In this example we will see the commute patterns in th UK. A origin destination map using 3D **arcs** to show commute patterns of Emgland and Wales residence. \n",
    "\n",
    "Also,  we will see how to use the brush parameter. With this parameter we will establish a radius that will act as a filter. Placing the mouse over a point will only return the data that is within the radius that we have specified."
   ]
  },
  {
   "cell_type": "code",
   "execution_count": null,
   "metadata": {},
   "outputs": [],
   "source": [
    "df_2= pd.read_csv(\"../Input/uk_mov.csv\")\n",
    "df_2.head()"
   ]
  },
  {
   "cell_type": "code",
   "execution_count": null,
   "metadata": {},
   "outputs": [],
   "source": [
    "# create the basemap and add the data"
   ]
  },
  {
   "cell_type": "code",
   "execution_count": null,
   "metadata": {
    "scrolled": false
   },
   "outputs": [],
   "source": [
    "map_2"
   ]
  },
  {
   "cell_type": "code",
   "execution_count": null,
   "metadata": {},
   "outputs": [],
   "source": [
    "# Save map_2 config to a file\n"
   ]
  },
  {
   "cell_type": "code",
   "execution_count": null,
   "metadata": {},
   "outputs": [],
   "source": [
    "# Save the map in html format\n",
    "map_2.save_to_html(file_name = \"uk_mov_2.html\", read_only = False)"
   ]
  },
  {
   "cell_type": "markdown",
   "metadata": {},
   "source": [
    "# Further materials"
   ]
  },
  {
   "cell_type": "markdown",
   "metadata": {},
   "source": [
    "https://leadr-msu.github.io/kepler-gl/  \n",
    "https://github.com/heshan0131/kepler.gl\n",
    "https://towardsdatascience.com/4d-data-visualization-with-kepler-gl-b6bd6dd90451"
   ]
  },
  {
   "cell_type": "code",
   "execution_count": null,
   "metadata": {},
   "outputs": [],
   "source": []
  }
 ],
 "metadata": {
  "kernelspec": {
   "display_name": "Python 3",
   "language": "python",
   "name": "python3"
  },
  "language_info": {
   "codemirror_mode": {
    "name": "ipython",
    "version": 3
   },
   "file_extension": ".py",
   "mimetype": "text/x-python",
   "name": "python",
   "nbconvert_exporter": "python",
   "pygments_lexer": "ipython3",
   "version": "3.8.5"
  },
  "toc": {
   "base_numbering": 1,
   "nav_menu": {},
   "number_sections": true,
   "sideBar": true,
   "skip_h1_title": false,
   "title_cell": "Table of Contents",
   "title_sidebar": "Contents",
   "toc_cell": true,
   "toc_position": {},
   "toc_section_display": true,
   "toc_window_display": false
  },
  "varInspector": {
   "cols": {
    "lenName": 16,
    "lenType": 16,
    "lenVar": 40
   },
   "kernels_config": {
    "python": {
     "delete_cmd_postfix": "",
     "delete_cmd_prefix": "del ",
     "library": "var_list.py",
     "varRefreshCmd": "print(var_dic_list())"
    },
    "r": {
     "delete_cmd_postfix": ") ",
     "delete_cmd_prefix": "rm(",
     "library": "var_list.r",
     "varRefreshCmd": "cat(var_dic_list()) "
    }
   },
   "position": {
    "height": "716px",
    "left": "1550px",
    "right": "20px",
    "top": "120px",
    "width": "350px"
   },
   "types_to_exclude": [
    "module",
    "function",
    "builtin_function_or_method",
    "instance",
    "_Feature"
   ],
   "window_display": false
  }
 },
 "nbformat": 4,
 "nbformat_minor": 5
}
