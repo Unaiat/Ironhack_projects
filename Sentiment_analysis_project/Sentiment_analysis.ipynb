{
 "cells": [
  {
   "cell_type": "code",
   "execution_count": 1,
   "metadata": {},
   "outputs": [],
   "source": [
    "import pandas as pd\n",
    "import requests\n",
    "import json\n",
    "import seaborn as sns\n",
    "import matplotlib.pyplot as plt\n",
    "import nltk\n",
    "from nltk.sentiment.vader import SentimentIntensityAnalyzer\n",
    "from nltk.tokenize import RegexpTokenizer\n",
    "from nltk.corpus import stopwords\n",
    "from textblob import TextBlob\n",
    "from textblob import TextBlob\n",
    "import spacy\n",
    "from spacy import displacy"
   ]
  },
  {
   "cell_type": "markdown",
   "metadata": {},
   "source": [
    "## Getting the info from the API"
   ]
  },
  {
   "cell_type": "code",
   "execution_count": 2,
   "metadata": {},
   "outputs": [],
   "source": [
    "def get_info(name):\n",
    "    \"\"\"\n",
    "    This function makes a request to The_simpsons database. \n",
    "    Arg: Name of the character to get the phrases from. \n",
    "    Returns: A dataframe with the phrases \n",
    "    \"\"\"\n",
    "    url = f\"http://0.0.0.0:5000/phrases/{name}\"\n",
    "    phrases = requests.get(url)\n",
    "    json = phrases.json()\n",
    "    df = pd.DataFrame(json)\n",
    "    return df"
   ]
  },
  {
   "cell_type": "code",
   "execution_count": 3,
   "metadata": {},
   "outputs": [],
   "source": [
    "df_simpsons = pd.concat(\n",
    "    [get_info(\"Homer Simpson\"),\n",
    "     get_info(\"Marge Simpson\"), \n",
    "     get_info(\"Bart Simpson\"),\n",
    "     get_info(\"Lisa Simpson\"),\n",
    "     get_info(\"Maggie Simpson\"),\n",
    "    ])"
   ]
  },
  {
   "cell_type": "code",
   "execution_count": 4,
   "metadata": {},
   "outputs": [
    {
     "data": {
      "text/html": [
       "<div>\n",
       "<style scoped>\n",
       "    .dataframe tbody tr th:only-of-type {\n",
       "        vertical-align: middle;\n",
       "    }\n",
       "\n",
       "    .dataframe tbody tr th {\n",
       "        vertical-align: top;\n",
       "    }\n",
       "\n",
       "    .dataframe thead th {\n",
       "        text-align: right;\n",
       "    }\n",
       "</style>\n",
       "<table border=\"1\" class=\"dataframe\">\n",
       "  <thead>\n",
       "    <tr style=\"text-align: right;\">\n",
       "      <th></th>\n",
       "      <th>character_id</th>\n",
       "      <th>phrase</th>\n",
       "      <th>name</th>\n",
       "    </tr>\n",
       "  </thead>\n",
       "  <tbody>\n",
       "    <tr>\n",
       "      <th>0</th>\n",
       "      <td>2</td>\n",
       "      <td>But... but...</td>\n",
       "      <td>Homer Simpson</td>\n",
       "    </tr>\n",
       "    <tr>\n",
       "      <th>1</th>\n",
       "      <td>2</td>\n",
       "      <td>Wait a minute...</td>\n",
       "      <td>Homer Simpson</td>\n",
       "    </tr>\n",
       "    <tr>\n",
       "      <th>2</th>\n",
       "      <td>2</td>\n",
       "      <td>Santa?</td>\n",
       "      <td>Homer Simpson</td>\n",
       "    </tr>\n",
       "    <tr>\n",
       "      <th>3</th>\n",
       "      <td>2</td>\n",
       "      <td>But...</td>\n",
       "      <td>Homer Simpson</td>\n",
       "    </tr>\n",
       "    <tr>\n",
       "      <th>4</th>\n",
       "      <td>2</td>\n",
       "      <td>Ah, son. One day you're gonna know the satisfa...</td>\n",
       "      <td>Homer Simpson</td>\n",
       "    </tr>\n",
       "    <tr>\n",
       "      <th>...</th>\n",
       "      <td>...</td>\n",
       "      <td>...</td>\n",
       "      <td>...</td>\n",
       "    </tr>\n",
       "    <tr>\n",
       "      <th>6</th>\n",
       "      <td>105</td>\n",
       "      <td>Very well. I'll drive.</td>\n",
       "      <td>Maggie Simpson</td>\n",
       "    </tr>\n",
       "    <tr>\n",
       "      <th>7</th>\n",
       "      <td>105</td>\n",
       "      <td>I need blood.</td>\n",
       "      <td>Maggie Simpson</td>\n",
       "    </tr>\n",
       "    <tr>\n",
       "      <th>8</th>\n",
       "      <td>105</td>\n",
       "      <td>Throughout the ages, the finger painter, the P...</td>\n",
       "      <td>Maggie Simpson</td>\n",
       "    </tr>\n",
       "    <tr>\n",
       "      <th>9</th>\n",
       "      <td>105</td>\n",
       "      <td>/</td>\n",
       "      <td>Maggie Simpson</td>\n",
       "    </tr>\n",
       "    <tr>\n",
       "      <th>10</th>\n",
       "      <td>105</td>\n",
       "      <td>/</td>\n",
       "      <td>Maggie Simpson</td>\n",
       "    </tr>\n",
       "  </tbody>\n",
       "</table>\n",
       "<p>65448 rows × 3 columns</p>\n",
       "</div>"
      ],
      "text/plain": [
       "    character_id                                             phrase  \\\n",
       "0              2                                      But... but...   \n",
       "1              2                                   Wait a minute...   \n",
       "2              2                                             Santa?   \n",
       "3              2                                             But...   \n",
       "4              2  Ah, son. One day you're gonna know the satisfa...   \n",
       "..           ...                                                ...   \n",
       "6            105                             Very well. I'll drive.   \n",
       "7            105                                      I need blood.   \n",
       "8            105  Throughout the ages, the finger painter, the P...   \n",
       "9            105                                                  /   \n",
       "10           105                                                  /   \n",
       "\n",
       "              name  \n",
       "0    Homer Simpson  \n",
       "1    Homer Simpson  \n",
       "2    Homer Simpson  \n",
       "3    Homer Simpson  \n",
       "4    Homer Simpson  \n",
       "..             ...  \n",
       "6   Maggie Simpson  \n",
       "7   Maggie Simpson  \n",
       "8   Maggie Simpson  \n",
       "9   Maggie Simpson  \n",
       "10  Maggie Simpson  \n",
       "\n",
       "[65448 rows x 3 columns]"
      ]
     },
     "execution_count": 4,
     "metadata": {},
     "output_type": "execute_result"
    }
   ],
   "source": [
    "df_simpsons"
   ]
  },
  {
   "cell_type": "markdown",
   "metadata": {},
   "source": [
    "## Tokenization"
   ]
  },
  {
   "cell_type": "code",
   "execution_count": 5,
   "metadata": {},
   "outputs": [],
   "source": [
    "def tokenize (string):\n",
    "    tokenizer = RegexpTokenizer(r'\\w+')\n",
    "    tokens = tokenizer.tokenize(string)\n",
    "    return tokens"
   ]
  },
  {
   "cell_type": "code",
   "execution_count": 6,
   "metadata": {},
   "outputs": [],
   "source": [
    "df_simpsons['phrase_tokenization'] = df_simpsons['phrase'].apply(tokenize)"
   ]
  },
  {
   "cell_type": "code",
   "execution_count": 7,
   "metadata": {},
   "outputs": [
    {
     "data": {
      "text/html": [
       "<div>\n",
       "<style scoped>\n",
       "    .dataframe tbody tr th:only-of-type {\n",
       "        vertical-align: middle;\n",
       "    }\n",
       "\n",
       "    .dataframe tbody tr th {\n",
       "        vertical-align: top;\n",
       "    }\n",
       "\n",
       "    .dataframe thead th {\n",
       "        text-align: right;\n",
       "    }\n",
       "</style>\n",
       "<table border=\"1\" class=\"dataframe\">\n",
       "  <thead>\n",
       "    <tr style=\"text-align: right;\">\n",
       "      <th></th>\n",
       "      <th>character_id</th>\n",
       "      <th>phrase</th>\n",
       "      <th>name</th>\n",
       "      <th>phrase_tokenization</th>\n",
       "    </tr>\n",
       "  </thead>\n",
       "  <tbody>\n",
       "    <tr>\n",
       "      <th>0</th>\n",
       "      <td>2</td>\n",
       "      <td>But... but...</td>\n",
       "      <td>Homer Simpson</td>\n",
       "      <td>But but</td>\n",
       "    </tr>\n",
       "    <tr>\n",
       "      <th>1</th>\n",
       "      <td>2</td>\n",
       "      <td>Wait a minute...</td>\n",
       "      <td>Homer Simpson</td>\n",
       "      <td>Wait a minute</td>\n",
       "    </tr>\n",
       "    <tr>\n",
       "      <th>2</th>\n",
       "      <td>2</td>\n",
       "      <td>Santa?</td>\n",
       "      <td>Homer Simpson</td>\n",
       "      <td>Santa</td>\n",
       "    </tr>\n",
       "    <tr>\n",
       "      <th>3</th>\n",
       "      <td>2</td>\n",
       "      <td>But...</td>\n",
       "      <td>Homer Simpson</td>\n",
       "      <td>But</td>\n",
       "    </tr>\n",
       "    <tr>\n",
       "      <th>4</th>\n",
       "      <td>2</td>\n",
       "      <td>Ah, son. One day you're gonna know the satisfa...</td>\n",
       "      <td>Homer Simpson</td>\n",
       "      <td>Ah son One day you re gonna know the satisfact...</td>\n",
       "    </tr>\n",
       "  </tbody>\n",
       "</table>\n",
       "</div>"
      ],
      "text/plain": [
       "   character_id                                             phrase  \\\n",
       "0             2                                      But... but...   \n",
       "1             2                                   Wait a minute...   \n",
       "2             2                                             Santa?   \n",
       "3             2                                             But...   \n",
       "4             2  Ah, son. One day you're gonna know the satisfa...   \n",
       "\n",
       "            name                                phrase_tokenization  \n",
       "0  Homer Simpson                                            But but  \n",
       "1  Homer Simpson                                      Wait a minute  \n",
       "2  Homer Simpson                                              Santa  \n",
       "3  Homer Simpson                                                But  \n",
       "4  Homer Simpson  Ah son One day you re gonna know the satisfact...  "
      ]
     },
     "execution_count": 7,
     "metadata": {},
     "output_type": "execute_result"
    }
   ],
   "source": [
    "df_simpsons[\"phrase_tokenization\"] = df_simpsons[\"phrase_tokenization\"].apply(lambda x: ' '.join(x))\n",
    "df_simpsons.head()"
   ]
  },
  {
   "cell_type": "markdown",
   "metadata": {},
   "source": [
    "## Translation"
   ]
  },
  {
   "cell_type": "markdown",
   "metadata": {},
   "source": [
    "In this case I do not need to translate it, as the database was already in English."
   ]
  },
  {
   "cell_type": "markdown",
   "metadata": {},
   "source": [
    "## Stop words"
   ]
  },
  {
   "cell_type": "code",
   "execution_count": 8,
   "metadata": {},
   "outputs": [
    {
     "name": "stderr",
     "output_type": "stream",
     "text": [
      "[nltk_data] Downloading package stopwords to /Users/unai/nltk_data...\n",
      "[nltk_data]   Package stopwords is already up-to-date!\n"
     ]
    },
    {
     "data": {
      "text/plain": [
       "True"
      ]
     },
     "execution_count": 8,
     "metadata": {},
     "output_type": "execute_result"
    }
   ],
   "source": [
    "nltk.download('stopwords')"
   ]
  },
  {
   "cell_type": "code",
   "execution_count": 9,
   "metadata": {},
   "outputs": [
    {
     "name": "stderr",
     "output_type": "stream",
     "text": [
      "[nltk_data] Downloading package vader_lexicon to\n",
      "[nltk_data]     /Users/unai/nltk_data...\n",
      "[nltk_data]   Package vader_lexicon is already up-to-date!\n"
     ]
    },
    {
     "data": {
      "text/plain": [
       "True"
      ]
     },
     "execution_count": 9,
     "metadata": {},
     "output_type": "execute_result"
    }
   ],
   "source": [
    "nltk.downloader.download('vader_lexicon')"
   ]
  },
  {
   "cell_type": "markdown",
   "metadata": {},
   "source": [
    "## Sentiment Analysis"
   ]
  },
  {
   "cell_type": "code",
   "execution_count": 10,
   "metadata": {},
   "outputs": [],
   "source": [
    "def sentimentAnalysis(sentence):\n",
    "    sia = SentimentIntensityAnalyzer()\n",
    "    polarity = sia.polarity_scores(sentence)\n",
    "    pol = polarity['compound']\n",
    "    return pol"
   ]
  },
  {
   "cell_type": "code",
   "execution_count": 11,
   "metadata": {},
   "outputs": [],
   "source": [
    "df_simpsons['sentiment analysis'] = df_simpsons[\"phrase_tokenization\"].apply(sentimentAnalysis)"
   ]
  },
  {
   "cell_type": "code",
   "execution_count": 12,
   "metadata": {},
   "outputs": [],
   "source": [
    "df_simpsons2 = df_simpsons.groupby(['name'], as_index=False).mean()"
   ]
  },
  {
   "cell_type": "code",
   "execution_count": 5,
   "metadata": {},
   "outputs": [
    {
     "ename": "NameError",
     "evalue": "name 'df_simpsons2' is not defined",
     "output_type": "error",
     "traceback": [
      "\u001b[0;31m---------------------------------------------------------------------------\u001b[0m",
      "\u001b[0;31mNameError\u001b[0m                                 Traceback (most recent call last)",
      "\u001b[0;32m<ipython-input-5-1be068e68512>\u001b[0m in \u001b[0;36m<module>\u001b[0;34m\u001b[0m\n\u001b[0;32m----> 1\u001b[0;31m \u001b[0mdf_simpsons2\u001b[0m\u001b[0;34m\u001b[0m\u001b[0;34m\u001b[0m\u001b[0m\n\u001b[0m",
      "\u001b[0;31mNameError\u001b[0m: name 'df_simpsons2' is not defined"
     ]
    }
   ],
   "source": [
    "df_simpsons2"
   ]
  },
  {
   "cell_type": "code",
   "execution_count": 14,
   "metadata": {},
   "outputs": [
    {
     "data": {
      "image/png": "[encoded data removed]",
      "text/plain": [
       "<Figure size 864x360 with 1 Axes>"
      ]
     },
     "metadata": {
      "needs_background": "light"
     },
     "output_type": "display_data"
    }
   ],
   "source": [
    "fig, ax = plt.subplots(1, 1,  figsize = (12,5))\n",
    "simpsons_graph = sns.barplot(x = \"name\", y = \"sentiment analysis\", data = df_simpsons2)"
   ]
  },
  {
   "cell_type": "code",
   "execution_count": 15,
   "metadata": {},
   "outputs": [],
   "source": [
    "fig.savefig(\"./images/simpsons_barplot.svg\")"
   ]
  },
  {
   "cell_type": "code",
   "execution_count": 16,
   "metadata": {},
   "outputs": [],
   "source": [
    "fig.savefig(\"./images/simpsons_barplot2.png\")"
   ]
  },
  {
   "cell_type": "code",
   "execution_count": 17,
   "metadata": {
    "scrolled": false
   },
   "outputs": [
    {
     "name": "stderr",
     "output_type": "stream",
     "text": [
      "/Users/unai/opt/anaconda3/lib/python3.8/site-packages/seaborn/_decorators.py:36: FutureWarning: Pass the following variable as a keyword arg: x. From version 0.12, the only valid positional argument will be `data`, and passing other arguments without an explicit keyword will result in an error or misinterpretation.\n",
      "  warnings.warn(\n"
     ]
    },
    {
     "data": {
      "image/png": "[encoded data removed]",
      "text/plain": [
       "<Figure size 864x360 with 1 Axes>"
      ]
     },
     "metadata": {
      "needs_background": "light"
     },
     "output_type": "display_data"
    }
   ],
   "source": [
    "fig2, ax = plt.subplots(1, 1,  figsize = (12,5))\n",
    "simpsons_boxplot = sns.boxplot(df_simpsons2['sentiment analysis'])"
   ]
  },
  {
   "cell_type": "code",
   "execution_count": 18,
   "metadata": {},
   "outputs": [],
   "source": [
    "fig2.savefig(\"./images/simpsons_boxplot.svg\")"
   ]
  },
  {
   "cell_type": "markdown",
   "metadata": {},
   "source": [
    "#### Test with characters expected to be negative"
   ]
  },
  {
   "cell_type": "code",
   "execution_count": 19,
   "metadata": {},
   "outputs": [],
   "source": [
    "df_negative_characters = pd.concat([\n",
    "    get_info(\"Moe Szyslak\"),\n",
    "    get_info(\"Krusty the Clown\"), \n",
    "    get_info(\"Selma Bouvier\"),\n",
    "    get_info(\"C. Montgomery Burns\"),\n",
    "    get_info(\"Edna Krabappel-Flanders\"),\n",
    "]\n",
    ")"
   ]
  },
  {
   "cell_type": "code",
   "execution_count": 20,
   "metadata": {
    "scrolled": false
   },
   "outputs": [
    {
     "data": {
      "text/html": [
       "<div>\n",
       "<style scoped>\n",
       "    .dataframe tbody tr th:only-of-type {\n",
       "        vertical-align: middle;\n",
       "    }\n",
       "\n",
       "    .dataframe tbody tr th {\n",
       "        vertical-align: top;\n",
       "    }\n",
       "\n",
       "    .dataframe thead th {\n",
       "        text-align: right;\n",
       "    }\n",
       "</style>\n",
       "<table border=\"1\" class=\"dataframe\">\n",
       "  <thead>\n",
       "    <tr style=\"text-align: right;\">\n",
       "      <th></th>\n",
       "      <th>character_id</th>\n",
       "      <th>phrase</th>\n",
       "      <th>name</th>\n",
       "    </tr>\n",
       "  </thead>\n",
       "  <tbody>\n",
       "    <tr>\n",
       "      <th>0</th>\n",
       "      <td>17</td>\n",
       "      <td>So it's Christmas!</td>\n",
       "      <td>Moe Szyslak</td>\n",
       "    </tr>\n",
       "    <tr>\n",
       "      <th>1</th>\n",
       "      <td>17</td>\n",
       "      <td>What's the matter, Homer? Somebody leave a lum...</td>\n",
       "      <td>Moe Szyslak</td>\n",
       "    </tr>\n",
       "    <tr>\n",
       "      <th>2</th>\n",
       "      <td>17</td>\n",
       "      <td>No, sorry.</td>\n",
       "      <td>Moe Szyslak</td>\n",
       "    </tr>\n",
       "    <tr>\n",
       "      <th>3</th>\n",
       "      <td>17</td>\n",
       "      <td>I don't think you're ever going to get another...</td>\n",
       "      <td>Moe Szyslak</td>\n",
       "    </tr>\n",
       "    <tr>\n",
       "      <th>4</th>\n",
       "      <td>17</td>\n",
       "      <td>Don't worry, we're still friends.</td>\n",
       "      <td>Moe Szyslak</td>\n",
       "    </tr>\n",
       "    <tr>\n",
       "      <th>...</th>\n",
       "      <td>...</td>\n",
       "      <td>...</td>\n",
       "      <td>...</td>\n",
       "    </tr>\n",
       "    <tr>\n",
       "      <th>755</th>\n",
       "      <td>40</td>\n",
       "      <td>Now don't forget, this is the first exam under...</td>\n",
       "      <td>Edna Krabappel-Flanders</td>\n",
       "    </tr>\n",
       "    <tr>\n",
       "      <th>756</th>\n",
       "      <td>40</td>\n",
       "      <td>Now don't forget, this is the first exam under...</td>\n",
       "      <td>Edna Krabappel-Flanders</td>\n",
       "    </tr>\n",
       "    <tr>\n",
       "      <th>757</th>\n",
       "      <td>40</td>\n",
       "      <td>Quick! Get a picture for the yearbook!</td>\n",
       "      <td>Edna Krabappel-Flanders</td>\n",
       "    </tr>\n",
       "    <tr>\n",
       "      <th>758</th>\n",
       "      <td>40</td>\n",
       "      <td>Ned! Ha!</td>\n",
       "      <td>Edna Krabappel-Flanders</td>\n",
       "    </tr>\n",
       "    <tr>\n",
       "      <th>759</th>\n",
       "      <td>40</td>\n",
       "      <td>Hey, I let you pay for those boys' 'skipping l...</td>\n",
       "      <td>Edna Krabappel-Flanders</td>\n",
       "    </tr>\n",
       "  </tbody>\n",
       "</table>\n",
       "<p>8957 rows × 3 columns</p>\n",
       "</div>"
      ],
      "text/plain": [
       "     character_id                                             phrase  \\\n",
       "0              17                                 So it's Christmas!   \n",
       "1              17  What's the matter, Homer? Somebody leave a lum...   \n",
       "2              17                                         No, sorry.   \n",
       "3              17  I don't think you're ever going to get another...   \n",
       "4              17                  Don't worry, we're still friends.   \n",
       "..            ...                                                ...   \n",
       "755            40  Now don't forget, this is the first exam under...   \n",
       "756            40  Now don't forget, this is the first exam under...   \n",
       "757            40             Quick! Get a picture for the yearbook!   \n",
       "758            40                                           Ned! Ha!   \n",
       "759            40  Hey, I let you pay for those boys' 'skipping l...   \n",
       "\n",
       "                        name  \n",
       "0                Moe Szyslak  \n",
       "1                Moe Szyslak  \n",
       "2                Moe Szyslak  \n",
       "3                Moe Szyslak  \n",
       "4                Moe Szyslak  \n",
       "..                       ...  \n",
       "755  Edna Krabappel-Flanders  \n",
       "756  Edna Krabappel-Flanders  \n",
       "757  Edna Krabappel-Flanders  \n",
       "758  Edna Krabappel-Flanders  \n",
       "759  Edna Krabappel-Flanders  \n",
       "\n",
       "[8957 rows x 3 columns]"
      ]
     },
     "execution_count": 20,
     "metadata": {},
     "output_type": "execute_result"
    }
   ],
   "source": [
    "df_negative_characters"
   ]
  },
  {
   "cell_type": "code",
   "execution_count": 21,
   "metadata": {},
   "outputs": [],
   "source": [
    "df_negative_characters['phrase_tokenization'] = df_negative_characters['phrase'].apply(tokenize)"
   ]
  },
  {
   "cell_type": "code",
   "execution_count": 22,
   "metadata": {},
   "outputs": [
    {
     "data": {
      "text/html": [
       "<div>\n",
       "<style scoped>\n",
       "    .dataframe tbody tr th:only-of-type {\n",
       "        vertical-align: middle;\n",
       "    }\n",
       "\n",
       "    .dataframe tbody tr th {\n",
       "        vertical-align: top;\n",
       "    }\n",
       "\n",
       "    .dataframe thead th {\n",
       "        text-align: right;\n",
       "    }\n",
       "</style>\n",
       "<table border=\"1\" class=\"dataframe\">\n",
       "  <thead>\n",
       "    <tr style=\"text-align: right;\">\n",
       "      <th></th>\n",
       "      <th>character_id</th>\n",
       "      <th>phrase</th>\n",
       "      <th>name</th>\n",
       "      <th>phrase_tokenization</th>\n",
       "    </tr>\n",
       "  </thead>\n",
       "  <tbody>\n",
       "    <tr>\n",
       "      <th>0</th>\n",
       "      <td>17</td>\n",
       "      <td>So it's Christmas!</td>\n",
       "      <td>Moe Szyslak</td>\n",
       "      <td>So it s Christmas</td>\n",
       "    </tr>\n",
       "    <tr>\n",
       "      <th>1</th>\n",
       "      <td>17</td>\n",
       "      <td>What's the matter, Homer? Somebody leave a lum...</td>\n",
       "      <td>Moe Szyslak</td>\n",
       "      <td>What s the matter Homer Somebody leave a lumpa...</td>\n",
       "    </tr>\n",
       "    <tr>\n",
       "      <th>2</th>\n",
       "      <td>17</td>\n",
       "      <td>No, sorry.</td>\n",
       "      <td>Moe Szyslak</td>\n",
       "      <td>No sorry</td>\n",
       "    </tr>\n",
       "    <tr>\n",
       "      <th>3</th>\n",
       "      <td>17</td>\n",
       "      <td>I don't think you're ever going to get another...</td>\n",
       "      <td>Moe Szyslak</td>\n",
       "      <td>I don t think you re ever going to get another...</td>\n",
       "    </tr>\n",
       "    <tr>\n",
       "      <th>4</th>\n",
       "      <td>17</td>\n",
       "      <td>Don't worry, we're still friends.</td>\n",
       "      <td>Moe Szyslak</td>\n",
       "      <td>Don t worry we re still friends</td>\n",
       "    </tr>\n",
       "  </tbody>\n",
       "</table>\n",
       "</div>"
      ],
      "text/plain": [
       "   character_id                                             phrase  \\\n",
       "0            17                                 So it's Christmas!   \n",
       "1            17  What's the matter, Homer? Somebody leave a lum...   \n",
       "2            17                                         No, sorry.   \n",
       "3            17  I don't think you're ever going to get another...   \n",
       "4            17                  Don't worry, we're still friends.   \n",
       "\n",
       "          name                                phrase_tokenization  \n",
       "0  Moe Szyslak                                  So it s Christmas  \n",
       "1  Moe Szyslak  What s the matter Homer Somebody leave a lumpa...  \n",
       "2  Moe Szyslak                                           No sorry  \n",
       "3  Moe Szyslak  I don t think you re ever going to get another...  \n",
       "4  Moe Szyslak                    Don t worry we re still friends  "
      ]
     },
     "execution_count": 22,
     "metadata": {},
     "output_type": "execute_result"
    }
   ],
   "source": [
    "df_negative_characters[\"phrase_tokenization\"] = df_negative_characters[\"phrase_tokenization\"].apply(lambda x: ' '.join(x))\n",
    "df_negative_characters.head()"
   ]
  },
  {
   "cell_type": "code",
   "execution_count": 23,
   "metadata": {},
   "outputs": [],
   "source": [
    "df_negative_characters['sentiment analysis'] = df_negative_characters[\"phrase_tokenization\"].apply(sentimentAnalysis)"
   ]
  },
  {
   "cell_type": "code",
   "execution_count": 24,
   "metadata": {},
   "outputs": [],
   "source": [
    "df_negative_characters2 = df_negative_characters.groupby(['name'], as_index=False).mean()"
   ]
  },
  {
   "cell_type": "code",
   "execution_count": 25,
   "metadata": {},
   "outputs": [
    {
     "data": {
      "text/html": [
       "<div>\n",
       "<style scoped>\n",
       "    .dataframe tbody tr th:only-of-type {\n",
       "        vertical-align: middle;\n",
       "    }\n",
       "\n",
       "    .dataframe tbody tr th {\n",
       "        vertical-align: top;\n",
       "    }\n",
       "\n",
       "    .dataframe thead th {\n",
       "        text-align: right;\n",
       "    }\n",
       "</style>\n",
       "<table border=\"1\" class=\"dataframe\">\n",
       "  <thead>\n",
       "    <tr style=\"text-align: right;\">\n",
       "      <th></th>\n",
       "      <th>name</th>\n",
       "      <th>character_id</th>\n",
       "      <th>sentiment analysis</th>\n",
       "    </tr>\n",
       "  </thead>\n",
       "  <tbody>\n",
       "    <tr>\n",
       "      <th>0</th>\n",
       "      <td>C. Montgomery Burns</td>\n",
       "      <td>15</td>\n",
       "      <td>0.106830</td>\n",
       "    </tr>\n",
       "    <tr>\n",
       "      <th>1</th>\n",
       "      <td>Edna Krabappel-Flanders</td>\n",
       "      <td>40</td>\n",
       "      <td>0.115444</td>\n",
       "    </tr>\n",
       "    <tr>\n",
       "      <th>2</th>\n",
       "      <td>Krusty the Clown</td>\n",
       "      <td>139</td>\n",
       "      <td>0.091594</td>\n",
       "    </tr>\n",
       "    <tr>\n",
       "      <th>3</th>\n",
       "      <td>Moe Szyslak</td>\n",
       "      <td>17</td>\n",
       "      <td>0.092721</td>\n",
       "    </tr>\n",
       "    <tr>\n",
       "      <th>4</th>\n",
       "      <td>Selma Bouvier</td>\n",
       "      <td>22</td>\n",
       "      <td>0.077971</td>\n",
       "    </tr>\n",
       "  </tbody>\n",
       "</table>\n",
       "</div>"
      ],
      "text/plain": [
       "                      name  character_id  sentiment analysis\n",
       "0      C. Montgomery Burns            15            0.106830\n",
       "1  Edna Krabappel-Flanders            40            0.115444\n",
       "2         Krusty the Clown           139            0.091594\n",
       "3              Moe Szyslak            17            0.092721\n",
       "4            Selma Bouvier            22            0.077971"
      ]
     },
     "execution_count": 25,
     "metadata": {},
     "output_type": "execute_result"
    }
   ],
   "source": [
    "df_negative_characters2"
   ]
  },
  {
   "cell_type": "code",
   "execution_count": 26,
   "metadata": {},
   "outputs": [
    {
     "data": {
      "image/png": "[encoded data removed]",
      "text/plain": [
       "<Figure size 864x360 with 1 Axes>"
      ]
     },
     "metadata": {
      "needs_background": "light"
     },
     "output_type": "display_data"
    }
   ],
   "source": [
    "fig3, ax = plt.subplots(1, 1,  figsize = (12,5))\n",
    "negative_character_barplot = sns.barplot(x = \"name\", y = \"sentiment analysis\", data = df_negative_characters2)"
   ]
  },
  {
   "cell_type": "code",
   "execution_count": 27,
   "metadata": {},
   "outputs": [],
   "source": [
    "fig3.savefig(\"./images/negative_barplot.svg\")"
   ]
  },
  {
   "cell_type": "code",
   "execution_count": 28,
   "metadata": {},
   "outputs": [],
   "source": [
    "fig3.savefig(\"./images/negative_barplot2.png\")"
   ]
  },
  {
   "cell_type": "code",
   "execution_count": 29,
   "metadata": {},
   "outputs": [
    {
     "name": "stderr",
     "output_type": "stream",
     "text": [
      "/Users/unai/opt/anaconda3/lib/python3.8/site-packages/seaborn/_decorators.py:36: FutureWarning: Pass the following variable as a keyword arg: x. From version 0.12, the only valid positional argument will be `data`, and passing other arguments without an explicit keyword will result in an error or misinterpretation.\n",
      "  warnings.warn(\n"
     ]
    },
    {
     "data": {
      "image/png": "[encoded data removed]",
      "text/plain": [
       "<Figure size 864x360 with 1 Axes>"
      ]
     },
     "metadata": {
      "needs_background": "light"
     },
     "output_type": "display_data"
    }
   ],
   "source": [
    "fig4, ax = plt.subplots(1, 1,  figsize = (12,5))\n",
    "negative_character_boxplot = sns.boxplot(df_negative_characters2['sentiment analysis'])"
   ]
  },
  {
   "cell_type": "code",
   "execution_count": 30,
   "metadata": {},
   "outputs": [],
   "source": [
    "fig4.savefig(\"./images/negative_boxplot.svg\")"
   ]
  },
  {
   "cell_type": "code",
   "execution_count": 14,
   "metadata": {},
   "outputs": [],
   "source": [
    "lista = [\"Ana\", \"Homer\", \"Lisa\", \"Bart\", \"Maggie\"]"
   ]
  },
  {
   "cell_type": "code",
   "execution_count": 15,
   "metadata": {},
   "outputs": [],
   "source": [
    "def drop_columns(*args):\n",
    "    for i in args:\n",
    "        print(i)"
   ]
  },
  {
   "cell_type": "code",
   "execution_count": 16,
   "metadata": {},
   "outputs": [
    {
     "name": "stdout",
     "output_type": "stream",
     "text": [
      "['Ana', 'Homer', 'Lisa', 'Bart', 'Maggie']\n"
     ]
    }
   ],
   "source": [
    "drop_columns(lista)"
   ]
  },
  {
   "cell_type": "code",
   "execution_count": null,
   "metadata": {},
   "outputs": [],
   "source": []
  }
 ],
 "metadata": {
  "kernelspec": {
   "display_name": "Python 3",
   "language": "python",
   "name": "python3"
  },
  "language_info": {
   "codemirror_mode": {
    "name": "ipython",
    "version": 3
   },
   "file_extension": ".py",
   "mimetype": "text/x-python",
   "name": "python",
   "nbconvert_exporter": "python",
   "pygments_lexer": "ipython3",
   "version": "3.8.5"
  }
 },
 "nbformat": 4,
 "nbformat_minor": 4
}
