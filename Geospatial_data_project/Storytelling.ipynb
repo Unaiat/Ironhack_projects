{
 "cells": [
  {
   "cell_type": "markdown",
   "metadata": {},
   "source": [
    "## 1. Which is the best location for my company? "
   ]
  },
  {
   "cell_type": "markdown",
   "metadata": {},
   "source": [
    "The first challenge of the project was to decide how to narrow locations to analyze to three, which would be a realistic number for us to analyze. \n",
    "\n",
    "We were given two main specifications for the search in the database: The location had to be close to tech-related companies that raised more than 1 million USD. \n",
    "\n",
    "Instead of directly making a query to the database to get companies that filled these criteria, I decided to do the search in three european cities: London, Berlin and Madrid. \n",
    "\n",
    "The reason to select the three cities was their ranking in the [Europe’s biggest startup hubs in 2020](https://www.eu-startups.com/2020/11/top-30-europes-biggest-startup-hubs-in-2020/) in EU startups. \n",
    "\n",
    "Once the cities where selected, I did the query to check the types of companies that were stored in the database. In order to have a more visual idea, I created a DataFrame and plotted the result:"
   ]
  },
  {
   "cell_type": "markdown",
   "metadata": {},
   "source": [
    "<img width=1000 src=\"images/companies_london.png\">"
   ]
  },
  {
   "cell_type": "markdown",
   "metadata": {},
   "source": [
    "This was repeated with Paris and Berlin, but I show the example of London, as there I selected the point with the highest score. \n",
    "\n",
    "The graph was useful to confirm that there are plenty of companies related with technology in London. \n",
    "\n",
    "I filtered the results eliminating the non-relevant ones, and made a map in which I located all the companies. "
   ]
  },
  {
   "cell_type": "markdown",
   "metadata": {},
   "source": [
    "<img width=1000 src=\"images/london_map.png\">"
   ]
  },
  {
   "cell_type": "markdown",
   "metadata": {},
   "source": [
    "It can be seen that most of them are located in two main groups, which are quite close. \n",
    "\n",
    "Ideally, I would look for office buildings to rent or buy in that area. But due to lack of time, we have to imagine that one of the companies was vacant and use that location for the queries. \n",
    "\n",
    "The one in blue is the company I selected. "
   ]
  },
  {
   "cell_type": "markdown",
   "metadata": {},
   "source": [
    "I made queries to the Foursquare API to check how many venues where near the selected location. These are the selected venues:\n",
    "\n",
    "- Starbucks \n",
    "- Schools \n",
    "- Theaters \n",
    "- Basketball stadiums \n",
    "- Restaurants \n",
    "- Cinemas\n",
    "- Nightlife locations\n",
    "- Gyms or fitness centers"
   ]
  },
  {
   "cell_type": "markdown",
   "metadata": {},
   "source": [
    "All the responses from the API were saved as json files and added as collections into a MongoDB database. Then, I did some geoqueries to see how many of each were close to the locations. \n",
    "\n",
    "Once the results of the geoqueries were stored in DataFrames, I made a point system to create a score for each location. \n",
    "\n",
    "Each of the eight categories received an amout of points (summing 10), depending on the importance. This was based on my own criteria. \n",
    "\n",
    "Then, each of the categories was divided in four, with a different fraction of the points of the category for each part. \n",
    "\n",
    "- Starbucks = 1.25\n",
    "- Schools = 2.25\n",
    "- Theaters = 1\n",
    "- Basketball stadiums = 0.5\n",
    "- Restaurants = 1.25\n",
    "- Cinemas = 1\n",
    "- Nightlife locations = 1.5\n",
    "- Gyms or fitness centers = 1.25\n",
    "\n",
    "For example, with Starbucks:\n",
    "\n",
    "If the amout of Starbucks is 0, it would receive 0 points. \n",
    "\n",
    "If it is between 1 and 10, it will get a value of 0.5 from the total 1.25. \n",
    "\n",
    "If it is between 10 and 20, it will receive 1. \n",
    "\n",
    "Lastly, it the amount is higher it will get the total 1.25 on that category. \n",
    "\n",
    "The amounts were decided for each category, checking the maximum values on the three cities. They can be adapted for new cities if necessary. \n",
    "\n",
    "Finally, to select the location with the highest score I made a function that checked the length of each of the dataframes in the three cities, and calculate the points for each one. "
   ]
  },
  {
   "cell_type": "markdown",
   "metadata": {},
   "source": [
    "The location in London was the one with the highest score (8.35), followed by the one in Berlin (6.5), and the one in Paris (5.5). "
   ]
  },
  {
   "cell_type": "code",
   "execution_count": null,
   "metadata": {},
   "outputs": [],
   "source": []
  }
 ],
 "metadata": {
  "kernelspec": {
   "display_name": "Python 3",
   "language": "python",
   "name": "python3"
  },
  "language_info": {
   "codemirror_mode": {
    "name": "ipython",
    "version": 3
   },
   "file_extension": ".py",
   "mimetype": "text/x-python",
   "name": "python",
   "nbconvert_exporter": "python",
   "pygments_lexer": "ipython3",
   "version": "3.8.5"
  }
 },
 "nbformat": 4,
 "nbformat_minor": 4
}
