{
 "cells": [
  {
   "cell_type": "markdown",
   "metadata": {},
   "source": [
    "# Storytelling"
   ]
  },
  {
   "cell_type": "markdown",
   "metadata": {},
   "source": [
    "For my second project in IronHack I decided to make an analysis of the scoring in the NBA, focusing specially on the most payed players. \n",
    "\n",
    "Offense has gained more and more importance in basketball, with the proliferation of the three point shooting and high scoring games. Players are getting more skilled and the rules make it more difficult for the difense to stop the opposing players. \n",
    "\n",
    "The most interesting graph from my analysis, is this one bellow. It shows the career point average of the players with the highest salaries in the 2019-2020 season. \n",
    "\n",
    "It is noteworthy how after 2012, six of the ten players scored over 20 points, and on 2020 the lowest scoring average was 15 points. "
   ]
  },
  {
   "cell_type": "markdown",
   "metadata": {},
   "source": [
    "<img width=800 src=\"images/avg_points.png\">"
   ]
  },
  {
   "cell_type": "markdown",
   "metadata": {},
   "source": [
    "To have an overall perspective of how much players score in the league, I created five histograms showing the distribution of players by point average. \n",
    "\n",
    "This one is from the last season, and shows how the mayority of the players found themselves among the low scorers, while the players scoring over 20 points are scarce. "
   ]
  },
  {
   "cell_type": "markdown",
   "metadata": {},
   "source": [
    "<img width=600 src=\"images/distribution_2019.svg\">"
   ]
  },
  {
   "cell_type": "markdown",
   "metadata": {},
   "source": [
    "To get a more specific view, I decided to analyze the scoring of LeBron James. I selected him because he is among the players with higher salaries (seventh with $37,436,858 on that year) and because he was the best player in the best team, the 2019-2020 chanpions Los Angeles Lakers. "
   ]
  },
  {
   "cell_type": "markdown",
   "metadata": {},
   "source": [
    "<img width=800 src=\"images/lebron_points.svg\">"
   ]
  },
  {
   "cell_type": "markdown",
   "metadata": {},
   "source": [
    "From the 67 games he played, he scored 29 and 25 points 7 times, 31 and 23 six times and 32, 28, 21 and 20, five times. On the other hand, his lowest scoring game was one with 10 points. \n",
    "\n",
    "On the analysis I created a dataframe that shows the points he scored on each game of the season, alongside with the final score and the date. "
   ]
  },
  {
   "cell_type": "markdown",
   "metadata": {},
   "source": [
    "I understand that basketball is much more than offense, and that a player cannot be valued only by his scoring abilities. \n",
    "\n",
    "The aim of this small project was to look into the value of the scoring in the actual NBA. As it was an individual project (the second I've ever done) carried out on one weekend, it has a very limited scope. \n",
    "\n",
    "However, after the bootcamp it could be something I can work on improving, improving the code and the analysis. "
   ]
  },
  {
   "cell_type": "code",
   "execution_count": null,
   "metadata": {},
   "outputs": [],
   "source": []
  }
 ],
 "metadata": {
  "kernelspec": {
   "display_name": "Python 3",
   "language": "python",
   "name": "python3"
  },
  "language_info": {
   "codemirror_mode": {
    "name": "ipython",
    "version": 3
   },
   "file_extension": ".py",
   "mimetype": "text/x-python",
   "name": "python",
   "nbconvert_exporter": "python",
   "pygments_lexer": "ipython3",
   "version": "3.8.5"
  }
 },
 "nbformat": 4,
 "nbformat_minor": 4
}
