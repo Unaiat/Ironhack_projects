{
 "cells": [
  {
   "cell_type": "markdown",
   "metadata": {},
   "source": [
    "### Import the necessary libraries for the project"
   ]
  },
  {
   "cell_type": "code",
   "execution_count": 1,
   "metadata": {},
   "outputs": [],
   "source": [
    "import pandas as pd\n",
    "import re\n",
    "import numpy as np\n",
    "import seaborn as sns\n",
    "import matplotlib.pyplot as plt\n",
    "import src.limpieza_texto as lt\n",
    "import src.visualizacion as vi"
   ]
  },
  {
   "cell_type": "markdown",
   "metadata": {},
   "source": [
    "### Open the dataset"
   ]
  },
  {
   "cell_type": "code",
   "execution_count": 2,
   "metadata": {},
   "outputs": [],
   "source": [
    "data = pd.read_csv(\"Data/data_cleaned.csv\",encoding = \"ISO-8859-1\")"
   ]
  },
  {
   "cell_type": "code",
   "execution_count": 3,
   "metadata": {},
   "outputs": [],
   "source": [
    "# Create a copy of the dataframe\n",
    "df = data.copy()"
   ]
  },
  {
   "cell_type": "code",
   "execution_count": 4,
   "metadata": {},
   "outputs": [
    {
     "data": {
      "text/plain": [
       "(6302, 16)"
      ]
     },
     "execution_count": 4,
     "metadata": {},
     "output_type": "execute_result"
    }
   ],
   "source": [
    "# Check the number of rows and columns \n",
    "df.shape"
   ]
  },
  {
   "cell_type": "markdown",
   "metadata": {},
   "source": [
    "## 1. Are sex and age factors that influence the possibility of an incident with a shark?"
   ]
  },
  {
   "cell_type": "markdown",
   "metadata": {},
   "source": [
    "### 1st Hypothesis: Men have more susceptible of having an incident with a shark\n",
    "\n",
    "### 2nd Hypothesis:  Boys and young men have more incidents with sharks\n",
    "\n",
    "### 3rd Hypothesis: Young men have more fatal incidents with sharks"
   ]
  },
  {
   "cell_type": "markdown",
   "metadata": {},
   "source": [
    "In order to get the necessary data to answer the question and check if the hypotheses are true, I will clean the 'Sex', 'Type' and 'Fatal (Y/N) Columns."
   ]
  },
  {
   "cell_type": "markdown",
   "metadata": {},
   "source": [
    "### Cleaning the sex columns"
   ]
  },
  {
   "cell_type": "markdown",
   "metadata": {},
   "source": [
    "The column name Sex has a space after the name. \n",
    "\n",
    "I will change the name deleting the space."
   ]
  },
  {
   "cell_type": "code",
   "execution_count": 5,
   "metadata": {},
   "outputs": [],
   "source": [
    "df.rename(columns = {'Sex ':'Sex'}, inplace = True)"
   ]
  },
  {
   "cell_type": "markdown",
   "metadata": {},
   "source": [
    "There are four additional categories besides the 'M' and 'F', that have to be replaced. \n",
    "\n",
    "As the amount of data to replace is small and we need to check it one by one to see if we can get the sex, I will do it manually. "
   ]
  },
  {
   "cell_type": "code",
   "execution_count": 6,
   "metadata": {},
   "outputs": [
    {
     "data": {
      "text/plain": [
       "M      5094\n",
       "F       637\n",
       "M         2\n",
       "N         2\n",
       "lli       1\n",
       ".         1\n",
       "Name: Sex, dtype: int64"
      ]
     },
     "execution_count": 6,
     "metadata": {},
     "output_type": "execute_result"
    }
   ],
   "source": [
    "df['Sex'].value_counts()"
   ]
  },
  {
   "cell_type": "markdown",
   "metadata": {},
   "source": [
    "I will check if the name is included in each of the rows, to know if I can categorize them or "
   ]
  },
  {
   "cell_type": "code",
   "execution_count": 7,
   "metadata": {},
   "outputs": [
    {
     "data": {
      "text/html": [
       "<div>\n",
       "<style scoped>\n",
       "    .dataframe tbody tr th:only-of-type {\n",
       "        vertical-align: middle;\n",
       "    }\n",
       "\n",
       "    .dataframe tbody tr th {\n",
       "        vertical-align: top;\n",
       "    }\n",
       "\n",
       "    .dataframe thead th {\n",
       "        text-align: right;\n",
       "    }\n",
       "</style>\n",
       "<table border=\"1\" class=\"dataframe\">\n",
       "  <thead>\n",
       "    <tr style=\"text-align: right;\">\n",
       "      <th></th>\n",
       "      <th>Case Number</th>\n",
       "      <th>Date</th>\n",
       "      <th>Year</th>\n",
       "      <th>Type</th>\n",
       "      <th>Country</th>\n",
       "      <th>Area</th>\n",
       "      <th>Location</th>\n",
       "      <th>Activity</th>\n",
       "      <th>Name</th>\n",
       "      <th>Sex</th>\n",
       "      <th>Age</th>\n",
       "      <th>Injury</th>\n",
       "      <th>Fatal (Y/N)</th>\n",
       "      <th>Time</th>\n",
       "      <th>Species</th>\n",
       "      <th>Investigator or Source</th>\n",
       "    </tr>\n",
       "  </thead>\n",
       "  <tbody>\n",
       "    <tr>\n",
       "      <th>4938</th>\n",
       "      <td>1934.07.11</td>\n",
       "      <td>11-Jul-1934</td>\n",
       "      <td>1934.0</td>\n",
       "      <td>Boating</td>\n",
       "      <td>AUSTRALIA</td>\n",
       "      <td>New South Wales</td>\n",
       "      <td>Cronulla</td>\n",
       "      <td>Fishing</td>\n",
       "      <td>18' boat, occupants William &amp; Leslie Newton</td>\n",
       "      <td>N</td>\n",
       "      <td>NaN</td>\n",
       "      <td>No injury to occupants Sharks continually foll...</td>\n",
       "      <td>N</td>\n",
       "      <td>NaN</td>\n",
       "      <td>Blue pointer, 11'</td>\n",
       "      <td>G.P. Whitley, ref: Daily Telegraph, 7/11/1934 ...</td>\n",
       "    </tr>\n",
       "    <tr>\n",
       "      <th>6131</th>\n",
       "      <td>1801.12.18.R</td>\n",
       "      <td>Reported 18-Dec-1801</td>\n",
       "      <td>1801.0</td>\n",
       "      <td>Provoked</td>\n",
       "      <td>NaN</td>\n",
       "      <td>NaN</td>\n",
       "      <td>NaN</td>\n",
       "      <td>Standing on landed shark's tail</td>\n",
       "      <td>Stephen Pettigew</td>\n",
       "      <td>N</td>\n",
       "      <td>NaN</td>\n",
       "      <td>FATAL, PROVOKED INCIDENT</td>\n",
       "      <td>Y</td>\n",
       "      <td>NaN</td>\n",
       "      <td>12' shark</td>\n",
       "      <td>The Evening Post, 12/18/1801</td>\n",
       "    </tr>\n",
       "  </tbody>\n",
       "</table>\n",
       "</div>"
      ],
      "text/plain": [
       "       Case Number                  Date    Year      Type    Country  \\\n",
       "4938    1934.07.11           11-Jul-1934  1934.0   Boating  AUSTRALIA   \n",
       "6131  1801.12.18.R  Reported 18-Dec-1801  1801.0  Provoked        NaN   \n",
       "\n",
       "                 Area  Location                         Activity  \\\n",
       "4938  New South Wales  Cronulla                          Fishing   \n",
       "6131              NaN       NaN  Standing on landed shark's tail   \n",
       "\n",
       "                                             Name Sex  Age  \\\n",
       "4938  18' boat, occupants William & Leslie Newton   N  NaN   \n",
       "6131                             Stephen Pettigew   N  NaN   \n",
       "\n",
       "                                                 Injury Fatal (Y/N) Time  \\\n",
       "4938  No injury to occupants Sharks continually foll...           N  NaN   \n",
       "6131                           FATAL, PROVOKED INCIDENT           Y  NaN   \n",
       "\n",
       "                Species                              Investigator or Source  \n",
       "4938  Blue pointer, 11'   G.P. Whitley, ref: Daily Telegraph, 7/11/1934 ...  \n",
       "6131           12' shark                       The Evening Post, 12/18/1801  "
      ]
     },
     "execution_count": 7,
     "metadata": {},
     "output_type": "execute_result"
    }
   ],
   "source": [
    "df.loc[df['Sex'] == 'N']"
   ]
  },
  {
   "cell_type": "markdown",
   "metadata": {},
   "source": [
    "In the row 6131 I can change the sex from 'N' to 'M', because we have the name.\n",
    "First I will make sure that this is the only entry with that name. "
   ]
  },
  {
   "cell_type": "code",
   "execution_count": 8,
   "metadata": {
    "scrolled": true
   },
   "outputs": [
    {
     "data": {
      "text/html": [
       "<div>\n",
       "<style scoped>\n",
       "    .dataframe tbody tr th:only-of-type {\n",
       "        vertical-align: middle;\n",
       "    }\n",
       "\n",
       "    .dataframe tbody tr th {\n",
       "        vertical-align: top;\n",
       "    }\n",
       "\n",
       "    .dataframe thead th {\n",
       "        text-align: right;\n",
       "    }\n",
       "</style>\n",
       "<table border=\"1\" class=\"dataframe\">\n",
       "  <thead>\n",
       "    <tr style=\"text-align: right;\">\n",
       "      <th></th>\n",
       "      <th>Case Number</th>\n",
       "      <th>Date</th>\n",
       "      <th>Year</th>\n",
       "      <th>Type</th>\n",
       "      <th>Country</th>\n",
       "      <th>Area</th>\n",
       "      <th>Location</th>\n",
       "      <th>Activity</th>\n",
       "      <th>Name</th>\n",
       "      <th>Sex</th>\n",
       "      <th>Age</th>\n",
       "      <th>Injury</th>\n",
       "      <th>Fatal (Y/N)</th>\n",
       "      <th>Time</th>\n",
       "      <th>Species</th>\n",
       "      <th>Investigator or Source</th>\n",
       "    </tr>\n",
       "  </thead>\n",
       "  <tbody>\n",
       "    <tr>\n",
       "      <th>6131</th>\n",
       "      <td>1801.12.18.R</td>\n",
       "      <td>Reported 18-Dec-1801</td>\n",
       "      <td>1801.0</td>\n",
       "      <td>Provoked</td>\n",
       "      <td>NaN</td>\n",
       "      <td>NaN</td>\n",
       "      <td>NaN</td>\n",
       "      <td>Standing on landed shark's tail</td>\n",
       "      <td>Stephen Pettigew</td>\n",
       "      <td>N</td>\n",
       "      <td>NaN</td>\n",
       "      <td>FATAL, PROVOKED INCIDENT</td>\n",
       "      <td>Y</td>\n",
       "      <td>NaN</td>\n",
       "      <td>12' shark</td>\n",
       "      <td>The Evening Post, 12/18/1801</td>\n",
       "    </tr>\n",
       "  </tbody>\n",
       "</table>\n",
       "</div>"
      ],
      "text/plain": [
       "       Case Number                  Date    Year      Type Country Area  \\\n",
       "6131  1801.12.18.R  Reported 18-Dec-1801  1801.0  Provoked     NaN  NaN   \n",
       "\n",
       "     Location                         Activity              Name Sex  Age  \\\n",
       "6131      NaN  Standing on landed shark's tail  Stephen Pettigew   N  NaN   \n",
       "\n",
       "                        Injury Fatal (Y/N) Time   Species   \\\n",
       "6131  FATAL, PROVOKED INCIDENT           Y  NaN  12' shark   \n",
       "\n",
       "            Investigator or Source  \n",
       "6131  The Evening Post, 12/18/1801  "
      ]
     },
     "execution_count": 8,
     "metadata": {},
     "output_type": "execute_result"
    }
   ],
   "source": [
    "df.loc[df['Name'] == 'Stephen Pettigew']"
   ]
  },
  {
   "cell_type": "markdown",
   "metadata": {},
   "source": [
    "Then I will correct it. "
   ]
  },
  {
   "cell_type": "code",
   "execution_count": 9,
   "metadata": {
    "scrolled": true
   },
   "outputs": [],
   "source": [
    "df.loc[data['Name'].str.contains('Stephen Pettigew', case = False, na = False), 'Sex'] = 'M'"
   ]
  },
  {
   "cell_type": "markdown",
   "metadata": {},
   "source": [
    "Now I will check the rest of the entries with the wrong category. "
   ]
  },
  {
   "cell_type": "code",
   "execution_count": 10,
   "metadata": {
    "scrolled": true
   },
   "outputs": [
    {
     "data": {
      "text/html": [
       "<div>\n",
       "<style scoped>\n",
       "    .dataframe tbody tr th:only-of-type {\n",
       "        vertical-align: middle;\n",
       "    }\n",
       "\n",
       "    .dataframe tbody tr th {\n",
       "        vertical-align: top;\n",
       "    }\n",
       "\n",
       "    .dataframe thead th {\n",
       "        text-align: right;\n",
       "    }\n",
       "</style>\n",
       "<table border=\"1\" class=\"dataframe\">\n",
       "  <thead>\n",
       "    <tr style=\"text-align: right;\">\n",
       "      <th></th>\n",
       "      <th>Case Number</th>\n",
       "      <th>Date</th>\n",
       "      <th>Year</th>\n",
       "      <th>Type</th>\n",
       "      <th>Country</th>\n",
       "      <th>Area</th>\n",
       "      <th>Location</th>\n",
       "      <th>Activity</th>\n",
       "      <th>Name</th>\n",
       "      <th>Sex</th>\n",
       "      <th>Age</th>\n",
       "      <th>Injury</th>\n",
       "      <th>Fatal (Y/N)</th>\n",
       "      <th>Time</th>\n",
       "      <th>Species</th>\n",
       "      <th>Investigator or Source</th>\n",
       "    </tr>\n",
       "  </thead>\n",
       "  <tbody>\n",
       "    <tr>\n",
       "      <th>563</th>\n",
       "      <td>2014.04.22</td>\n",
       "      <td>22-Apr-2014</td>\n",
       "      <td>2014.0</td>\n",
       "      <td>Unprovoked</td>\n",
       "      <td>USA</td>\n",
       "      <td>Florida</td>\n",
       "      <td>Cocoa Beach, Brevard  County</td>\n",
       "      <td>Swimming</td>\n",
       "      <td>male</td>\n",
       "      <td>M</td>\n",
       "      <td>42</td>\n",
       "      <td>Laceration &amp; puncture wounds to right foot</td>\n",
       "      <td>N</td>\n",
       "      <td>15h30</td>\n",
       "      <td>NaN</td>\n",
       "      <td>R. Neale, Florida Today, 4/22/2014</td>\n",
       "    </tr>\n",
       "    <tr>\n",
       "      <th>1587</th>\n",
       "      <td>2005.05.15</td>\n",
       "      <td>15-May-2005</td>\n",
       "      <td>2005.0</td>\n",
       "      <td>Unprovoked</td>\n",
       "      <td>AUSTRALIA</td>\n",
       "      <td>Queensland</td>\n",
       "      <td>50 km east of Townsville</td>\n",
       "      <td>Spearfishing</td>\n",
       "      <td>Ben Edelstein</td>\n",
       "      <td>M</td>\n",
       "      <td>NaN</td>\n",
       "      <td>Severe injury to lower leg</td>\n",
       "      <td>N</td>\n",
       "      <td>NaN</td>\n",
       "      <td>Blacktip shark</td>\n",
       "      <td>J. Anderson, Townsville Bulletin, 5/21/2005</td>\n",
       "    </tr>\n",
       "    <tr>\n",
       "      <th>1624</th>\n",
       "      <td>2004.11.11.b</td>\n",
       "      <td>11-Nov-2004</td>\n",
       "      <td>2004.0</td>\n",
       "      <td>Unprovoked</td>\n",
       "      <td>USA</td>\n",
       "      <td>California</td>\n",
       "      <td>Bunkers, Humboldt Bay, Eureka, Humboldt County</td>\n",
       "      <td>Surfing</td>\n",
       "      <td>Brian Kang</td>\n",
       "      <td>lli</td>\n",
       "      <td>38</td>\n",
       "      <td>Lacerations to hand, knee &amp; thigh</td>\n",
       "      <td>N</td>\n",
       "      <td>13h30</td>\n",
       "      <td>5.5 m [18'] white shark</td>\n",
       "      <td>R. Collier, GSAF</td>\n",
       "    </tr>\n",
       "    <tr>\n",
       "      <th>4938</th>\n",
       "      <td>1934.07.11</td>\n",
       "      <td>11-Jul-1934</td>\n",
       "      <td>1934.0</td>\n",
       "      <td>Boating</td>\n",
       "      <td>AUSTRALIA</td>\n",
       "      <td>New South Wales</td>\n",
       "      <td>Cronulla</td>\n",
       "      <td>Fishing</td>\n",
       "      <td>18' boat, occupants William &amp; Leslie Newton</td>\n",
       "      <td>N</td>\n",
       "      <td>NaN</td>\n",
       "      <td>No injury to occupants Sharks continually foll...</td>\n",
       "      <td>N</td>\n",
       "      <td>NaN</td>\n",
       "      <td>Blue pointer, 11'</td>\n",
       "      <td>G.P. Whitley, ref: Daily Telegraph, 7/11/1934 ...</td>\n",
       "    </tr>\n",
       "    <tr>\n",
       "      <th>5437</th>\n",
       "      <td>1908.06.02.R</td>\n",
       "      <td>Reported 02-Jun-1908</td>\n",
       "      <td>1908.0</td>\n",
       "      <td>Sea Disaster</td>\n",
       "      <td>PAPUA NEW GUINEA</td>\n",
       "      <td>New Britain</td>\n",
       "      <td>Matupi</td>\n",
       "      <td>.</td>\n",
       "      <td>NaN</td>\n",
       "      <td>.</td>\n",
       "      <td>NaN</td>\n",
       "      <td>Remains of 3 humans recovered from shark, but ...</td>\n",
       "      <td>Y</td>\n",
       "      <td>NaN</td>\n",
       "      <td>Allegedly a 33-foot shark</td>\n",
       "      <td>Taranaki Herald, 6/2/1908</td>\n",
       "    </tr>\n",
       "  </tbody>\n",
       "</table>\n",
       "</div>"
      ],
      "text/plain": [
       "       Case Number                  Date    Year          Type  \\\n",
       "563     2014.04.22           22-Apr-2014  2014.0    Unprovoked   \n",
       "1587    2005.05.15           15-May-2005  2005.0    Unprovoked   \n",
       "1624  2004.11.11.b           11-Nov-2004  2004.0    Unprovoked   \n",
       "4938    1934.07.11           11-Jul-1934  1934.0       Boating   \n",
       "5437  1908.06.02.R  Reported 02-Jun-1908  1908.0  Sea Disaster   \n",
       "\n",
       "               Country             Area  \\\n",
       "563                USA          Florida   \n",
       "1587         AUSTRALIA       Queensland   \n",
       "1624               USA       California   \n",
       "4938         AUSTRALIA  New South Wales   \n",
       "5437  PAPUA NEW GUINEA      New Britain   \n",
       "\n",
       "                                            Location      Activity  \\\n",
       "563                     Cocoa Beach, Brevard  County      Swimming   \n",
       "1587                        50 km east of Townsville  Spearfishing   \n",
       "1624  Bunkers, Humboldt Bay, Eureka, Humboldt County       Surfing   \n",
       "4938                                        Cronulla       Fishing   \n",
       "5437                                          Matupi             .   \n",
       "\n",
       "                                             Name  Sex  Age  \\\n",
       "563                                          male   M    42   \n",
       "1587                                Ben Edelstein   M   NaN   \n",
       "1624                                   Brian Kang  lli   38   \n",
       "4938  18' boat, occupants William & Leslie Newton    N  NaN   \n",
       "5437                                          NaN    .  NaN   \n",
       "\n",
       "                                                 Injury Fatal (Y/N)   Time  \\\n",
       "563          Laceration & puncture wounds to right foot           N  15h30   \n",
       "1587                         Severe injury to lower leg           N    NaN   \n",
       "1624                 Lacerations to hand, knee & thigh            N  13h30   \n",
       "4938  No injury to occupants Sharks continually foll...           N    NaN   \n",
       "5437  Remains of 3 humans recovered from shark, but ...           Y    NaN   \n",
       "\n",
       "                       Species   \\\n",
       "563                         NaN   \n",
       "1587             Blacktip shark   \n",
       "1624    5.5 m [18'] white shark   \n",
       "4938         Blue pointer, 11'    \n",
       "5437  Allegedly a 33-foot shark   \n",
       "\n",
       "                                 Investigator or Source  \n",
       "563                  R. Neale, Florida Today, 4/22/2014  \n",
       "1587       J. Anderson, Townsville Bulletin, 5/21/2005   \n",
       "1624                   R. Collier, GSAF                  \n",
       "4938  G.P. Whitley, ref: Daily Telegraph, 7/11/1934 ...  \n",
       "5437                          Taranaki Herald, 6/2/1908  "
      ]
     },
     "execution_count": 10,
     "metadata": {},
     "output_type": "execute_result"
    }
   ],
   "source": [
    "df.loc[(df['Sex'] == 'N') | (df['Sex'] == 'lli') | (df['Sex'] == '.') | (df['Sex'] == 'M ')]"
   ]
  },
  {
   "cell_type": "code",
   "execution_count": 11,
   "metadata": {},
   "outputs": [
    {
     "data": {
      "text/plain": [
       "Case Number                                               2014.04.22\n",
       "Date                                                     22-Apr-2014\n",
       "Year                                                            2014\n",
       "Type                                                      Unprovoked\n",
       "Country                                                          USA\n",
       "Area                                                         Florida\n",
       "Location                                Cocoa Beach, Brevard  County\n",
       "Activity                                                    Swimming\n",
       "Name                                                            male\n",
       "Sex                                                               M \n",
       "Age                                                               42\n",
       "Injury                    Laceration & puncture wounds to right foot\n",
       "Fatal (Y/N)                                                        N\n",
       "Time                                                           15h30\n",
       "Species                                                          NaN\n",
       "Investigator or Source            R. Neale, Florida Today, 4/22/2014\n",
       "Name: 563, dtype: object"
      ]
     },
     "execution_count": 11,
     "metadata": {},
     "output_type": "execute_result"
    }
   ],
   "source": [
    "df.iloc[563]"
   ]
  },
  {
   "cell_type": "markdown",
   "metadata": {},
   "source": [
    "This one I found it because he is the only one registered with this injury"
   ]
  },
  {
   "cell_type": "code",
   "execution_count": 12,
   "metadata": {
    "scrolled": true
   },
   "outputs": [
    {
     "data": {
      "text/html": [
       "<div>\n",
       "<style scoped>\n",
       "    .dataframe tbody tr th:only-of-type {\n",
       "        vertical-align: middle;\n",
       "    }\n",
       "\n",
       "    .dataframe tbody tr th {\n",
       "        vertical-align: top;\n",
       "    }\n",
       "\n",
       "    .dataframe thead th {\n",
       "        text-align: right;\n",
       "    }\n",
       "</style>\n",
       "<table border=\"1\" class=\"dataframe\">\n",
       "  <thead>\n",
       "    <tr style=\"text-align: right;\">\n",
       "      <th></th>\n",
       "      <th>Case Number</th>\n",
       "      <th>Date</th>\n",
       "      <th>Year</th>\n",
       "      <th>Type</th>\n",
       "      <th>Country</th>\n",
       "      <th>Area</th>\n",
       "      <th>Location</th>\n",
       "      <th>Activity</th>\n",
       "      <th>Name</th>\n",
       "      <th>Sex</th>\n",
       "      <th>Age</th>\n",
       "      <th>Injury</th>\n",
       "      <th>Fatal (Y/N)</th>\n",
       "      <th>Time</th>\n",
       "      <th>Species</th>\n",
       "      <th>Investigator or Source</th>\n",
       "    </tr>\n",
       "  </thead>\n",
       "  <tbody>\n",
       "    <tr>\n",
       "      <th>563</th>\n",
       "      <td>2014.04.22</td>\n",
       "      <td>22-Apr-2014</td>\n",
       "      <td>2014.0</td>\n",
       "      <td>Unprovoked</td>\n",
       "      <td>USA</td>\n",
       "      <td>Florida</td>\n",
       "      <td>Cocoa Beach, Brevard  County</td>\n",
       "      <td>Swimming</td>\n",
       "      <td>male</td>\n",
       "      <td>M</td>\n",
       "      <td>42</td>\n",
       "      <td>Laceration &amp; puncture wounds to right foot</td>\n",
       "      <td>N</td>\n",
       "      <td>15h30</td>\n",
       "      <td>NaN</td>\n",
       "      <td>R. Neale, Florida Today, 4/22/2014</td>\n",
       "    </tr>\n",
       "  </tbody>\n",
       "</table>\n",
       "</div>"
      ],
      "text/plain": [
       "    Case Number         Date    Year        Type Country     Area  \\\n",
       "563  2014.04.22  22-Apr-2014  2014.0  Unprovoked     USA  Florida   \n",
       "\n",
       "                         Location  Activity  Name Sex Age  \\\n",
       "563  Cocoa Beach, Brevard  County  Swimming  male  M   42   \n",
       "\n",
       "                                         Injury Fatal (Y/N)   Time Species   \\\n",
       "563  Laceration & puncture wounds to right foot           N  15h30      NaN   \n",
       "\n",
       "                 Investigator or Source  \n",
       "563  R. Neale, Florida Today, 4/22/2014  "
      ]
     },
     "execution_count": 12,
     "metadata": {},
     "output_type": "execute_result"
    }
   ],
   "source": [
    "df.loc[df['Injury'] == 'Laceration & puncture wounds to right foot']"
   ]
  },
  {
   "cell_type": "code",
   "execution_count": 13,
   "metadata": {},
   "outputs": [],
   "source": [
    "df.loc[data['Injury'].str.contains('Laceration & puncture wounds to right foot', case = False, na = False), 'Sex'] = 'M'"
   ]
  },
  {
   "cell_type": "code",
   "execution_count": 14,
   "metadata": {},
   "outputs": [
    {
     "data": {
      "text/html": [
       "<div>\n",
       "<style scoped>\n",
       "    .dataframe tbody tr th:only-of-type {\n",
       "        vertical-align: middle;\n",
       "    }\n",
       "\n",
       "    .dataframe tbody tr th {\n",
       "        vertical-align: top;\n",
       "    }\n",
       "\n",
       "    .dataframe thead th {\n",
       "        text-align: right;\n",
       "    }\n",
       "</style>\n",
       "<table border=\"1\" class=\"dataframe\">\n",
       "  <thead>\n",
       "    <tr style=\"text-align: right;\">\n",
       "      <th></th>\n",
       "      <th>Case Number</th>\n",
       "      <th>Date</th>\n",
       "      <th>Year</th>\n",
       "      <th>Type</th>\n",
       "      <th>Country</th>\n",
       "      <th>Area</th>\n",
       "      <th>Location</th>\n",
       "      <th>Activity</th>\n",
       "      <th>Name</th>\n",
       "      <th>Sex</th>\n",
       "      <th>Age</th>\n",
       "      <th>Injury</th>\n",
       "      <th>Fatal (Y/N)</th>\n",
       "      <th>Time</th>\n",
       "      <th>Species</th>\n",
       "      <th>Investigator or Source</th>\n",
       "    </tr>\n",
       "  </thead>\n",
       "  <tbody>\n",
       "    <tr>\n",
       "      <th>1587</th>\n",
       "      <td>2005.05.15</td>\n",
       "      <td>15-May-2005</td>\n",
       "      <td>2005.0</td>\n",
       "      <td>Unprovoked</td>\n",
       "      <td>AUSTRALIA</td>\n",
       "      <td>Queensland</td>\n",
       "      <td>50 km east of Townsville</td>\n",
       "      <td>Spearfishing</td>\n",
       "      <td>Ben Edelstein</td>\n",
       "      <td>M</td>\n",
       "      <td>NaN</td>\n",
       "      <td>Severe injury to lower leg</td>\n",
       "      <td>N</td>\n",
       "      <td>NaN</td>\n",
       "      <td>Blacktip shark</td>\n",
       "      <td>J. Anderson, Townsville Bulletin, 5/21/2005</td>\n",
       "    </tr>\n",
       "  </tbody>\n",
       "</table>\n",
       "</div>"
      ],
      "text/plain": [
       "     Case Number         Date    Year        Type    Country        Area  \\\n",
       "1587  2005.05.15  15-May-2005  2005.0  Unprovoked  AUSTRALIA  Queensland   \n",
       "\n",
       "                      Location      Activity           Name Sex  Age  \\\n",
       "1587  50 km east of Townsville  Spearfishing  Ben Edelstein  M   NaN   \n",
       "\n",
       "                          Injury Fatal (Y/N) Time        Species   \\\n",
       "1587  Severe injury to lower leg           N  NaN  Blacktip shark   \n",
       "\n",
       "                            Investigator or Source  \n",
       "1587  J. Anderson, Townsville Bulletin, 5/21/2005   "
      ]
     },
     "execution_count": 14,
     "metadata": {},
     "output_type": "execute_result"
    }
   ],
   "source": [
    "df.loc[df['Name'] == 'Ben Edelstein']"
   ]
  },
  {
   "cell_type": "code",
   "execution_count": 15,
   "metadata": {},
   "outputs": [],
   "source": [
    "df.loc[df['Name'].str.contains('Ben Edelstein', case = False, na = False), 'Sex'] = 'M'"
   ]
  },
  {
   "cell_type": "code",
   "execution_count": 16,
   "metadata": {},
   "outputs": [],
   "source": [
    "df.loc[df['Sex'].str.contains('lli', case = False, na = False), 'Sex'] = 'M'"
   ]
  },
  {
   "cell_type": "markdown",
   "metadata": {},
   "source": [
    "After changing the entries that could be identified as male or female thanks to the info in the row, there are two cases in which it is not possible. \n",
    "\n",
    "I decided to put the one with the sex 'N' as male, because I assume it was a typo and the person pressed the 'N' in the keyboard by mistake. "
   ]
  },
  {
   "cell_type": "code",
   "execution_count": 17,
   "metadata": {},
   "outputs": [],
   "source": [
    "df['Sex'].replace(['N'], 'M', inplace = True)"
   ]
  },
  {
   "cell_type": "markdown",
   "metadata": {},
   "source": [
    "But in the case there was a '.', I will save it as a Numpy NaN. "
   ]
  },
  {
   "cell_type": "code",
   "execution_count": 18,
   "metadata": {},
   "outputs": [],
   "source": [
    "df['Sex'].replace(['.'], np.nan, inplace = True)"
   ]
  },
  {
   "cell_type": "code",
   "execution_count": 19,
   "metadata": {
    "scrolled": false
   },
   "outputs": [
    {
     "data": {
      "text/plain": [
       "M    5099\n",
       "F     637\n",
       "Name: Sex, dtype: int64"
      ]
     },
     "execution_count": 19,
     "metadata": {},
     "output_type": "execute_result"
    }
   ],
   "source": [
    "df['Sex'].value_counts()"
   ]
  },
  {
   "cell_type": "markdown",
   "metadata": {},
   "source": [
    "### Cleaning the Type column"
   ]
  },
  {
   "cell_type": "code",
   "execution_count": 20,
   "metadata": {},
   "outputs": [
    {
     "data": {
      "text/plain": [
       "Unprovoked      4595\n",
       "Provoked         574\n",
       "Invalid          547\n",
       "Sea Disaster     239\n",
       "Boating          203\n",
       "Boat             137\n",
       "Questionable       2\n",
       "Boatomg            1\n",
       "Name: Type, dtype: int64"
      ]
     },
     "execution_count": 20,
     "metadata": {},
     "output_type": "execute_result"
    }
   ],
   "source": [
    "df['Type'].value_counts()"
   ]
  },
  {
   "cell_type": "markdown",
   "metadata": {},
   "source": [
    "After checking the categories inside the Type column, the first thing I thought is that they are not mutually exclusive (at least as I understood them).\n",
    "\n",
    "I consider that a provoked attack is an encounter initiated by a human, while an unprovoked one was an unexpected attack of a shark. \n",
    "\n",
    "With this definition, an attack could be only provoked or unprovoked. However, I would say that the cases in boat and boating could be any of both. \n",
    "\n",
    "Besides, I for my analysis consider it more interesting to know if an attack was provoked or unprovoked. \n",
    "\n",
    "Therefore, I will create a column with the name P/U, in which all the entries except Unprovoked and Provoked will be replaced with Invalid. "
   ]
  },
  {
   "cell_type": "code",
   "execution_count": 21,
   "metadata": {},
   "outputs": [],
   "source": [
    "df['P/U'] = df['Type']\n",
    "\n",
    "df['P/U'].replace(['Sea Disaster', 'Boating', 'Boat', 'Questionable', 'Boatomg'], 'Invalid', inplace = True)"
   ]
  },
  {
   "cell_type": "code",
   "execution_count": 22,
   "metadata": {
    "scrolled": false
   },
   "outputs": [
    {
     "data": {
      "text/html": [
       "<div>\n",
       "<style scoped>\n",
       "    .dataframe tbody tr th:only-of-type {\n",
       "        vertical-align: middle;\n",
       "    }\n",
       "\n",
       "    .dataframe tbody tr th {\n",
       "        vertical-align: top;\n",
       "    }\n",
       "\n",
       "    .dataframe thead th {\n",
       "        text-align: right;\n",
       "    }\n",
       "</style>\n",
       "<table border=\"1\" class=\"dataframe\">\n",
       "  <thead>\n",
       "    <tr style=\"text-align: right;\">\n",
       "      <th></th>\n",
       "      <th>Case Number</th>\n",
       "      <th>Date</th>\n",
       "      <th>Year</th>\n",
       "      <th>Type</th>\n",
       "      <th>Country</th>\n",
       "      <th>Area</th>\n",
       "      <th>Location</th>\n",
       "      <th>Activity</th>\n",
       "      <th>Name</th>\n",
       "      <th>Sex</th>\n",
       "      <th>Age</th>\n",
       "      <th>Injury</th>\n",
       "      <th>Fatal (Y/N)</th>\n",
       "      <th>Time</th>\n",
       "      <th>Species</th>\n",
       "      <th>Investigator or Source</th>\n",
       "      <th>P/U</th>\n",
       "    </tr>\n",
       "  </thead>\n",
       "  <tbody>\n",
       "    <tr>\n",
       "      <th>0</th>\n",
       "      <td>2018.06.25</td>\n",
       "      <td>25-Jun-2018</td>\n",
       "      <td>2018.0</td>\n",
       "      <td>Boating</td>\n",
       "      <td>USA</td>\n",
       "      <td>California</td>\n",
       "      <td>Oceanside, San Diego County</td>\n",
       "      <td>Paddling</td>\n",
       "      <td>Julie Wolfe</td>\n",
       "      <td>F</td>\n",
       "      <td>57</td>\n",
       "      <td>No injury to occupant, outrigger canoe and pad...</td>\n",
       "      <td>N</td>\n",
       "      <td>18h00</td>\n",
       "      <td>White shark</td>\n",
       "      <td>R. Collier, GSAF</td>\n",
       "      <td>Invalid</td>\n",
       "    </tr>\n",
       "    <tr>\n",
       "      <th>1</th>\n",
       "      <td>2018.06.18</td>\n",
       "      <td>18-Jun-2018</td>\n",
       "      <td>2018.0</td>\n",
       "      <td>Unprovoked</td>\n",
       "      <td>USA</td>\n",
       "      <td>Georgia</td>\n",
       "      <td>St. Simon Island, Glynn County</td>\n",
       "      <td>Standing</td>\n",
       "      <td>AdysonÂ McNeely</td>\n",
       "      <td>F</td>\n",
       "      <td>11</td>\n",
       "      <td>Minor injury to left thigh</td>\n",
       "      <td>N</td>\n",
       "      <td>14h00  -15h00</td>\n",
       "      <td>NaN</td>\n",
       "      <td>K.McMurray, TrackingSharks.com</td>\n",
       "      <td>Unprovoked</td>\n",
       "    </tr>\n",
       "    <tr>\n",
       "      <th>2</th>\n",
       "      <td>2018.06.09</td>\n",
       "      <td>09-Jun-2018</td>\n",
       "      <td>2018.0</td>\n",
       "      <td>Invalid</td>\n",
       "      <td>USA</td>\n",
       "      <td>Hawaii</td>\n",
       "      <td>Habush, Oahu</td>\n",
       "      <td>Surfing</td>\n",
       "      <td>John Denges</td>\n",
       "      <td>M</td>\n",
       "      <td>48</td>\n",
       "      <td>Injury to left lower leg from surfboard skeg</td>\n",
       "      <td>N</td>\n",
       "      <td>07h45</td>\n",
       "      <td>NaN</td>\n",
       "      <td>K.McMurray, TrackingSharks.com</td>\n",
       "      <td>Invalid</td>\n",
       "    </tr>\n",
       "    <tr>\n",
       "      <th>3</th>\n",
       "      <td>2018.06.08</td>\n",
       "      <td>08-Jun-2018</td>\n",
       "      <td>2018.0</td>\n",
       "      <td>Unprovoked</td>\n",
       "      <td>AUSTRALIA</td>\n",
       "      <td>New South Wales</td>\n",
       "      <td>Arrawarra Headland</td>\n",
       "      <td>Surfing</td>\n",
       "      <td>male</td>\n",
       "      <td>M</td>\n",
       "      <td>NaN</td>\n",
       "      <td>Minor injury to lower leg</td>\n",
       "      <td>N</td>\n",
       "      <td>NaN</td>\n",
       "      <td>2 m shark</td>\n",
       "      <td>B. Myatt, GSAF</td>\n",
       "      <td>Unprovoked</td>\n",
       "    </tr>\n",
       "    <tr>\n",
       "      <th>4</th>\n",
       "      <td>2018.06.04</td>\n",
       "      <td>04-Jun-2018</td>\n",
       "      <td>2018.0</td>\n",
       "      <td>Provoked</td>\n",
       "      <td>MEXICO</td>\n",
       "      <td>Colima</td>\n",
       "      <td>La Ticla</td>\n",
       "      <td>Free diving</td>\n",
       "      <td>Gustavo Ramos</td>\n",
       "      <td>M</td>\n",
       "      <td>NaN</td>\n",
       "      <td>Lacerations to leg &amp; hand shark PROVOKED INCIDENT</td>\n",
       "      <td>N</td>\n",
       "      <td>NaN</td>\n",
       "      <td>Tiger shark, 3m</td>\n",
       "      <td>A .Kipper</td>\n",
       "      <td>Provoked</td>\n",
       "    </tr>\n",
       "  </tbody>\n",
       "</table>\n",
       "</div>"
      ],
      "text/plain": [
       "  Case Number         Date    Year        Type    Country             Area  \\\n",
       "0  2018.06.25  25-Jun-2018  2018.0     Boating        USA       California   \n",
       "1  2018.06.18  18-Jun-2018  2018.0  Unprovoked        USA          Georgia   \n",
       "2  2018.06.09  09-Jun-2018  2018.0     Invalid        USA           Hawaii   \n",
       "3  2018.06.08  08-Jun-2018  2018.0  Unprovoked  AUSTRALIA  New South Wales   \n",
       "4  2018.06.04  04-Jun-2018  2018.0    Provoked     MEXICO           Colima   \n",
       "\n",
       "                         Location     Activity              Name Sex  Age  \\\n",
       "0     Oceanside, San Diego County     Paddling       Julie Wolfe   F   57   \n",
       "1  St. Simon Island, Glynn County     Standing  AdysonÂ McNeely    F   11   \n",
       "2                    Habush, Oahu      Surfing       John Denges   M   48   \n",
       "3              Arrawarra Headland      Surfing              male   M  NaN   \n",
       "4                        La Ticla  Free diving    Gustavo Ramos    M  NaN   \n",
       "\n",
       "                                              Injury Fatal (Y/N)  \\\n",
       "0  No injury to occupant, outrigger canoe and pad...           N   \n",
       "1                         Minor injury to left thigh           N   \n",
       "2       Injury to left lower leg from surfboard skeg           N   \n",
       "3                          Minor injury to lower leg           N   \n",
       "4  Lacerations to leg & hand shark PROVOKED INCIDENT           N   \n",
       "\n",
       "            Time         Species           Investigator or Source         P/U  \n",
       "0          18h00      White shark                R. Collier, GSAF     Invalid  \n",
       "1  14h00  -15h00              NaN  K.McMurray, TrackingSharks.com  Unprovoked  \n",
       "2          07h45              NaN  K.McMurray, TrackingSharks.com     Invalid  \n",
       "3            NaN        2 m shark                  B. Myatt, GSAF  Unprovoked  \n",
       "4            NaN  Tiger shark, 3m                       A .Kipper    Provoked  "
      ]
     },
     "execution_count": 22,
     "metadata": {},
     "output_type": "execute_result"
    }
   ],
   "source": [
    "df.head()"
   ]
  },
  {
   "cell_type": "markdown",
   "metadata": {},
   "source": [
    "Now there is a column with only Unprovoked, Provoked and Invalid cases. "
   ]
  },
  {
   "cell_type": "code",
   "execution_count": 23,
   "metadata": {
    "scrolled": true
   },
   "outputs": [
    {
     "data": {
      "text/plain": [
       "Unprovoked    4595\n",
       "Invalid       1129\n",
       "Provoked       574\n",
       "Name: P/U, dtype: int64"
      ]
     },
     "execution_count": 23,
     "metadata": {},
     "output_type": "execute_result"
    }
   ],
   "source": [
    "df['P/U'].value_counts()"
   ]
  },
  {
   "cell_type": "markdown",
   "metadata": {},
   "source": [
    "The column has 4 NaN rows. "
   ]
  },
  {
   "cell_type": "code",
   "execution_count": 24,
   "metadata": {
    "scrolled": true
   },
   "outputs": [
    {
     "data": {
      "text/plain": [
       "4"
      ]
     },
     "execution_count": 24,
     "metadata": {},
     "output_type": "execute_result"
    }
   ],
   "source": [
    "df['P/U'].isna().sum()"
   ]
  },
  {
   "cell_type": "markdown",
   "metadata": {},
   "source": [
    "### Cleaning the Fatal (Y/N) column "
   ]
  },
  {
   "cell_type": "code",
   "execution_count": 25,
   "metadata": {},
   "outputs": [
    {
     "data": {
      "text/plain": [
       "N          4293\n",
       "Y          1388\n",
       "UNKNOWN      71\n",
       " N            7\n",
       "y             1\n",
       "2017          1\n",
       "M             1\n",
       "N             1\n",
       "Name: Fatal (Y/N), dtype: int64"
      ]
     },
     "execution_count": 25,
     "metadata": {},
     "output_type": "execute_result"
    }
   ],
   "source": [
    "df['Fatal (Y/N)'].value_counts()"
   ]
  },
  {
   "cell_type": "markdown",
   "metadata": {},
   "source": [
    "Here there were entries besides 'Y' and 'N'. In this case I created a function that replaces them with one or the two options, or if they go to UNKNOWN. "
   ]
  },
  {
   "cell_type": "code",
   "execution_count": 26,
   "metadata": {},
   "outputs": [],
   "source": [
    "df['Fatal (Y/N)'] = df['Fatal (Y/N)'].apply(lt.clean_fatal)"
   ]
  },
  {
   "cell_type": "markdown",
   "metadata": {},
   "source": [
    "This is the result after applying the function. "
   ]
  },
  {
   "cell_type": "code",
   "execution_count": 27,
   "metadata": {
    "scrolled": true
   },
   "outputs": [
    {
     "data": {
      "text/plain": [
       "N          4300\n",
       "Y          1389\n",
       "UNKNOWN     613\n",
       "Name: Fatal (Y/N), dtype: int64"
      ]
     },
     "execution_count": 27,
     "metadata": {},
     "output_type": "execute_result"
    }
   ],
   "source": [
    "df['Fatal (Y/N)'].value_counts()"
   ]
  },
  {
   "cell_type": "markdown",
   "metadata": {},
   "source": [
    "### Cleaning the Age colum "
   ]
  },
  {
   "cell_type": "code",
   "execution_count": 28,
   "metadata": {
    "scrolled": false
   },
   "outputs": [
    {
     "data": {
      "text/plain": [
       "array(['57', '11', '48', nan, '18', '52', '15', '12', '32', '10', '21',\n",
       "       '34', '30', '60', '33', '29', '54', '41', '37', '56', '19', '25',\n",
       "       '69', '38', '55', '35', '46', '45', '14', '40s', '28', '20', '24',\n",
       "       '26', '49', '22', '7', '31', '17', '40', '13', '42', '3', '8',\n",
       "       '50', '16', '82', '73', '20s', '68', '51', '39', '58', 'Teen',\n",
       "       '47', '61', '65', '36', '66', '43', '60s', '9', '72', '59', '6',\n",
       "       '27', '64', '23', '71', '44', '62', '63', '70', '18 months', '53',\n",
       "       '30s', '50s', 'teen', '77', '74', '28 & 26', '5', '86', '18 or 20',\n",
       "       '12 or 13', '46 & 34', '28, 23 & 30', 'Teens', '36 & 26',\n",
       "       '8 or 10', '84', 'Â\\xa0 ', ' ', '30 or 36', '6Â½', '21 & ?', '75',\n",
       "       '33 or 37', 'mid-30s', '23 & 20', ' 30', '7      &    31', ' 28',\n",
       "       '20?', \"60's\", '32 & 30', '16 to 18', '87', '67', 'Elderly',\n",
       "       'mid-20s', 'Ca. 33', '74 ', '45 ', '21 or 26', '20 ', '>50',\n",
       "       '18 to 22', 'adult', '9 & 12', '? & 19', '9 months', '25 to 35',\n",
       "       '23 & 26', '1', '(adult)', '33 & 37', '25 or 28',\n",
       "       '37, 67, 35, 27,  ? & 27', '21, 34,24 & 35', '30 & 32', '50 & 30',\n",
       "       '17 & 35', 'X', '\"middle-age\"', '13 or 18', '34 & 19', '33 & 26',\n",
       "       '2 to 3 months', 'MAKE LINE GREEN', ' 43', '81', '\"young\"',\n",
       "       '7 or 8', '78', '17 & 16', 'F', 'Both 11', '9 or 10', 'young',\n",
       "       '36 & 23', '  ', 'A.M.', '?    &   14', '10 or 12', '31 or 33',\n",
       "       '2Â½', '13 or 14'], dtype=object)"
      ]
     },
     "execution_count": 28,
     "metadata": {},
     "output_type": "execute_result"
    }
   ],
   "source": [
    "df['Age'].unique()"
   ]
  },
  {
   "cell_type": "markdown",
   "metadata": {},
   "source": [
    "First I will replace text with NaN values. "
   ]
  },
  {
   "cell_type": "code",
   "execution_count": 29,
   "metadata": {},
   "outputs": [],
   "source": [
    "NaN_values = [' nan', 'Teen', 'teen', 'Teens', 'Elderly', 'adult', '(adult)', '  ',\n",
    "              '\\xa0 ', '\"middle-age\"', 'MAKE LINE GREEN', '\"young\"', 'young', 'A.M.']\n",
    "\n",
    "df['Age'].replace([NaN_values], np.nan, inplace = True)"
   ]
  },
  {
   "cell_type": "markdown",
   "metadata": {},
   "source": [
    "For the cases in which the age is included in months, I decided to substitute them by 1 instead of 0. "
   ]
  },
  {
   "cell_type": "code",
   "execution_count": 30,
   "metadata": {},
   "outputs": [],
   "source": [
    "months = ['18', '9', '3']\n",
    "df.loc[df['Age'].str.contains(('|'.join(months)), case = False, na = False), 'Age'] = '1'"
   ]
  },
  {
   "cell_type": "code",
   "execution_count": 31,
   "metadata": {},
   "outputs": [
    {
     "data": {
      "text/plain": [
       "array(['57', '11', '48', nan, '1', '52', '15', '12', '10', '21', '60',\n",
       "       '54', '41', '56', '25', '55', '46', '45', '14', '40s', '28', '20',\n",
       "       '24', '26', '22', '7', '17', '40', '42', '8', '50', '16', '82',\n",
       "       '20s', '68', '51', '58', '47', '61', '65', '66', '60s', '72', '6',\n",
       "       '27', '64', '71', '44', '62', '70', '50s', '77', '74', '28 & 26',\n",
       "       '5', '86', '8 or 10', '84', 'Â\\xa0 ', ' ', '6Â½', '21 & ?', '75',\n",
       "       ' 28', '20?', \"60's\", '87', '67', 'mid-20s', '74 ', '45 ',\n",
       "       '21 or 26', '20 ', '>50', '25 or 28', 'X', '81', '7 or 8', '78',\n",
       "       '17 & 16', 'F', 'Both 11', '?    &   14', '10 or 12', '2Â½'],\n",
       "      dtype=object)"
      ]
     },
     "execution_count": 31,
     "metadata": {},
     "output_type": "execute_result"
    }
   ],
   "source": [
    "df['Age'].unique()"
   ]
  },
  {
   "cell_type": "markdown",
   "metadata": {},
   "source": [
    "In order to get the ages for the analysis, I will use this function that takes the first two digits from a string. \n",
    "\n",
    "I decided to use two, because the age range I want to analyze is higher than 10 years old. "
   ]
  },
  {
   "cell_type": "code",
   "execution_count": 32,
   "metadata": {},
   "outputs": [],
   "source": [
    "pattern = r'(\\d{2})'\n"
   ]
  },
  {
   "cell_type": "code",
   "execution_count": 33,
   "metadata": {},
   "outputs": [],
   "source": [
    "pattern = r'(\\d{2})'\n",
    "\n",
    "def get_age(pattern, x):\n",
    "    try:\n",
    "        age = re.findall(pattern, x)\n",
    "        return age[0]\n",
    "    except:\n",
    "        pass"
   ]
  },
  {
   "cell_type": "markdown",
   "metadata": {},
   "source": [
    "Here I was supposed to store the function in another file and call it, but I was not able to make it work. "
   ]
  },
  {
   "cell_type": "code",
   "execution_count": 34,
   "metadata": {},
   "outputs": [],
   "source": [
    "#df['Age of victim'] = df['Age'].dropna().apply(lt.get_age(pattern, num))"
   ]
  },
  {
   "cell_type": "code",
   "execution_count": 35,
   "metadata": {},
   "outputs": [],
   "source": [
    "df['Age of victim'] = df['Age'].dropna().apply(lambda x: get_age(pattern, x))"
   ]
  },
  {
   "cell_type": "code",
   "execution_count": null,
   "metadata": {},
   "outputs": [],
   "source": [
    "#df_3.explode('Age')\n",
    "\n",
    "# Explode transforms each element of a list-like to a row, replicating index values. "
   ]
  },
  {
   "cell_type": "markdown",
   "metadata": {},
   "source": [
    "## 2 - Which are the activities with more attacks?"
   ]
  },
  {
   "cell_type": "markdown",
   "metadata": {},
   "source": [
    "### 1st Hypothesis: Surfing is the activity with most non-fatal shark attacks\n",
    "\n",
    "### 2nd Hypothesis: Spearfishing is the activity with the highest amount of fatal attacks"
   ]
  },
  {
   "cell_type": "markdown",
   "metadata": {},
   "source": [
    "### Cleaning the activity column"
   ]
  },
  {
   "cell_type": "markdown",
   "metadata": {},
   "source": [
    "Besides the columns cleaned before, in order to analyze the second question and the hypotheses I need to clean the activity column. "
   ]
  },
  {
   "cell_type": "code",
   "execution_count": 36,
   "metadata": {
    "scrolled": true
   },
   "outputs": [
    {
     "data": {
      "text/plain": [
       "Surfing                                                                      971\n",
       "Swimming                                                                     869\n",
       "Fishing                                                                      431\n",
       "Spearfishing                                                                 333\n",
       "Bathing                                                                      162\n",
       "                                                                            ... \n",
       "The USS Wahoo torpedoes & sank the Japanese troop transport Buyo Maru          1\n",
       "Watching seine netters with friends, one of whom picked up a netted shark      1\n",
       "Wading?                                                                        1\n",
       "Helping men land a shark                                                       1\n",
       "Explosion destroyed 28' boat, survivors in the water                           1\n",
       "Name: Activity, Length: 1532, dtype: int64"
      ]
     },
     "execution_count": 36,
     "metadata": {},
     "output_type": "execute_result"
    }
   ],
   "source": [
    "df['Activity'].value_counts()"
   ]
  },
  {
   "cell_type": "code",
   "execution_count": 37,
   "metadata": {},
   "outputs": [
    {
     "data": {
      "text/plain": [
       "1532"
      ]
     },
     "execution_count": 37,
     "metadata": {},
     "output_type": "execute_result"
    }
   ],
   "source": [
    "df['Activity'].nunique()"
   ]
  },
  {
   "cell_type": "markdown",
   "metadata": {},
   "source": [
    "As in the case of the type column, I will create a separated one to narrow down the results. \n",
    "\n",
    "This way I can have a more filtered column, but keeping the other in case anything would need to be checked later on. "
   ]
  },
  {
   "cell_type": "code",
   "execution_count": 38,
   "metadata": {},
   "outputs": [],
   "source": [
    "df['Activity of victim'] = df['Activity']"
   ]
  },
  {
   "cell_type": "code",
   "execution_count": 39,
   "metadata": {},
   "outputs": [
    {
     "data": {
      "text/html": [
       "<div>\n",
       "<style scoped>\n",
       "    .dataframe tbody tr th:only-of-type {\n",
       "        vertical-align: middle;\n",
       "    }\n",
       "\n",
       "    .dataframe tbody tr th {\n",
       "        vertical-align: top;\n",
       "    }\n",
       "\n",
       "    .dataframe thead th {\n",
       "        text-align: right;\n",
       "    }\n",
       "</style>\n",
       "<table border=\"1\" class=\"dataframe\">\n",
       "  <thead>\n",
       "    <tr style=\"text-align: right;\">\n",
       "      <th></th>\n",
       "      <th>Case Number</th>\n",
       "      <th>Date</th>\n",
       "      <th>Year</th>\n",
       "      <th>Type</th>\n",
       "      <th>Country</th>\n",
       "      <th>Area</th>\n",
       "      <th>Location</th>\n",
       "      <th>Activity</th>\n",
       "      <th>Name</th>\n",
       "      <th>Sex</th>\n",
       "      <th>Age</th>\n",
       "      <th>Injury</th>\n",
       "      <th>Fatal (Y/N)</th>\n",
       "      <th>Time</th>\n",
       "      <th>Species</th>\n",
       "      <th>Investigator or Source</th>\n",
       "      <th>P/U</th>\n",
       "      <th>Age of victim</th>\n",
       "      <th>Activity of victim</th>\n",
       "    </tr>\n",
       "  </thead>\n",
       "  <tbody>\n",
       "    <tr>\n",
       "      <th>0</th>\n",
       "      <td>2018.06.25</td>\n",
       "      <td>25-Jun-2018</td>\n",
       "      <td>2018.0</td>\n",
       "      <td>Boating</td>\n",
       "      <td>USA</td>\n",
       "      <td>California</td>\n",
       "      <td>Oceanside, San Diego County</td>\n",
       "      <td>Paddling</td>\n",
       "      <td>Julie Wolfe</td>\n",
       "      <td>F</td>\n",
       "      <td>57</td>\n",
       "      <td>No injury to occupant, outrigger canoe and pad...</td>\n",
       "      <td>N</td>\n",
       "      <td>18h00</td>\n",
       "      <td>White shark</td>\n",
       "      <td>R. Collier, GSAF</td>\n",
       "      <td>Invalid</td>\n",
       "      <td>57</td>\n",
       "      <td>Paddling</td>\n",
       "    </tr>\n",
       "    <tr>\n",
       "      <th>1</th>\n",
       "      <td>2018.06.18</td>\n",
       "      <td>18-Jun-2018</td>\n",
       "      <td>2018.0</td>\n",
       "      <td>Unprovoked</td>\n",
       "      <td>USA</td>\n",
       "      <td>Georgia</td>\n",
       "      <td>St. Simon Island, Glynn County</td>\n",
       "      <td>Standing</td>\n",
       "      <td>AdysonÂ McNeely</td>\n",
       "      <td>F</td>\n",
       "      <td>11</td>\n",
       "      <td>Minor injury to left thigh</td>\n",
       "      <td>N</td>\n",
       "      <td>14h00  -15h00</td>\n",
       "      <td>NaN</td>\n",
       "      <td>K.McMurray, TrackingSharks.com</td>\n",
       "      <td>Unprovoked</td>\n",
       "      <td>11</td>\n",
       "      <td>Standing</td>\n",
       "    </tr>\n",
       "    <tr>\n",
       "      <th>2</th>\n",
       "      <td>2018.06.09</td>\n",
       "      <td>09-Jun-2018</td>\n",
       "      <td>2018.0</td>\n",
       "      <td>Invalid</td>\n",
       "      <td>USA</td>\n",
       "      <td>Hawaii</td>\n",
       "      <td>Habush, Oahu</td>\n",
       "      <td>Surfing</td>\n",
       "      <td>John Denges</td>\n",
       "      <td>M</td>\n",
       "      <td>48</td>\n",
       "      <td>Injury to left lower leg from surfboard skeg</td>\n",
       "      <td>N</td>\n",
       "      <td>07h45</td>\n",
       "      <td>NaN</td>\n",
       "      <td>K.McMurray, TrackingSharks.com</td>\n",
       "      <td>Invalid</td>\n",
       "      <td>48</td>\n",
       "      <td>Surfing</td>\n",
       "    </tr>\n",
       "    <tr>\n",
       "      <th>3</th>\n",
       "      <td>2018.06.08</td>\n",
       "      <td>08-Jun-2018</td>\n",
       "      <td>2018.0</td>\n",
       "      <td>Unprovoked</td>\n",
       "      <td>AUSTRALIA</td>\n",
       "      <td>New South Wales</td>\n",
       "      <td>Arrawarra Headland</td>\n",
       "      <td>Surfing</td>\n",
       "      <td>male</td>\n",
       "      <td>M</td>\n",
       "      <td>NaN</td>\n",
       "      <td>Minor injury to lower leg</td>\n",
       "      <td>N</td>\n",
       "      <td>NaN</td>\n",
       "      <td>2 m shark</td>\n",
       "      <td>B. Myatt, GSAF</td>\n",
       "      <td>Unprovoked</td>\n",
       "      <td>NaN</td>\n",
       "      <td>Surfing</td>\n",
       "    </tr>\n",
       "    <tr>\n",
       "      <th>4</th>\n",
       "      <td>2018.06.04</td>\n",
       "      <td>04-Jun-2018</td>\n",
       "      <td>2018.0</td>\n",
       "      <td>Provoked</td>\n",
       "      <td>MEXICO</td>\n",
       "      <td>Colima</td>\n",
       "      <td>La Ticla</td>\n",
       "      <td>Free diving</td>\n",
       "      <td>Gustavo Ramos</td>\n",
       "      <td>M</td>\n",
       "      <td>NaN</td>\n",
       "      <td>Lacerations to leg &amp; hand shark PROVOKED INCIDENT</td>\n",
       "      <td>N</td>\n",
       "      <td>NaN</td>\n",
       "      <td>Tiger shark, 3m</td>\n",
       "      <td>A .Kipper</td>\n",
       "      <td>Provoked</td>\n",
       "      <td>NaN</td>\n",
       "      <td>Free diving</td>\n",
       "    </tr>\n",
       "  </tbody>\n",
       "</table>\n",
       "</div>"
      ],
      "text/plain": [
       "  Case Number         Date    Year        Type    Country             Area  \\\n",
       "0  2018.06.25  25-Jun-2018  2018.0     Boating        USA       California   \n",
       "1  2018.06.18  18-Jun-2018  2018.0  Unprovoked        USA          Georgia   \n",
       "2  2018.06.09  09-Jun-2018  2018.0     Invalid        USA           Hawaii   \n",
       "3  2018.06.08  08-Jun-2018  2018.0  Unprovoked  AUSTRALIA  New South Wales   \n",
       "4  2018.06.04  04-Jun-2018  2018.0    Provoked     MEXICO           Colima   \n",
       "\n",
       "                         Location     Activity              Name Sex  Age  \\\n",
       "0     Oceanside, San Diego County     Paddling       Julie Wolfe   F   57   \n",
       "1  St. Simon Island, Glynn County     Standing  AdysonÂ McNeely    F   11   \n",
       "2                    Habush, Oahu      Surfing       John Denges   M   48   \n",
       "3              Arrawarra Headland      Surfing              male   M  NaN   \n",
       "4                        La Ticla  Free diving    Gustavo Ramos    M  NaN   \n",
       "\n",
       "                                              Injury Fatal (Y/N)  \\\n",
       "0  No injury to occupant, outrigger canoe and pad...           N   \n",
       "1                         Minor injury to left thigh           N   \n",
       "2       Injury to left lower leg from surfboard skeg           N   \n",
       "3                          Minor injury to lower leg           N   \n",
       "4  Lacerations to leg & hand shark PROVOKED INCIDENT           N   \n",
       "\n",
       "            Time         Species           Investigator or Source         P/U  \\\n",
       "0          18h00      White shark                R. Collier, GSAF     Invalid   \n",
       "1  14h00  -15h00              NaN  K.McMurray, TrackingSharks.com  Unprovoked   \n",
       "2          07h45              NaN  K.McMurray, TrackingSharks.com     Invalid   \n",
       "3            NaN        2 m shark                  B. Myatt, GSAF  Unprovoked   \n",
       "4            NaN  Tiger shark, 3m                       A .Kipper    Provoked   \n",
       "\n",
       "  Age of victim Activity of victim  \n",
       "0            57           Paddling  \n",
       "1            11           Standing  \n",
       "2            48            Surfing  \n",
       "3           NaN            Surfing  \n",
       "4           NaN        Free diving  "
      ]
     },
     "execution_count": 39,
     "metadata": {},
     "output_type": "execute_result"
    }
   ],
   "source": [
    "df.head()"
   ]
  },
  {
   "cell_type": "markdown",
   "metadata": {},
   "source": [
    "Now I create a list with activities."
   ]
  },
  {
   "cell_type": "code",
   "execution_count": 40,
   "metadata": {
    "scrolled": true
   },
   "outputs": [],
   "source": [
    "activities = list(df['Activity of victim'].unique())"
   ]
  },
  {
   "cell_type": "code",
   "execution_count": 41,
   "metadata": {},
   "outputs": [
    {
     "data": {
      "text/plain": [
       "['Paddling',\n",
       " 'Standing',\n",
       " 'Surfing',\n",
       " 'Free diving',\n",
       " 'Kite surfing',\n",
       " 'Swimming',\n",
       " 'Fishing',\n",
       " 'Walking',\n",
       " 'Feeding sharks',\n",
       " 'Boogie boarding',\n",
       " 'Scuba diving',\n",
       " 'Paddle-skiing',\n",
       " 'Body boarding',\n",
       " 'Windsurfing',\n",
       " 'Stand-Up Paddleboarding',\n",
       " 'Wading',\n",
       " 'Scuba Diving',\n",
       " 'Kayak fishing for sharks',\n",
       " 'Cleaning fish',\n",
       " 'Snorkeling',\n",
       " 'Spearfishing',\n",
       " nan,\n",
       " 'Diving',\n",
       " 'Fishing / Wading',\n",
       " '2 boats capsized',\n",
       " 'Night bathing',\n",
       " 'Surfing ',\n",
       " 'Kayaking / Fishing',\n",
       " 'Kayaking',\n",
       " 'Body surfing',\n",
       " 'Swimming, poaching abalone',\n",
       " 'Canoeing',\n",
       " 'SUP',\n",
       " 'Skimboarding',\n",
       " 'Touching a shark',\n",
       " 'Fishing ',\n",
       " 'Attempting to lasso a shark',\n",
       " 'Photo shoot',\n",
       " 'Paddle boarding',\n",
       " 'Kakaying',\n",
       " 'Washing hands',\n",
       " 'Grabbing shark for a selfie',\n",
       " 'Kayak fishing',\n",
       " 'Tagging sharks',\n",
       " 'Surf skiing ',\n",
       " 'Surf fishing',\n",
       " 'Floating',\n",
       " 'Cage Diving',\n",
       " 'Surfng',\n",
       " 'SUP Foil boarding',\n",
       " 'Lobstering',\n",
       " 'Fishing in Alabama Deep Fishing Rodeo',\n",
       " 'Fishing for squid',\n",
       " 'Fishing for sharks',\n",
       " 'Floating in tube',\n",
       " 'Teasing a shark',\n",
       " 'Surf-skiing',\n",
       " 'Diving for beche-de-mer',\n",
       " 'Feeding stingrays?',\n",
       " 'Kayak Fishing',\n",
       " 'Sea disaster',\n",
       " 'Lobster fishing',\n",
       " 'Swimming / Wading',\n",
       " 'Fishing for shrimp',\n",
       " 'Photographing fish',\n",
       " 'Scallop diving on hookah',\n",
       " 'Treading water',\n",
       " 'Body boarding ',\n",
       " 'Playing in the water',\n",
       " 'Body Boarding',\n",
       " 'Body surfing?',\n",
       " 'Playing',\n",
       " 'Attempting to rescue a shark',\n",
       " 'Photographing the shark',\n",
       " 'Standing / Snorkeling',\n",
       " 'Hand feeding sharks',\n",
       " 'Sitting in the water',\n",
       " 'Transatlantic Rowing',\n",
       " 'Bodysurfing',\n",
       " 'Rowing',\n",
       " 'Shark fishing',\n",
       " 'Surfing & filming dolphins',\n",
       " 'Filming',\n",
       " 'Swimming after falling overboard',\n",
       " 'Diving / Filming',\n",
       " 'Fishing for blue sharks',\n",
       " 'Standing in inner tube',\n",
       " 'Body surfing or Boogie boarding',\n",
       " 'Kayaking ',\n",
       " 'Feeding fish',\n",
       " 'Playing with an air mattress',\n",
       " 'Kite boarding',\n",
       " 'Shark diving',\n",
       " 'Petting a shark',\n",
       " 'Kneeling in the water',\n",
       " 'Fell into the water',\n",
       " 'Shark watching',\n",
       " 'Diving for lobsters',\n",
       " 'Kite Surfing',\n",
       " 'Scuba diving / culling lionfish',\n",
       " 'Kitesurfing',\n",
       " 'Sailing',\n",
       " 'Spearfishing / Free diving',\n",
       " 'Free diving / Photographing pilot whales',\n",
       " 'Filming a documentary',\n",
       " 'Attempting to remove fishing net from submerged object',\n",
       " 'Kiteboarding',\n",
       " 'Diving for crayfish',\n",
       " 'Diving ',\n",
       " 'Swimming / snorkeling',\n",
       " 'Diving for Abalone',\n",
       " 'Casting a net',\n",
       " 'Marathon swimming',\n",
       " 'Longline fishing for sharks',\n",
       " 'Wrangling a shark',\n",
       " 'Attempting to free the shark',\n",
       " 'Walking in surf',\n",
       " 'Swimming ',\n",
       " 'Swimming & snorkeling',\n",
       " 'Boogie Boarding',\n",
       " 'Playing in the surf',\n",
       " 'Fly fishing',\n",
       " \"Fishing - 'tag & release'\",\n",
       " 'Swimming to shore with floatioon devices after boat engine conked out',\n",
       " 'Dragging stranded shark into deeper water',\n",
       " 'Bathing',\n",
       " 'Bodyboarding',\n",
       " 'Swimming or boogie boarding',\n",
       " 'Wading or swimming',\n",
       " 'Free diving ',\n",
       " 'Attempting to rescue an injured & beached shark',\n",
       " 'Free diving / spearfishing',\n",
       " 'Crayfishing',\n",
       " 'Diving, feeding sharks',\n",
       " 'Attempting to Kite surf from Egypt to Saudi Arabia',\n",
       " 'Fishing (illegally)',\n",
       " 'Diving, photographing sharks',\n",
       " 'Wade fishing',\n",
       " 'Jumping in the waves',\n",
       " 'Wade Fishing',\n",
       " 'Standing, collecting sea stars',\n",
       " 'Floating ',\n",
       " 'Swimming or Snorkeling',\n",
       " 'Kayaking or Wave skiing',\n",
       " 'Jet skiing',\n",
       " 'Standing or boogie boardin',\n",
       " 'Kite Boarding',\n",
       " 'Washing sand off a speared fish',\n",
       " 'Standing, holding shark pup',\n",
       " 'Diving / fishing',\n",
       " 'Wakeboarding',\n",
       " 'Diving for abalone',\n",
       " 'Shark fishing on the Ricardo Astorga',\n",
       " 'Shark fishing on the Don AgustÃ\\xadn-VI. ',\n",
       " 'Attempting to fix motor',\n",
       " 'Swimming /  Whale Watching',\n",
       " 'Swimming after boat became disabled',\n",
       " 'Rescuing',\n",
       " 'Measuring sharks',\n",
       " 'Swimming / treading water',\n",
       " 'Surf fishing / wading',\n",
       " 'Spearfishing (free diving)',\n",
       " 'Paddling on kneeboard',\n",
       " 'Swimming to shore from capsized kayak',\n",
       " 'Paddle-boarding',\n",
       " 'Swimming, attempting to rescue a girl  believed to be drowning',\n",
       " 'Washing his feet',\n",
       " 'Paddle-surfing',\n",
       " 'Crawling',\n",
       " 'Diving, but on the surface when bitten by the shark',\n",
       " 'Air Disaster',\n",
       " 'Crabbing',\n",
       " 'Yacht race',\n",
       " 'Sinking of the cargo ship Mark Jason',\n",
       " 'Fishing boat swamped in storm',\n",
       " 'Swimming, towing surfboard',\n",
       " 'Swimming or surfing',\n",
       " 'Rowing an inflatable dinghy',\n",
       " 'Sea Disaster',\n",
       " 'Night diving',\n",
       " 'Free-diving',\n",
       " 'Walking out of the water after surfing',\n",
       " 'Fishing from surfski',\n",
       " \"Accidentally stood on hooked shark's tail before attempting to gut it \",\n",
       " 'Attempting to chase shark out to sea',\n",
       " 'Fishing for snapper',\n",
       " 'Removing fish from a trap',\n",
       " 'The 426-ton cargo ship Mia, laden with cement, capsized in heavy seas ',\n",
       " 'Wading?',\n",
       " 'Jumping',\n",
       " 'Floating near boat & observing bioluminesce',\n",
       " 'Jumped into the water',\n",
       " 'Surf paddling',\n",
       " 'Murder',\n",
       " 'Removing hook from shark',\n",
       " 'Reviving a sedated shark',\n",
       " 'Shark tagging',\n",
       " 'Swimming / jumping off a jetty',\n",
       " 'Playing on a sandbar',\n",
       " 'Shrimping',\n",
       " 'Swimming / Body Surfing',\n",
       " 'Playing soccer in the water',\n",
       " 'Free diving / modeling',\n",
       " 'Diving / Kissing the shark',\n",
       " 'Lifesaving drill',\n",
       " 'Touching sharks',\n",
       " 'Competing in the Woodvale Atlantic Rowing Race',\n",
       " 'Night Surfing',\n",
       " 'Standing / Surfing',\n",
       " 'Treading water/ Surfing',\n",
       " 'Removing shark from net',\n",
       " 'Boogie boarding, kicked at object in the water',\n",
       " 'Scuba diving in aquarium tank',\n",
       " 'Holding onto an inflatable boat',\n",
       " 'Swimming with boogie board',\n",
       " 'Spearfishing (Free diving)',\n",
       " \"Crouching in 2' of water\",\n",
       " 'SCUBA Diving',\n",
       " 'Diving in aquarium display tank',\n",
       " 'Attempting to drive shark away from sailing regatta',\n",
       " 'Fishing from a kayak',\n",
       " 'Swept out to sea by the tsunami, she clung  to a log for 24 hours',\n",
       " 'Scurfing (surfboard being  towed behind a boat)',\n",
       " 'Chumming for white sharks',\n",
       " 'Spearfishing/ filming',\n",
       " 'Diving & fishing with net',\n",
       " 'Wading / fishing & carrying a bag of fish',\n",
       " 'Fishing for squid aboard the trawler Shikishima-Maru when the shark leapt into the boat',\n",
       " 'In water with diving seabirds',\n",
       " 'Swimming, poaching perlemoen',\n",
       " 'Boogie-boarding / swimming',\n",
       " 'Free diving & spearfishing',\n",
       " 'Tandem surfing',\n",
       " 'Five men on makeshift raft after their 10 m fishing boat  capsized and sank in rough seas. Survivors rescued after  7.5 hours in the water',\n",
       " 'Surf skiing',\n",
       " 'Kayaking (returning from spearfishing)',\n",
       " 'Air disaster. Flash Airlines Boeing 737 crashed into the Red Sea',\n",
       " 'Swimming / shipwreck',\n",
       " 'Surfing amid a shoal of sharks',\n",
       " 'Swimming to shore from boat or kayak',\n",
       " 'Sitting on surfboard',\n",
       " 'Wading near a fishing net',\n",
       " 'Wading to shore from his boat',\n",
       " 'Standing, stepped on shark',\n",
       " 'Wade-fishing',\n",
       " 'Swimming, wearing black wetsuit & swim fins',\n",
       " 'Walking, carrying surfboard & stepped on shark',\n",
       " 'Swimming with pod of dolphins',\n",
       " 'Killing  sharks',\n",
       " 'Swimming (using a float)',\n",
       " 'Petting captive sharks',\n",
       " 'Unknown',\n",
       " \"Fishing, standing in 2' of water\",\n",
       " 'Fishing from Surfboard',\n",
       " 'Boogie boarding or Surfing',\n",
       " 'Wading, when he stepped on the shark',\n",
       " 'Shark Fishing',\n",
       " 'Attempting to retreive a dinghy',\n",
       " 'Snorkeling (filming the sardine run)',\n",
       " 'Floating on a raft',\n",
       " 'Fishing, removing the shark from his line',\n",
       " 'Playing in the surf with his 2 dogs',\n",
       " 'Collecting beche-de-mer',\n",
       " 'Fishing from prawn trawler',\n",
       " 'Scallop diving (using surface-supplied air & a POD) ',\n",
       " 'Fishing (Drowned 2-Apr-2002)',\n",
       " 'Surfing, but standing in water alongside board',\n",
       " 'Body-boarding',\n",
       " 'Swimming /  boogie boarding',\n",
       " 'Capsized fishing boat',\n",
       " 'Kite-Boarding',\n",
       " 'Surfing, fell off surfboard & stepped on the shark.',\n",
       " 'Wreck / Technical diving',\n",
       " 'Walking in shallows',\n",
       " 'Fell off banana boat',\n",
       " 'Floating face-down in knee-deep water',\n",
       " 'Hiking on the beach',\n",
       " 'Spearfishing, carrying his catch',\n",
       " 'Standing alongside surfboard',\n",
       " 'Batin',\n",
       " 'Attempting to catch a crocodile',\n",
       " \"Sinking of the 40' Esperanza off St. Maartin with 36 refugees on board\",\n",
       " 'Fishing for whiting',\n",
       " 'Swimming back from anchored sailboat',\n",
       " 'Diving for sea urchins',\n",
       " 'Diving (shell maintenance)',\n",
       " 'Shipwrecked',\n",
       " 'Fell onto dead shark',\n",
       " 'Standing / surfing',\n",
       " 'Swimming / Body surfing',\n",
       " 'Conducting research',\n",
       " 'Swimming out to porpoises ',\n",
       " 'Windsurfing, but sitting on his board',\n",
       " 'Surfing / Wading',\n",
       " 'Attempting to illegally enter the USA',\n",
       " 'Spearfishing, holding mesh bag with speared fish',\n",
       " 'Air Disaster - Piper aircraft crashed into the sea, killing all on board',\n",
       " 'Boogie boarding / wading',\n",
       " 'Feeding prawns to captive sharks',\n",
       " 'Canoe with 3 men onboard sank',\n",
       " 'Fishing for tarpon',\n",
       " 'Surfing (sitting on his board)',\n",
       " 'Spearfishing, but swimming at surface',\n",
       " 'Surfing, lying on surfboard',\n",
       " 'Wading to shore after surfing',\n",
       " 'Wading with surfboard',\n",
       " \"Lying prone in 2' of water\",\n",
       " 'Spearfishing & holding catch',\n",
       " 'Swimming with dolphins',\n",
       " 'Wading in school of baitfish',\n",
       " 'Adrift in a life jacket',\n",
       " 'Splashing / wading',\n",
       " 'Swimming after being swept into sea by a large wave',\n",
       " 'Spearfishing & diving for paua',\n",
       " \"Scientific research (Dr. Sonny Gruber's student)\",\n",
       " 'Swimming, towing a kayak',\n",
       " 'Body surfing or body boarding',\n",
       " 'Swimming near pod of whales',\n",
       " 'Cruising',\n",
       " 'Paddle Skiing',\n",
       " 'Inflatable boat',\n",
       " 'Splashing',\n",
       " 'Fishing for tuna',\n",
       " 'Fishing / washing bait off hands',\n",
       " 'Moving a shark in a net ',\n",
       " 'Surfing (or body boarding)',\n",
       " 'Free diving for abalone',\n",
       " 'Swimming / surfing',\n",
       " 'Towing rubber dinghy',\n",
       " 'Surfing (lying prone on his board)',\n",
       " 'Snorkeling Â\\x96 hunting crayfish and abalone',\n",
       " 'Swimming or paddle boarding',\n",
       " 'Spearfishing on scuba & transferring fish onto a stringer',\n",
       " 'Scuba diving (submerged riding a scooter)',\n",
       " 'Body boarding or surfing',\n",
       " 'Fishingat',\n",
       " 'Walking / surfing',\n",
       " 'SCUBA diving',\n",
       " 'Floating on raft',\n",
       " 'Wading / Surfing',\n",
       " 'Fishing for octopus',\n",
       " 'Spearfishing / night diving',\n",
       " 'Body surfing, stood up on sandbar',\n",
       " 'Rowing ',\n",
       " 'Watching seals',\n",
       " 'Attempting to attract dolphins',\n",
       " 'Swimming or snorkeling',\n",
       " 'Surfing / Swimming',\n",
       " 'Free diving with a pod of dolphins',\n",
       " 'Tech diving ',\n",
       " 'Shell Diving',\n",
       " 'Swimming breast stoke',\n",
       " 'Fishing in knee-deep water',\n",
       " 'Dived naked into the water on a bet',\n",
       " 'Swimming in fish tank',\n",
       " 'Boeing 757 enroute from Porta Plata plunged into the sea',\n",
       " 'Swimming with mask & snorkel',\n",
       " 'Chumming for sharks',\n",
       " 'Diving, gathering shellfish',\n",
       " 'Fell off aircraft carrier',\n",
       " 'Playing / standing',\n",
       " 'Abalone diving using Hookah (near calving whales)',\n",
       " 'Abalone diving using Hookah (resting on the surface)',\n",
       " 'On a float',\n",
       " '\"Riding waves on a board\"',\n",
       " 'Jumped off surfboard & landed on the shark',\n",
       " 'Scuba diving (ascending using scooter)',\n",
       " 'Playing / jumping',\n",
       " 'Sleeping in anchored boat',\n",
       " 'Scuba diving for bivalves',\n",
       " 'Wind surfing',\n",
       " 'Surfing, sitting on board',\n",
       " 'Murder victim',\n",
       " 'Commercial diver (submerged or treading water)',\n",
       " 'Surfing, paddling seawards',\n",
       " 'Adrift on refugee raft',\n",
       " 'Jumped off rocks into white water',\n",
       " 'Freediving for seashells',\n",
       " 'Swimming alongside NOAA research vessel Discoverer',\n",
       " 'Removing shark from tank in nightclub ',\n",
       " 'Swimming, after falling off towed kneeboard',\n",
       " 'Playing volleyball with friends',\n",
       " 'Hookah diving',\n",
       " 'Surfing, paddling shorewards',\n",
       " 'Stamding',\n",
       " 'Watching the shark feeding on a dead pinniped',\n",
       " 'Riding floatation device',\n",
       " 'Free diving for abalone (ascending)',\n",
       " 'Fishing for lobsters',\n",
       " 'Oyster fishing',\n",
       " 'Paddling on surfboard or body board',\n",
       " 'Scuba diving at seal colony',\n",
       " 'Floating on his back',\n",
       " 'Paddling on surfboard',\n",
       " 'Free diving & spearfishing (ascending)',\n",
       " '   ',\n",
       " 'Standing in waist-deep water, helping his father tend a gill net containing dead fish',\n",
       " 'Lying on surfboard',\n",
       " 'Spearfishing / free diving',\n",
       " 'Scuba diving (submerged)',\n",
       " 'Hookah diving for sea urchins',\n",
       " 'Snorkeling, carrying a speared fish in her hand',\n",
       " 'Fell from cliff while fishing & disappeared in strong current',\n",
       " 'Fisherman',\n",
       " \"Zosimo & his son, Jeffrey Popa, failed to return from overnight fishing trip in a 14' boat, Boat apparently sank, debris recovered but his son & boat were never found\",\n",
       " 'Preparing to fish for jack-mackerel',\n",
       " 'Scuba diving ',\n",
       " 'Scuba diving & filming',\n",
       " 'Hookah diving for pen shells ',\n",
       " 'Fishing for yellowtail, Seriola quinqueradiata',\n",
       " 'Diving for pen shells',\n",
       " 'Fishing from rocks, swept out to sea by large wave & treading water',\n",
       " 'Finning the shark that bit him',\n",
       " 'Swimming from makeshift raft  to life vest after fishing boat sank',\n",
       " 'Swimming behind sailboat',\n",
       " 'Surfing, collided with shark',\n",
       " 'Surfing (or sailboarding)',\n",
       " 'Scuba diving (but on surface)',\n",
       " 'Free diving / spearfishing, from paddleboard & floating on the surface',\n",
       " 'Snorkeling, possibly holding a fish',\n",
       " 'Resting on surfboard',\n",
       " 'Lying on surfboard & paddling',\n",
       " 'Free diving for trochus',\n",
       " 'Scuba diving & spearfishing',\n",
       " 'Board sailing',\n",
       " \"On board 51' fishing vessel One Ki\",\n",
       " 'Wading, knocked down & swept away by large waves',\n",
       " 'Swimming in canal',\n",
       " \"Fishing, stepped on hooked shark's head\",\n",
       " 'Observing a shark feeding on a carcass of a humpback whale',\n",
       " 'Hookah diving for abalone (descending)',\n",
       " \"Filming 5' blue shark\",\n",
       " 'Playing ',\n",
       " \"Fell off surfboard 20' from shore\",\n",
       " 'Windsurfing (urinating on his board)',\n",
       " 'Scuba diving, but swimming on surface',\n",
       " 'Swimming in strong current with 3 others when he disappeared',\n",
       " 'Surfing with dolphins',\n",
       " 'Scuba diving, hand feeding sharks',\n",
       " 'Spearfishing using scuba & trailing a string of bleeding fish',\n",
       " 'Skindiving',\n",
       " 'The Christie V sank on 11/6/1988, survivors were adrift on a dinghy',\n",
       " 'The MV Dona Marilyn sank in Typhoon Unsang with the loss of 389 lives',\n",
       " \"Diving in Sharkey's Reef restaurantÂ\\x92s aquarium\",\n",
       " 'Free diving & spearfishing ',\n",
       " 'Spearfishing on scuba',\n",
       " 'Sittting in water with his child',\n",
       " 'Shell diving',\n",
       " 'Surfing / treading water',\n",
       " 'pÃªcheur de bichiques',\n",
       " \"Onboard 21' powerboat that capsized in rough seas\",\n",
       " 'Standing ',\n",
       " 'Lying atop surfboard',\n",
       " 'Drift fishing',\n",
       " 'Fell overboard  from the Taiwanese fishing trawler Lien Cheng Feu ',\n",
       " \"Attempting to lasso shark's tail\",\n",
       " 'Returning to shore, collided with shark',\n",
       " 'Ferry boat Dona Paz with 4431 passengers exploded & caught fire when she collided with an  oil tanker ',\n",
       " 'Vessel caught fire & capsized, survivors in the water',\n",
       " 'Scuba Diving for scallops',\n",
       " 'Dropping anchor',\n",
       " 'Swimming from shore to anchored sailboat',\n",
       " 'The inter-island ferry Vula sank in heavy weather',\n",
       " 'Jumped into the water from a cliff',\n",
       " 'Boat',\n",
       " 'Adrift after ditching plane in the sea',\n",
       " 'Free diving  & spearfishing (submerged)',\n",
       " 'NSB Meshing',\n",
       " 'Racing ski',\n",
       " 'Fishing, fell from rocks & disappeared',\n",
       " 'Hookah diving for abalone',\n",
       " 'Floating on inner tube after diving for lobster',\n",
       " 'Free diving & spearfishing (descending)',\n",
       " 'Bottom fishing for lingcod & had hooked a fish',\n",
       " 'Playing in knee-deep water',\n",
       " 'Surfing, but lying prone on his board',\n",
       " 'Free diving for scallops',\n",
       " 'Scuba Diving for lobster (at surface)',\n",
       " 'Investigating shark sighting',\n",
       " 'Sailing on catamaran & fell into the water',\n",
       " 'Surfing or body surfing',\n",
       " 'Free diving , but surfacing',\n",
       " 'Boat capsized?',\n",
       " 'Sea disaster, foundering of the cargo vessle M/V Dorolonda',\n",
       " \"During a shark fishing tournament, the 18' Boatem was capsized by waves, throwing 3 men into the water \",\n",
       " 'Towing her sister on plastic ski board',\n",
       " 'Steinhart Aquarium',\n",
       " 'Scuba diving for abalone',\n",
       " 'Ferry boat sank',\n",
       " 'Swimming from the New Venture ',\n",
       " '14 m prawn trawler New Venture capsized  & sank in heavy seas Three people in the water',\n",
       " 'Floating on air mattress',\n",
       " 'Surfing & dangling foot in water amid baitfish',\n",
       " 'Water-skiing',\n",
       " 'Paddleskiing',\n",
       " 'Ran into the water',\n",
       " 'In waist-deep water',\n",
       " 'Free diving for abalone from Zodiac (submerged)',\n",
       " 'Paddle Boarding',\n",
       " 'Spearfishing ',\n",
       " 'Sailboarding, fell into water 100 yards outside the breakwater',\n",
       " 'Fishing on a boat',\n",
       " 'Spearfishing, but swimming on surface',\n",
       " 'Inspecting teeth of supposedly dead (hooked & shot) shark',\n",
       " \"Diving to untangle a crab trap line from boat's propeller\",\n",
       " \"16' catamaran capsized previous night, occupants stayed with wreckage until morning, then attempted to swim ashore\",\n",
       " 'Snorkeling on surface',\n",
       " 'Catching sardines',\n",
       " 'Scuba diving, reportedly also spearfishing',\n",
       " 'Foundering of the Israeli freighter Mezada',\n",
       " 'Standing / Wading',\n",
       " 'Free diving Spearfishing',\n",
       " 'Exercising his dog in the shallows',\n",
       " 'Commercial spearfishing',\n",
       " 'Free diving / spearfishing, ',\n",
       " 'Diving in tuna net',\n",
       " 'Resting on body board',\n",
       " 'Skin diving',\n",
       " 'Sinking of the ferryboat Don Juan',\n",
       " 'Sinking of the ferryboat Bongbong 1',\n",
       " 'Hookah Diving',\n",
       " 'Gaffing netted shark',\n",
       " 'Freedom swimming',\n",
       " 'Murdered by Thai pirates',\n",
       " 'Floating with life preserver after his boat foundered',\n",
       " 'Floating on inner tube raft',\n",
       " \"Explosion destroyed 28' boat, survivors in the water \",\n",
       " 'Fishing for mackerel',\n",
       " 'Swimming, after single-engine aircraft went down in the sea',\n",
       " 'Fishing for bottom fish',\n",
       " 'Floating on an inflatable raft',\n",
       " 'Free diving for abalone (surfacing)',\n",
       " \"40' fishing boat sank\",\n",
       " 'Spearfishing / Scuba diving',\n",
       " 'Collecting fish from net',\n",
       " 'Fishing for yellowtail',\n",
       " 'Their 9 m launch was run down by a 25,000-ton Japanese freighter  on the night of 3-11-1977 & they drifted, clinging to an icebox for 2 days',\n",
       " \"Pushed surfmat of a young girl out of the shark's path, drawing shark's attention to his own board\",\n",
       " 'Hookah diving for abalone (submerged)',\n",
       " 'Thrashing the water / imitating the shark victim from \"Jaws\"',\n",
       " 'Fishing for white shark',\n",
       " 'Shipwreck',\n",
       " 'Skindiving,',\n",
       " '3,909-ton Panamanian freighter Chieh Lee sank in a typhoon',\n",
       " 'Surfing, fell off surfboard',\n",
       " \"Sitting in bow of her father's 5 m boat\",\n",
       " 'Competing in a light tackle game fishing',\n",
       " 'Fishing for snoek & yellowtail',\n",
       " 'Spearfishing / scuba diving',\n",
       " 'Attempting to drive shark away from the beach',\n",
       " 'Filming & feeding captive sharks',\n",
       " 'Floating on a small orange raft ',\n",
       " 'Scuba diving for abalone (at surface)',\n",
       " 'Swimming near his boat',\n",
       " 'Spearfishing Competition',\n",
       " 'Floating in inner tube',\n",
       " 'Diving & force-feeding the shark',\n",
       " 'Attempting to drag hooked shark ashore by its tail',\n",
       " 'Ferry capsized',\n",
       " 'Swimming underwater from crayfish cage to a fishing bait',\n",
       " '3.3 m fishing boat sank. Treveluwe & Peter Hodgson (wearing lifejackets) were drifting in the current',\n",
       " 'Freedom Swimming',\n",
       " 'Free diving for abalone (submerged)',\n",
       " 'Adrift after the sinking of the motor yacht Princess Dianne',\n",
       " 'Free diving (but on surface)',\n",
       " 'Fishing boat swamped in a storm',\n",
       " 'Fishing for kob',\n",
       " 'Fishing for red fish',\n",
       " 'Sitting',\n",
       " 'Swimming alongside yacht Mexico Fiesta',\n",
       " 'Being pulled to shore from wreck of 25-ton fishing vessel Alan S',\n",
       " 'Free diving, Spearfishing',\n",
       " 'Crabbing (spearing crabs)',\n",
       " 'Fishing from paddleski',\n",
       " 'Scuba diving & U/W photography',\n",
       " 'Sitting in shallows',\n",
       " 'Free diving, collecting shells',\n",
       " 'Scuba diving & feeding fish',\n",
       " 'Hookah diving (submerged)',\n",
       " 'Wreck of the 1689-ton Portuguese  coaster Angoche',\n",
       " 'Fishing for prawns',\n",
       " 'Sea Disaster Sinking of ferryboat Christina',\n",
       " 'Motor launch Baby Princesa capsized with 22 people on board',\n",
       " 'Freediving',\n",
       " 'Air disaster',\n",
       " 'Attempted to return injured shark to the sea',\n",
       " 'Spearfishing / freediving',\n",
       " 'Washing cooking pans',\n",
       " 'Washing clothes on stairs',\n",
       " 'Fishing, trying to catch the end of his fishing line',\n",
       " 'Scuba diving for lobsters',\n",
       " 'Freediving for abalone (at surface)',\n",
       " 'Surf-fishing',\n",
       " 'Netting pilchards',\n",
       " 'Hard hat diving',\n",
       " 'Sight-seeing',\n",
       " 'Feeding mullet to sharks',\n",
       " 'Wreck of the Storm King',\n",
       " 'Spearfishing using Scuba',\n",
       " 'Sinking of the ferryboat Dumaguete ',\n",
       " 'Playing with a frisbee in the shallows',\n",
       " 'Leaving the water',\n",
       " 'Dynamite fishing',\n",
       " 'Small boat with 2 men onboard hit a submerged coral formation. Men began swimming to shore',\n",
       " 'Clamming',\n",
       " 'Schooner sank during a storm',\n",
       " 'Diving. Shark Â\\x93swallowedÂ\\x92 his hand, so he threw his other around the shark and went Â\\x93shark-back ridingÂ\\x94 for 30 yards until the shark opened its jaws',\n",
       " 'Wading & pushing dinghy toward  the shallows',\n",
       " 'Picking up shark by the tail',\n",
       " 'Swimming after his canoe capsized',\n",
       " 'Sinking of the M/V Mindoro during a typhoon',\n",
       " 'Standing on sandbar',\n",
       " \"Boat capsized between O'ahu & Molokai\",\n",
       " 'Pulling shark from the water',\n",
       " 'Spearfishing on Scuba',\n",
       " 'Spearfishing, dived to pick up a float line',\n",
       " 'Anti-sabotage night dive exercise alongside destroyer (Scuba diving)',\n",
       " 'Photographing sharks underwater using Scuba',\n",
       " 'Beach seine netting',\n",
       " 'Fishing boat',\n",
       " 'Feeding a shark',\n",
       " 'Vehicle plunged over cliff into the water',\n",
       " 'The shrimper Loless Maurine capsized in heavy seas & the men were swimming ashore  ',\n",
       " 'Fishing for rock lobster',\n",
       " 'Swimming in the channel',\n",
       " 'A father bathing his smallest daughter when the shark bumped her out of his arms and carried her into deep water',\n",
       " 'Free diving, carrying speargun',\n",
       " 'Hunting crayfish ',\n",
       " 'Diving / UW photography',\n",
       " 'Netting sharks',\n",
       " 'Diving into water',\n",
       " 'Lobster diving using Scuba',\n",
       " 'Attacked shark with fists',\n",
       " 'Diving for sand dollars',\n",
       " 'Killing a shark',\n",
       " 'Sinking of the dredge World Atlas',\n",
       " 'The passenger ship Pioneer Cebu  capsized & sank in Typhoon Irma',\n",
       " 'Overturned skiff',\n",
       " 'Fishing (big game)',\n",
       " 'The World Liberty and the tanker Mosli collided. The  Halcyon Breeze sent a lifeboat to the rescue, but it was smashed, throwing 6 men in the  water.',\n",
       " 'Helping men land a shark',\n",
       " 'wreck of the State Oil Company ship Permina',\n",
       " 'Free diving / spearfishing (resting on the surface)',\n",
       " 'Colombian  (Avianca) DC-4 airliner plunged into the sea 5 minutes after takeoff',\n",
       " 'Body surfing ',\n",
       " 'Spearfishing, but standing in knee-deep water',\n",
       " \"Fishing from 34' boat when pulled overboard by hooked shark\",\n",
       " 'Hauling dead shark aboard, when another shark leapt out of the water & bit him',\n",
       " 'Argentine Air Force C-54',\n",
       " 'The boat Caribou II sank',\n",
       " 'Sunbathing on beach when he saw child being attacked by the shark',\n",
       " 'Spearfishing, shot a turtle',\n",
       " 'Spearing fish',\n",
       " 'Fishing (rod & line)',\n",
       " 'Arsinoe, a French tanker',\n",
       " 'Attempting to anesthetize shark',\n",
       " 'Diving, retrieving film package from Titan 3C rocket',\n",
       " 'Walking on reef',\n",
       " 'Aircraft exploded',\n",
       " 'Motor boat Rebel Belle lost',\n",
       " 'Paddling rescue ski',\n",
       " 'Dangling feet in the water',\n",
       " 'Collecting marine specimens',\n",
       " 'Standing in waist-deep water',\n",
       " 'Spearfishing, but standing in the water',\n",
       " 'Bather',\n",
       " 'Canoe swamped, swimming back to canoe',\n",
       " 'Fishing with hand line tied to wrist & was pulled into the water',\n",
       " 'Free diving with seals',\n",
       " 'Swimming out to rescue swimmers in difficulty',\n",
       " 'Filming underwater, carrying powerhead',\n",
       " 'Longline fishing',\n",
       " 'Boat Miss Becky  sank 12 miles from shore',\n",
       " 'Surfing, but swimming to his board',\n",
       " 'Floating on his back in an inner tube',\n",
       " 'Spearfishing using scuba',\n",
       " 'Free diving / Spearfishingat edge of reef',\n",
       " 'Searching for remains of  Dr. Marais',\n",
       " 'Yacht Gooney Bird foundered, 4 survivors on raft',\n",
       " 'Standing / fishing',\n",
       " 'canoeing',\n",
       " 'Conducting a promotional film project for the Gemini space program (a practice astronaut recovery)',\n",
       " 'Attempting to swim across the Atlantic Ocean',\n",
       " 'Canoe capsized with 10 occupants, 8 survived,  Hamilton swam off to seek help',\n",
       " 'Skin diving ',\n",
       " 'Free diving for shell',\n",
       " 'Diving for trochus shell',\n",
       " 'preparing to go skin diving',\n",
       " 'Lying in 2 feet of water',\n",
       " 'Spearfishing / Scuba diving (at surface)',\n",
       " 'Diving for sinkers',\n",
       " 'Sitting on gunwale of boat',\n",
       " 'Greek steamship Lakonia caught fire, 98 of her 646 passengers, and 30 of her crew of 376 perished',\n",
       " 'Helping friend land hooked shark',\n",
       " 'Splashing in surf',\n",
       " 'Treading water while alongside capsized yacht',\n",
       " 'Fishing / standing in waist deep water',\n",
       " 'Catching sharks under government contract',\n",
       " 'Testing anti-shark cage',\n",
       " 'Surf fishing, wading ',\n",
       " 'Commercial fishing vessel, Ev-nn, struck object & sank. Ken Crosby and  Jame & Ann Dumas adrift on makeshift raft.',\n",
       " 'Spearfishing, pulled sharkÂ\\x92s tail',\n",
       " 'Swimming, when caught in heavy seas',\n",
       " 'Fishing, on charter boat Silver Dollar',\n",
       " \"63' fishing boat Sno' Bay foundered\",\n",
       " 'Seining for bait, standing in chest-deep water',\n",
       " 'Boat, with 42 passengers onboard, capsized in rough seas',\n",
       " 'Surfing on \"chest board\" (boogie board?)',\n",
       " 'Washed into sea while picking opihi',\n",
       " 'The 500-ton coastal trader Polurrian foundered ',\n",
       " 'S.S. Marine Sulphur Queen, laden with molten sulphur was bound from Beaumont, Texas for Norfolk, VA, when she disappeared with 39 on board',\n",
       " 'Free diving, hunting crayfish',\n",
       " 'Fishing for turtles',\n",
       " 'Spearfishing, Scuba diving',\n",
       " 'Abandoning burning ship Captain George in raging seas',\n",
       " 'Adrift after wave swamped engine',\n",
       " \"Overcome by CO fumes, fell overboard from 36' fishing cruiser & prop slashed arm\",\n",
       " 'When  a deckhand  jumped overboard, McIver dived after him with a rescue line.',\n",
       " 'Spearfishing with Scuba gear',\n",
       " 'Surf fishing in waist-deep water',\n",
       " 'Finning the shark',\n",
       " 'Fishing for albacore',\n",
       " 'Playing in surf with his child  (9)',\n",
       " 'Dived from inner-tube',\n",
       " 'U.S. Airforce crewman reported missing after bailing out of jet',\n",
       " 'On a \"shark hunt\"',\n",
       " 'Rolled off raft',\n",
       " 'Escaping from Alacatraz',\n",
       " 'Washing',\n",
       " 'Scuba diving, attempting to catch a captive shark',\n",
       " '25-foot cabin cruiser Happy Jack sank in heavy seas',\n",
       " 'Fishing & spearfishing',\n",
       " 'Swimming along a row of nets',\n",
       " 'Fishing for snappers & cleaning mullet. Put mullet over side of boat to wash it',\n",
       " 'Swimming outside fishing net',\n",
       " 'Splashing ',\n",
       " 'Fishing, slipped on rocks & fell into sea',\n",
       " \"Fishing with hand net in 2' of water\",\n",
       " 'Fishing, hauling in a 5-lb snapper',\n",
       " 'Surfing, pushing board ashore',\n",
       " 'Swimming with other crew near wharf',\n",
       " 'Gathering shells',\n",
       " 'Paddling outrigger canoe',\n",
       " 'Survived US Naval aircraft crash, climbing onboard rescue vessel when he fell back into sea ',\n",
       " 'Free diving, surveying a pipeline & examing cathodes under jetty',\n",
       " 'Attaching a line at sea',\n",
       " 'Net fishing, picking catch from the net',\n",
       " 'Fishing, two large sharks passed. He speared one and it bit him',\n",
       " 'Fishing (trolling)  from canoe',\n",
       " 'Scuba diving & spearfishing ',\n",
       " 'Fishing, speared shark upset canoe & man fell in water',\n",
       " 'Collecting dynamited fish',\n",
       " 'Walking in chest-deep water',\n",
       " 'Checking fish traps, fell into the water',\n",
       " 'Swimming, using bundles of sticks as raft',\n",
       " 'Cargo ship Dara sank after collision with another ship during a severe storm',\n",
       " 'Fishing from dinghy',\n",
       " 'Floating on back',\n",
       " 'Cleaning a tank',\n",
       " 'Spearfishing, shark grabbed his white t-shirt and towed him ',\n",
       " 'Collecting crayfish',\n",
       " 'Collecting aquarium specimens',\n",
       " 'Pacific Seafarer of US Navy',\n",
       " 'Ocean racing',\n",
       " 'Taking boat from California to Florida when it ran aground & he was swimming back to boat',\n",
       " 'Free diving for molluscs',\n",
       " 'Light aircraft ditched at sea',\n",
       " 'Swept out to sea while net fishing',\n",
       " 'Fishing, when line became snagged on rock & he dived into water to free it ',\n",
       " 'Fell overboard, prop slashed arm',\n",
       " 'Chasing shark out of bathing area while riding on a surf-ski',\n",
       " 'Spearfishing, speared fish retreated to cave where shark grabbed his arm',\n",
       " 'Hand lining for shad',\n",
       " 'Ejected from F3H-2 aircraft ',\n",
       " 'Fishing for rock lobsters',\n",
       " 'Collecting shells',\n",
       " 'Cargo ship El Gamil entroute Suez to Yemen (Aden) when her cargo shifted and she sank. 19 Egyption sailors jumped into the water and swam for several hours before being bitten by sharks',\n",
       " 'Free diving / photography, kneeling on sand',\n",
       " 'Fishing inside net',\n",
       " 'R5D aircraft went down with 29 on board',\n",
       " 'Free diving / Spearfishing',\n",
       " 'Swimming 3 miles offshore',\n",
       " 'Air disaster: crash of Air France Super Constellation ',\n",
       " 'Aircraft crashed into sea',\n",
       " 'Standing in knee-deep water',\n",
       " 'boat with 46 people on board capsized',\n",
       " 'Holding shark on leader & dangling it above the water',\n",
       " 'Helping angler land a shark',\n",
       " 'Fishing, Struck by another shark when removing shark from line',\n",
       " 'Swimming from camp',\n",
       " 'Pulling raft out to ride to shore',\n",
       " 'Fishing, tossing netted shark onboard',\n",
       " 'Testing classified underwater electronic gear for Raytheon Corporation, vessel torn apart by explosion',\n",
       " 'Diving for shells, saw shark circling wife near the surface, intercepted shark & it pulled him beneath the water',\n",
       " 'Spearfishing, free diving, possibly ascended into path of cruising shark',\n",
       " 'Free diving but treading water at surface',\n",
       " 'Skindiving for abalone (but at surface)',\n",
       " 'Fishing, hauling in a set line',\n",
       " 'Spearfishing, shot a sandtiger shark. Cord to spear tangled round his legs & a wave washed him onto a reef.',\n",
       " 'Speared a grouper, saw shark but it came for him instead of the fish so he fired spear into sharkÂ\\x92s mouth. Then shark took grouper but unable to swallow because of the spear in its mouth.',\n",
       " 'Fishing in shoulder-deep water',\n",
       " 'Fishing, hooked shark towed boat out to sea, storm swamped boat',\n",
       " 'Spearfishing, carrying fish on belt',\n",
       " 'Wading, fishing for flounder',\n",
       " 'S2F-1 airplane crashed immediately after carrier take-off',\n",
       " 'Portuguese Airliner with 9 people aboard went down. ',\n",
       " 'Fishing, lifting shark out of craypot',\n",
       " 'Setting crayfish pots',\n",
       " 'Standing, watching seine netters',\n",
       " 'Collecting ornamental fish',\n",
       " 'Spear fishing, removing fish from spear',\n",
       " 'Swimming underneath house on pilings',\n",
       " 'Dived from dinghy to retrieve oar in heavy seas',\n",
       " 'ship M.V. Rizal sank during typhoon',\n",
       " 'Spearfishing, Smith  & Walker touched shark with tip of their guns',\n",
       " '17 Maldivians adrift in open boat for 31 days',\n",
       " 'Standing in chest-deep water',\n",
       " 'Trailing the field in a surf race',\n",
       " 'National Airlines DC7B enroute from Miami to Los Angeles with 42 or 46 people on board went down in heavy fog',\n",
       " 'Fishing for tunny',\n",
       " \"Swimming at surface through school of feeding 2.5' to 5Â\\x92 sharks\",\n",
       " 'Spearfishing, shot shark, hauled it onto boat',\n",
       " 'Dived overboard to retrieve dinghy',\n",
       " \"Adrift, hanging onto cushion, after his 17' skiff ran out of gas & capsized 3 miles from shore\",\n",
       " 'Gigging for flounder',\n",
       " 'Pulling hooked salmon to boat',\n",
       " 'On inflatable raft',\n",
       " 'The 240-ton motor vessel Pilar II with 100 people on board capsized in high winds & rough seas',\n",
       " 'Fishing boat capsized ',\n",
       " 'Spearfishing with Joe Turner (24). Shark attracted to speared halibut on belt of one diver, tried to bite IdeÂ\\x92s speargun & he shot it in the mouth',\n",
       " 'Pulling anchor',\n",
       " 'Spearfishing (but on surface)',\n",
       " 'Dragging stranded shark ashore',\n",
       " 'Columbian petrol barge Rio Atrato burned and sank',\n",
       " 'Swimming ashore from capsized boat',\n",
       " 'Jumped overboard to rescue a man',\n",
       " 'Diving for pearl shell',\n",
       " 'Lifeboat capsized',\n",
       " 'On boat, preparing to dive',\n",
       " 'Fell into water while attempting to boat a swordfish',\n",
       " 'Bathing with sister',\n",
       " 'Working prawn net',\n",
       " 'Washed overboard into school of fish',\n",
       " 'Swimming with motor tube',\n",
       " 'In deep water about 100 yards from his ship',\n",
       " 'Surfing, but treading water',\n",
       " 'Dragging banana seeds through the shallows',\n",
       " 'Swimming ashore from fishing boat swamped and sunk by a squall',\n",
       " 'Paddling & sailing from Buenos Aires to Miami',\n",
       " 'Spear fishing',\n",
       " 'Surfing on air mattress',\n",
       " 'Cleaning hull of ship ',\n",
       " 'Swimming near jetty',\n",
       " 'Slapped shark on tail as it swam by',\n",
       " '\"Climbing up to ship after repairing the stern in water\"',\n",
       " 'Boat stopped to repair electric pump',\n",
       " 'Swimming, ducking for shells in water 0.9 m deep',\n",
       " 'U.S. Airforce C124 enroute from Hickham Air Base to Japan went down. The 3 survivors fashioned raft from mailbags  & were rescued 3 days after the crash.',\n",
       " 'Spearfishing, had fish on his spear',\n",
       " 'Swimming, towing the shark',\n",
       " 'Paddling in knee-deep water',\n",
       " 'Swimming with goggles',\n",
       " 'Fishing, holding fish in his left hand',\n",
       " 'Spearfishing / swimming on surface',\n",
       " 'Placed hand in disemboweled sharkÂ\\x92s jaws',\n",
       " 'Fishing, holding fish',\n",
       " 'Fishing (trolling)',\n",
       " 'Fishing, walking in river to cast',\n",
       " 'Air/Sea Disaster Pan-American Airlines Stratocruiser with 44 people onboard crashed into the sea',\n",
       " 'Attempting to net shark in shark channel',\n",
       " 'Diving for trochus',\n",
       " 'M.V. Tropical sank. Sole survivor rode oil drums for 8 days without food or water.',\n",
       " 'Competing in spearfishing championship & towing dead fish',\n",
       " '3 men & 2 boys picked up wearing life jackets and with inner tube',\n",
       " 'Swimming between  anchored  pearling luggers',\n",
       " 'Diving from canoe',\n",
       " 'Skindiving for specimens',\n",
       " 'Helmet diving in Miami Seaquarium',\n",
       " 'Dynamiting fish',\n",
       " 'Free diving for sinkers',\n",
       " \"Spearfishing, holding 5' speared fish\",\n",
       " 'Skindiving, fish at belt',\n",
       " 'Climbing back on ship',\n",
       " 'Swimming near pier',\n",
       " 'Free diving for crayfish',\n",
       " 'Attempting to kill a shark with explosives',\n",
       " 'Line fishing from Lakotoi, saw shoal of fish, dived overboard, had speared second fish & surfaced for air',\n",
       " 'Longling fishing',\n",
       " 'Air/Sea Disaster',\n",
       " 'Free diving, working on U/W scenes for motion picture',\n",
       " 'Boating',\n",
       " 'Swimming, attacked at  surf carnival',\n",
       " 'Attempting to set underwater endurance record',\n",
       " 'Swimming off yacht',\n",
       " 'Removing shark from net ',\n",
       " 'Fishing for pompano',\n",
       " 'Spearfishing & lassoed shark',\n",
       " '\"Flying Tiger\" transport plane went down with 5 men onboard',\n",
       " 'Hunting turtle',\n",
       " 'Swimming near breakwater',\n",
       " 'Spearfishing or fishing',\n",
       " 'Fishing from boat, Kaimamla',\n",
       " 'Swimming with speared fish',\n",
       " \"Competing in U/W endurance record, standing beside drum in 10' of water\",\n",
       " 'Rowing toward snapper grounds',\n",
       " 'Hunting lobsters in 2.4 m of water',\n",
       " 'Crossing the bay at the ford',\n",
       " 'Dived overboard & was swimming near stern of trawler',\n",
       " 'Swimming near canoe',\n",
       " 'American freighter Mormackite, bound from Buenos Aires for Baltimore, capsized & sank in heavy seas',\n",
       " 'Fishing  (trawling)',\n",
       " 'Spearfishing, hunting crayfish',\n",
       " 'Tuna fishing, standing on stern platform that was submerged by waves',\n",
       " 'Closed circuit diving (submerged). Diving to recover jettisoned packets of opium for police',\n",
       " 'Fishing trawler Flavio Gioia ',\n",
       " 'Grabbed shark & threw it on deck',\n",
       " 'Pearl diving from lugger Whyalla',\n",
       " 'Bathing alongside ship',\n",
       " 'Fishing / cleaning fish, dived into water to retrieve a lost fish',\n",
       " 'Fishing from shore',\n",
       " 'Crouching in the water',\n",
       " 'Swimming or wading out  to warn bathers that a shark had been seen',\n",
       " 'Aircaft exploded',\n",
       " 'Fishing from market fishboat Sea Spray',\n",
       " 'Royal Hawaiian skymaster DC-6B aircraft went down with  58 passenger & crew',\n",
       " 'Accidentally dragged overboard from the sampan Holokahana into school of yellowfin tuna',\n",
       " 'Retrieving bait box that had fallen overboard',\n",
       " 'Landing hooked shark in boat',\n",
       " 'Swimming in midriver near sewage outlet & 400 m from a slaughterhouse',\n",
       " \"Adrift on a 4'  raft for 32 days\",\n",
       " 'Went over side of boat at trochus ground',\n",
       " 'Bitten while cutting shark from net',\n",
       " 'Lying prone on surfboard',\n",
       " 'Fishing, setting nets',\n",
       " 'Body surfing & treading water',\n",
       " 'Swimming from fishing boat setting nets',\n",
       " 'Fishing for trout ',\n",
       " 'Boat exploded',\n",
       " 'Spearfishing, carrying fish on spear',\n",
       " 'Swimming on surface',\n",
       " 'Fishing, standing in water washing fish',\n",
       " 'Fishing, standing in water next to purse net',\n",
       " 'Fishing for white sharks',\n",
       " 'Went to aid of child being menaced by the shark',\n",
       " 'Spearfishing, speared a small shark',\n",
       " 'Diving, recovering fish killed by dynamite',\n",
       " 'Shipwrecked; adrift on raft for 2 days & 2 nights',\n",
       " 'cargo ship Southern Isle sank at 04h00',\n",
       " 'Body found on deserted luxury yacht, 38Â\\x92 Christine',\n",
       " 'Diving (Hookah)',\n",
       " 'Fell overboard',\n",
       " 'Swept out to sea while fishing',\n",
       " 'Fell off surf ski',\n",
       " 'Fishing, casting in the surf',\n",
       " 'Spearfishing (but treading water on the surface)',\n",
       " 'Paddling a surfboat',\n",
       " 'Paddling a canoe',\n",
       " 'Body surfing / treading water',\n",
       " 'Jerked overboard while pole fishing for tuna',\n",
       " 'Swept off deck of S.S.Frontenac enroute from West Indies to US',\n",
       " 'Goggle-diving for seaweeds, but standing in water',\n",
       " 'Survived crash of two-engine  C-46 transport plane carrying 62 migrant workers from Puerto Rico to USA ',\n",
       " 'Sea Disaster, sinking of the fishing  launch Mavis',\n",
       " 'Fishing, sitting in stern of small boat, feet dangling in the water',\n",
       " 'Suicide',\n",
       " 'Fishing, one of three fishermen swept into the sea by a large wave ',\n",
       " 'Sitting on side of dinghy mending a net',\n",
       " 'Defecating in water beneath the docks',\n",
       " 'Bending over',\n",
       " 'Bathing ',\n",
       " 'Diving for coins',\n",
       " 'Spearfishing, but walking carrying fish on end of speargun',\n",
       " 'Helmet diving, collecting trochus shell',\n",
       " 'Sea Disaster, sinking of the motorship Wingate',\n",
       " \"Lying on the bottom of a 16' dinghy\",\n",
       " 'Free diving or wading back to shore',\n",
       " 'No details',\n",
       " 'Swimming near shore',\n",
       " 'A 75-ton  Japanese fishing ship was sunk by  Chinese Nationalist gunboat, shipwrecked men were clinging to debris',\n",
       " 'Examining netted shark, that had been shot',\n",
       " 'Bathing in water 0.9 m deep',\n",
       " 'Lifesaving exhibition',\n",
       " 'Fishing, on a boat',\n",
       " 'Swimming close to wharf',\n",
       " 'Treading water, waiting for a wave',\n",
       " '2 messboys (Jeppsen) & Tony Latona (13) were playing on the afterdeck of the Danish ship Grete Maersk. Jeppsen fell overboard, Latona threw a lifebelt then jumped in to help him. Ship didnÂ\\x92t notice they were missing',\n",
       " 'Air/Sea Disaster involving C-54 Air Force Transport No. 2686 with 37 on board',\n",
       " 'Pearl diving',\n",
       " 'Leicester abandoned in a hurricane',\n",
       " 'Bathing or washing',\n",
       " 'Spearing a shark',\n",
       " 'Fishing, shark caught in his net',\n",
       " 'Bringing hooked, harpooned shark onboard boat',\n",
       " 'C47 aircraft carrying 5,000 lbs of ice ditched in the sea',\n",
       " 'Underwater photography',\n",
       " 'Fishing, holding fish in right hand',\n",
       " 'Fishing / diving',\n",
       " 'Fishing from surf ski',\n",
       " 'Fishing in waist-deep water',\n",
       " 'Jumped overboard ',\n",
       " ...]"
      ]
     },
     "execution_count": 41,
     "metadata": {},
     "output_type": "execute_result"
    }
   ],
   "source": [
    "activities"
   ]
  },
  {
   "cell_type": "markdown",
   "metadata": {},
   "source": [
    "And then a pattern and a function to get the activities. This pattern selects the words ending with 'ing'. "
   ]
  },
  {
   "cell_type": "code",
   "execution_count": 1,
   "metadata": {},
   "outputs": [],
   "source": [
    "pattern = r'([a-zA-Z]*ing)'"
   ]
  },
  {
   "cell_type": "code",
   "execution_count": 2,
   "metadata": {},
   "outputs": [],
   "source": [
    "def searching(pattern, string):\n",
    "    try:\n",
    "        act = re.search(pattern, string)\n",
    "        return act.group().capitalize()\n",
    "    except:\n",
    "        return(\"not found\")"
   ]
  },
  {
   "cell_type": "markdown",
   "metadata": {},
   "source": [
    "I had the same problem with this function, I was not able to have it outside and call it. "
   ]
  },
  {
   "cell_type": "code",
   "execution_count": 44,
   "metadata": {},
   "outputs": [],
   "source": [
    "df['Activity of victim'] = df['Activity of victim'].dropna().apply(lambda x: searching(pattern, x))\n",
    "#df['Activity of victim'] = df['Activity of victim'].dropna().apply(lt.searching(args = pattern))"
   ]
  },
  {
   "cell_type": "code",
   "execution_count": 45,
   "metadata": {},
   "outputs": [
    {
     "data": {
      "text/plain": [
       "array(['Paddling', 'Standing', 'Surfing', 'Diving', 'Swimming', 'Fishing',\n",
       "       'Walking', 'Feeding', 'Boarding', 'Skiing', 'Windsurfing',\n",
       "       'Paddleboarding', 'Wading', 'Cleaning', 'Snorkeling',\n",
       "       'Spearfishing', nan, 'not found', 'Bathing', 'Kayaking',\n",
       "       'Canoeing', 'Skimboarding', 'Touching', 'Attempting', 'Kakaying',\n",
       "       'Washing', 'Grabbing', 'Tagging', 'Floating', 'Lobstering',\n",
       "       'Teasing', 'Photographing', 'Treading', 'Playing', 'Sitting',\n",
       "       'Rowing', 'Bodysurfing', 'Filming', 'Petting', 'Kneeling',\n",
       "       'Watching', 'Kitesurfing', 'Sailing', 'Kiteboarding', 'Casting',\n",
       "       'Wrangling', 'Dragging', 'Bodyboarding', 'Crayfishing', 'Jumping',\n",
       "       'Wakeboarding', 'Rescuing', 'Measuring', 'Crawling', 'Crabbing',\n",
       "       'Sinking', 'Removing', 'Reviving', 'Shrimping', 'Lifesaving',\n",
       "       'Competing', 'Holding', 'Crouching', 'Scurfing', 'Chumming',\n",
       "       'Boeing', 'Killing', 'Collecting', 'Hiking', 'Conducting', 'Lying',\n",
       "       'Splashing', 'Cruising', 'Moving', 'Towing', 'Riding', 'Sleeping',\n",
       "       'Freediving', 'Stamding', 'Preparing', 'Finning', 'Resting',\n",
       "       'Observing', 'Skindiving', 'Ding', 'Sittting', 'Returning',\n",
       "       'Dropping', 'Ditching', 'Meshing', 'Racing', 'Investigating',\n",
       "       'Foundering', 'During', 'Paddleskiing', 'Sailboarding',\n",
       "       'Inspecting', 'Morning', 'Catching', 'Exercising', 'Gaffing',\n",
       "       'Clinging', 'Drawing', 'Thrashing', 'Being', 'Netting', 'Seeing',\n",
       "       'King', 'Leaving', 'Clamming', 'Picking', 'Pulling', 'Hunting',\n",
       "       'Throwing', 'Helping', 'Hauling', 'Sunbathing', 'Spearing',\n",
       "       'Dangling', 'Searching', 'Testing', 'Seining', 'Abandoning',\n",
       "       'Missing', 'Escaping', 'Gathering', 'Climbing', 'Attaching',\n",
       "       'Checking', 'Taking', 'Chasing', 'Lining', 'Setting', 'Trailing',\n",
       "       'Hanging', 'Gigging', 'Working', 'Wearing', 'Dynamiting',\n",
       "       'Longling', 'Boating', 'Flying', 'Crossing', 'Retrieving',\n",
       "       'Landing', 'Cutting', 'Carrying', 'Defecating', 'Bending',\n",
       "       'Examining', 'Involving', 'Bringing', 'Reading', 'Guarding',\n",
       "       'Travelling', 'Sculling', 'Waiting', 'Sing', 'Burning', 'Scooping',\n",
       "       'Awaiting', 'Launching', 'Feeling', 'Shelling', 'Dismantling',\n",
       "       'Hoisting', 'Stuffing', 'Pearling', 'Expecting', 'Shooting',\n",
       "       'Harpooning', 'Footing', 'Angling', 'Pursuing', 'Fleeing', 'Thing',\n",
       "       'Drowning', 'Oystering', 'Yachting', 'Restraining', 'Traveling',\n",
       "       'Murdering', 'Salvaging', 'Painting', 'Coming', 'Reaching',\n",
       "       'Trying', 'Deserting', 'Fighting', 'Harassing', 'Hooking',\n",
       "       'Loading', 'Ascending', 'Lashing'], dtype=object)"
      ]
     },
     "execution_count": 45,
     "metadata": {},
     "output_type": "execute_result"
    }
   ],
   "source": [
    "df['Activity of victim'].unique() "
   ]
  },
  {
   "cell_type": "code",
   "execution_count": 46,
   "metadata": {},
   "outputs": [
    {
     "data": {
      "text/plain": [
       "Swimming        1100\n",
       "Surfing         1085\n",
       "Fishing          712\n",
       "Diving           528\n",
       "Spearfishing     407\n",
       "                ... \n",
       "Checking           1\n",
       "Inspecting         1\n",
       "Examining          1\n",
       "Harassing          1\n",
       "Seeing             1\n",
       "Name: Activity of victim, Length: 193, dtype: int64"
      ]
     },
     "execution_count": 46,
     "metadata": {},
     "output_type": "execute_result"
    }
   ],
   "source": [
    "df['Activity of victim'].value_counts()"
   ]
  },
  {
   "cell_type": "markdown",
   "metadata": {},
   "source": [
    "Once I have the activities, I will create a dictionary. The key will be the activity, and the value its value_count. "
   ]
  },
  {
   "cell_type": "code",
   "execution_count": 47,
   "metadata": {},
   "outputs": [
    {
     "data": {
      "text/plain": [
       "{'Swimming': 1100,\n",
       " 'Surfing': 1085,\n",
       " 'Fishing': 712,\n",
       " 'Diving': 528,\n",
       " 'Spearfishing': 407,\n",
       " 'Bathing': 188,\n",
       " 'Wading': 167,\n",
       " 'Boarding': 136,\n",
       " 'Standing': 131,\n",
       " 'Snorkeling': 94,\n",
       " 'Floating': 48,\n",
       " 'Kayaking': 42,\n",
       " 'Treading': 39,\n",
       " 'Skiing': 36,\n",
       " 'Attempting': 32,\n",
       " 'Walking': 26,\n",
       " 'Playing': 25,\n",
       " 'Sitting': 21,\n",
       " 'Windsurfing': 21,\n",
       " 'Rowing': 21,\n",
       " 'Paddling': 17,\n",
       " 'Sinking': 14,\n",
       " 'Canoeing': 14,\n",
       " 'Freediving': 14,\n",
       " 'Sailing': 13,\n",
       " 'Washing': 13,\n",
       " 'Feeding': 12,\n",
       " 'Collecting': 12,\n",
       " 'Skindiving': 11,\n",
       " 'Netting': 11,\n",
       " 'During': 9,\n",
       " 'Splashing': 9,\n",
       " 'Boating': 8,\n",
       " 'Clinging': 8,\n",
       " 'Lying': 7,\n",
       " 'Hunting': 7,\n",
       " 'Removing': 7,\n",
       " 'Ding': 6,\n",
       " 'Filming': 6,\n",
       " 'Tagging': 6,\n",
       " 'Competing': 6,\n",
       " 'Jumping': 6,\n",
       " 'Paddleboarding': 6,\n",
       " 'Watching': 6,\n",
       " 'Crossing': 6,\n",
       " 'Lifesaving': 5,\n",
       " 'Pulling': 5,\n",
       " 'Dangling': 5,\n",
       " 'Cleaning': 5,\n",
       " 'Paddleskiing': 5,\n",
       " 'Being': 4,\n",
       " 'Working': 4,\n",
       " 'Spearing': 4,\n",
       " 'Escaping': 4,\n",
       " 'Riding': 4,\n",
       " 'Crabbing': 4,\n",
       " 'Returning': 4,\n",
       " 'Clamming': 4,\n",
       " 'Killing': 4,\n",
       " 'Catching': 4,\n",
       " 'Dragging': 4,\n",
       " 'Racing': 3,\n",
       " 'Crayfishing': 3,\n",
       " 'Touching': 3,\n",
       " 'Carrying': 3,\n",
       " 'Picking': 3,\n",
       " 'Photographing': 3,\n",
       " 'Gathering': 3,\n",
       " 'Holding': 3,\n",
       " 'Testing': 3,\n",
       " 'Launching': 3,\n",
       " 'Finning': 3,\n",
       " 'Flying': 3,\n",
       " 'Helping': 3,\n",
       " 'Taking': 3,\n",
       " 'Sculling': 3,\n",
       " 'Climbing': 3,\n",
       " 'Hauling': 3,\n",
       " 'Preparing': 3,\n",
       " 'Landing': 2,\n",
       " 'Hoisting': 2,\n",
       " 'Chumming': 2,\n",
       " 'Kiteboarding': 2,\n",
       " 'Shooting': 2,\n",
       " 'Cruising': 2,\n",
       " 'Gaffing': 2,\n",
       " 'Abandoning': 2,\n",
       " 'Foundering': 2,\n",
       " 'Wearing': 2,\n",
       " 'Towing': 2,\n",
       " 'Teasing': 2,\n",
       " 'Kitesurfing': 2,\n",
       " 'Crouching': 2,\n",
       " 'Burning': 2,\n",
       " 'Rescuing': 2,\n",
       " 'Boeing': 2,\n",
       " 'Retrieving': 2,\n",
       " 'Reading': 2,\n",
       " 'Moving': 2,\n",
       " 'Hanging': 2,\n",
       " 'Petting': 2,\n",
       " 'Resting': 2,\n",
       " 'Conducting': 2,\n",
       " 'Trailing': 2,\n",
       " 'Ascending': 1,\n",
       " 'Searching': 1,\n",
       " 'Dismantling': 1,\n",
       " 'Leaving': 1,\n",
       " 'Fighting': 1,\n",
       " 'Awaiting': 1,\n",
       " 'Scooping': 1,\n",
       " 'Pursuing': 1,\n",
       " 'Dropping': 1,\n",
       " 'Coming': 1,\n",
       " 'Travelling': 1,\n",
       " 'Lining': 1,\n",
       " 'Feeling': 1,\n",
       " 'Reviving': 1,\n",
       " 'Traveling': 1,\n",
       " 'Footing': 1,\n",
       " 'Meshing': 1,\n",
       " 'Harpooning': 1,\n",
       " 'Exercising': 1,\n",
       " 'Thing': 1,\n",
       " 'Throwing': 1,\n",
       " 'Bending': 1,\n",
       " 'Investigating': 1,\n",
       " 'Cutting': 1,\n",
       " 'Setting': 1,\n",
       " 'Drowning': 1,\n",
       " 'Involving': 1,\n",
       " 'Grabbing': 1,\n",
       " 'Shelling': 1,\n",
       " 'Kneeling': 1,\n",
       " 'Restraining': 1,\n",
       " 'Reaching': 1,\n",
       " 'Kakaying': 1,\n",
       " 'Gigging': 1,\n",
       " 'Attaching': 1,\n",
       " 'Skimboarding': 1,\n",
       " 'Dynamiting': 1,\n",
       " 'Bodyboarding': 1,\n",
       " 'Waiting': 1,\n",
       " 'Murdering': 1,\n",
       " 'Guarding': 1,\n",
       " 'Hiking': 1,\n",
       " 'Bringing': 1,\n",
       " 'Oystering': 1,\n",
       " 'Yachting': 1,\n",
       " 'Thrashing': 1,\n",
       " 'Scurfing': 1,\n",
       " 'Sittting': 1,\n",
       " 'Seining': 1,\n",
       " 'King': 1,\n",
       " 'Lobstering': 1,\n",
       " 'Longling': 1,\n",
       " 'Pearling': 1,\n",
       " 'Painting': 1,\n",
       " 'Defecating': 1,\n",
       " 'Measuring': 1,\n",
       " 'Shrimping': 1,\n",
       " 'Drawing': 1,\n",
       " 'Lashing': 1,\n",
       " 'Crawling': 1,\n",
       " 'Sunbathing': 1,\n",
       " 'Trying': 1,\n",
       " 'Sailboarding': 1,\n",
       " 'Fleeing': 1,\n",
       " 'Sleeping': 1,\n",
       " 'Stuffing': 1,\n",
       " 'Hooking': 1,\n",
       " 'Casting': 1,\n",
       " 'Morning': 1,\n",
       " 'Chasing': 1,\n",
       " 'Salvaging': 1,\n",
       " 'Stamding': 1,\n",
       " 'Wrangling': 1,\n",
       " 'Angling': 1,\n",
       " 'Observing': 1,\n",
       " 'Wakeboarding': 1,\n",
       " 'Sing': 1,\n",
       " 'Bodysurfing': 1,\n",
       " 'Deserting': 1,\n",
       " 'Missing': 1,\n",
       " 'Loading': 1,\n",
       " 'Ditching': 1,\n",
       " 'Expecting': 1,\n",
       " 'Checking': 1,\n",
       " 'Inspecting': 1,\n",
       " 'Examining': 1,\n",
       " 'Harassing': 1,\n",
       " 'Seeing': 1}"
      ]
     },
     "execution_count": 47,
     "metadata": {},
     "output_type": "execute_result"
    }
   ],
   "source": [
    "value_count = df['Activity of victim'].dropna().value_counts()\n",
    "value_count.index = value_count.index.astype(str)\n",
    "\n",
    "activities_dict = value_count.to_dict()\n",
    "activities_dict.pop(\"not found\")\n",
    "activities_dict"
   ]
  },
  {
   "cell_type": "markdown",
   "metadata": {},
   "source": [
    "Then I will create a column called and store the values in it. "
   ]
  },
  {
   "cell_type": "code",
   "execution_count": 48,
   "metadata": {},
   "outputs": [],
   "source": [
    "df['Activity count'] = df['Activity of victim'].map(activities_dict)"
   ]
  },
  {
   "cell_type": "code",
   "execution_count": 49,
   "metadata": {},
   "outputs": [
    {
     "data": {
      "text/html": [
       "<div>\n",
       "<style scoped>\n",
       "    .dataframe tbody tr th:only-of-type {\n",
       "        vertical-align: middle;\n",
       "    }\n",
       "\n",
       "    .dataframe tbody tr th {\n",
       "        vertical-align: top;\n",
       "    }\n",
       "\n",
       "    .dataframe thead th {\n",
       "        text-align: right;\n",
       "    }\n",
       "</style>\n",
       "<table border=\"1\" class=\"dataframe\">\n",
       "  <thead>\n",
       "    <tr style=\"text-align: right;\">\n",
       "      <th></th>\n",
       "      <th>Case Number</th>\n",
       "      <th>Date</th>\n",
       "      <th>Year</th>\n",
       "      <th>Type</th>\n",
       "      <th>Country</th>\n",
       "      <th>Area</th>\n",
       "      <th>Location</th>\n",
       "      <th>Activity</th>\n",
       "      <th>Name</th>\n",
       "      <th>Sex</th>\n",
       "      <th>Age</th>\n",
       "      <th>Injury</th>\n",
       "      <th>Fatal (Y/N)</th>\n",
       "      <th>Time</th>\n",
       "      <th>Species</th>\n",
       "      <th>Investigator or Source</th>\n",
       "      <th>P/U</th>\n",
       "      <th>Age of victim</th>\n",
       "      <th>Activity of victim</th>\n",
       "      <th>Activity count</th>\n",
       "    </tr>\n",
       "  </thead>\n",
       "  <tbody>\n",
       "    <tr>\n",
       "      <th>0</th>\n",
       "      <td>2018.06.25</td>\n",
       "      <td>25-Jun-2018</td>\n",
       "      <td>2018.0</td>\n",
       "      <td>Boating</td>\n",
       "      <td>USA</td>\n",
       "      <td>California</td>\n",
       "      <td>Oceanside, San Diego County</td>\n",
       "      <td>Paddling</td>\n",
       "      <td>Julie Wolfe</td>\n",
       "      <td>F</td>\n",
       "      <td>57</td>\n",
       "      <td>No injury to occupant, outrigger canoe and pad...</td>\n",
       "      <td>N</td>\n",
       "      <td>18h00</td>\n",
       "      <td>White shark</td>\n",
       "      <td>R. Collier, GSAF</td>\n",
       "      <td>Invalid</td>\n",
       "      <td>57</td>\n",
       "      <td>Paddling</td>\n",
       "      <td>17.0</td>\n",
       "    </tr>\n",
       "    <tr>\n",
       "      <th>1</th>\n",
       "      <td>2018.06.18</td>\n",
       "      <td>18-Jun-2018</td>\n",
       "      <td>2018.0</td>\n",
       "      <td>Unprovoked</td>\n",
       "      <td>USA</td>\n",
       "      <td>Georgia</td>\n",
       "      <td>St. Simon Island, Glynn County</td>\n",
       "      <td>Standing</td>\n",
       "      <td>AdysonÂ McNeely</td>\n",
       "      <td>F</td>\n",
       "      <td>11</td>\n",
       "      <td>Minor injury to left thigh</td>\n",
       "      <td>N</td>\n",
       "      <td>14h00  -15h00</td>\n",
       "      <td>NaN</td>\n",
       "      <td>K.McMurray, TrackingSharks.com</td>\n",
       "      <td>Unprovoked</td>\n",
       "      <td>11</td>\n",
       "      <td>Standing</td>\n",
       "      <td>131.0</td>\n",
       "    </tr>\n",
       "    <tr>\n",
       "      <th>2</th>\n",
       "      <td>2018.06.09</td>\n",
       "      <td>09-Jun-2018</td>\n",
       "      <td>2018.0</td>\n",
       "      <td>Invalid</td>\n",
       "      <td>USA</td>\n",
       "      <td>Hawaii</td>\n",
       "      <td>Habush, Oahu</td>\n",
       "      <td>Surfing</td>\n",
       "      <td>John Denges</td>\n",
       "      <td>M</td>\n",
       "      <td>48</td>\n",
       "      <td>Injury to left lower leg from surfboard skeg</td>\n",
       "      <td>N</td>\n",
       "      <td>07h45</td>\n",
       "      <td>NaN</td>\n",
       "      <td>K.McMurray, TrackingSharks.com</td>\n",
       "      <td>Invalid</td>\n",
       "      <td>48</td>\n",
       "      <td>Surfing</td>\n",
       "      <td>1085.0</td>\n",
       "    </tr>\n",
       "    <tr>\n",
       "      <th>3</th>\n",
       "      <td>2018.06.08</td>\n",
       "      <td>08-Jun-2018</td>\n",
       "      <td>2018.0</td>\n",
       "      <td>Unprovoked</td>\n",
       "      <td>AUSTRALIA</td>\n",
       "      <td>New South Wales</td>\n",
       "      <td>Arrawarra Headland</td>\n",
       "      <td>Surfing</td>\n",
       "      <td>male</td>\n",
       "      <td>M</td>\n",
       "      <td>NaN</td>\n",
       "      <td>Minor injury to lower leg</td>\n",
       "      <td>N</td>\n",
       "      <td>NaN</td>\n",
       "      <td>2 m shark</td>\n",
       "      <td>B. Myatt, GSAF</td>\n",
       "      <td>Unprovoked</td>\n",
       "      <td>NaN</td>\n",
       "      <td>Surfing</td>\n",
       "      <td>1085.0</td>\n",
       "    </tr>\n",
       "    <tr>\n",
       "      <th>4</th>\n",
       "      <td>2018.06.04</td>\n",
       "      <td>04-Jun-2018</td>\n",
       "      <td>2018.0</td>\n",
       "      <td>Provoked</td>\n",
       "      <td>MEXICO</td>\n",
       "      <td>Colima</td>\n",
       "      <td>La Ticla</td>\n",
       "      <td>Free diving</td>\n",
       "      <td>Gustavo Ramos</td>\n",
       "      <td>M</td>\n",
       "      <td>NaN</td>\n",
       "      <td>Lacerations to leg &amp; hand shark PROVOKED INCIDENT</td>\n",
       "      <td>N</td>\n",
       "      <td>NaN</td>\n",
       "      <td>Tiger shark, 3m</td>\n",
       "      <td>A .Kipper</td>\n",
       "      <td>Provoked</td>\n",
       "      <td>NaN</td>\n",
       "      <td>Diving</td>\n",
       "      <td>528.0</td>\n",
       "    </tr>\n",
       "  </tbody>\n",
       "</table>\n",
       "</div>"
      ],
      "text/plain": [
       "  Case Number         Date    Year        Type    Country             Area  \\\n",
       "0  2018.06.25  25-Jun-2018  2018.0     Boating        USA       California   \n",
       "1  2018.06.18  18-Jun-2018  2018.0  Unprovoked        USA          Georgia   \n",
       "2  2018.06.09  09-Jun-2018  2018.0     Invalid        USA           Hawaii   \n",
       "3  2018.06.08  08-Jun-2018  2018.0  Unprovoked  AUSTRALIA  New South Wales   \n",
       "4  2018.06.04  04-Jun-2018  2018.0    Provoked     MEXICO           Colima   \n",
       "\n",
       "                         Location     Activity              Name Sex  Age  \\\n",
       "0     Oceanside, San Diego County     Paddling       Julie Wolfe   F   57   \n",
       "1  St. Simon Island, Glynn County     Standing  AdysonÂ McNeely    F   11   \n",
       "2                    Habush, Oahu      Surfing       John Denges   M   48   \n",
       "3              Arrawarra Headland      Surfing              male   M  NaN   \n",
       "4                        La Ticla  Free diving    Gustavo Ramos    M  NaN   \n",
       "\n",
       "                                              Injury Fatal (Y/N)  \\\n",
       "0  No injury to occupant, outrigger canoe and pad...           N   \n",
       "1                         Minor injury to left thigh           N   \n",
       "2       Injury to left lower leg from surfboard skeg           N   \n",
       "3                          Minor injury to lower leg           N   \n",
       "4  Lacerations to leg & hand shark PROVOKED INCIDENT           N   \n",
       "\n",
       "            Time         Species           Investigator or Source         P/U  \\\n",
       "0          18h00      White shark                R. Collier, GSAF     Invalid   \n",
       "1  14h00  -15h00              NaN  K.McMurray, TrackingSharks.com  Unprovoked   \n",
       "2          07h45              NaN  K.McMurray, TrackingSharks.com     Invalid   \n",
       "3            NaN        2 m shark                  B. Myatt, GSAF  Unprovoked   \n",
       "4            NaN  Tiger shark, 3m                       A .Kipper    Provoked   \n",
       "\n",
       "  Age of victim Activity of victim  Activity count  \n",
       "0            57           Paddling            17.0  \n",
       "1            11           Standing           131.0  \n",
       "2            48            Surfing          1085.0  \n",
       "3           NaN            Surfing          1085.0  \n",
       "4           NaN             Diving           528.0  "
      ]
     },
     "execution_count": 49,
     "metadata": {},
     "output_type": "execute_result"
    }
   ],
   "source": [
    "df.head()"
   ]
  },
  {
   "cell_type": "markdown",
   "metadata": {},
   "source": [
    "## Exporting the dataframes to create the graphs"
   ]
  },
  {
   "cell_type": "markdown",
   "metadata": {},
   "source": [
    "Here I will filter the columns and store export the results, in order to create the graphs in a separate notebook. \n",
    "\n",
    "I was not able to open all the visualizations in the separated notebook, probably because I forgot to add one or more 'inplace = True'. Unfortunately I do not have time to correct it now, so I will export the graphs from here.  "
   ]
  },
  {
   "cell_type": "code",
   "execution_count": 50,
   "metadata": {
    "scrolled": true
   },
   "outputs": [],
   "source": [
    "df_calculation = df.loc[(df['Activity count'] > 100) & (df['Fatal (Y/N)'] == 'Y')]"
   ]
  },
  {
   "cell_type": "code",
   "execution_count": 51,
   "metadata": {},
   "outputs": [],
   "source": [
    "df_calculation.to_csv('./Data/df_calculation.csv')"
   ]
  },
  {
   "cell_type": "code",
   "execution_count": 52,
   "metadata": {},
   "outputs": [],
   "source": [
    "df_calculation2 = df.loc[(df['Activity count'] > 100) & (df['Fatal (Y/N)'] == 'N')]"
   ]
  },
  {
   "cell_type": "code",
   "execution_count": 53,
   "metadata": {},
   "outputs": [],
   "source": [
    "df_calculation2.to_csv('./Data/df_calculation2.csv')"
   ]
  },
  {
   "cell_type": "code",
   "execution_count": 54,
   "metadata": {},
   "outputs": [],
   "source": [
    "df_prov_unprov = (df['Sex'] == 'N') & (df['Sex'] == 'Y')"
   ]
  },
  {
   "cell_type": "code",
   "execution_count": 55,
   "metadata": {},
   "outputs": [],
   "source": [
    "df_prov_unprov.to_csv('./Data/df_prov_unprov.csv') "
   ]
  },
  {
   "cell_type": "code",
   "execution_count": 57,
   "metadata": {},
   "outputs": [],
   "source": [
    "df_a_s = df.loc[(df['Age of victim'] < '60') & (df['Sex'])]"
   ]
  },
  {
   "cell_type": "code",
   "execution_count": 58,
   "metadata": {
    "scrolled": true
   },
   "outputs": [],
   "source": [
    "df_a_s.to_csv('./Data/df_a_s.csv')  "
   ]
  },
  {
   "cell_type": "code",
   "execution_count": 60,
   "metadata": {},
   "outputs": [],
   "source": [
    "df_a_s2 = df.loc[(df['Age of victim'] < '60') & (df['Fatal (Y/N)'] != 'UNKNOWN')]"
   ]
  },
  {
   "cell_type": "code",
   "execution_count": 61,
   "metadata": {},
   "outputs": [],
   "source": [
    "df_a_s2.to_csv('./Data/df_a_s2.csv') "
   ]
  },
  {
   "cell_type": "code",
   "execution_count": 63,
   "metadata": {},
   "outputs": [],
   "source": [
    "# Df to save the Provoked and Unprovoked without the Invalid\n",
    "df_p_u = df.loc[(df['P/U'] == 'Unprovoked') | (df['P/U'] == 'Provoked')]"
   ]
  },
  {
   "cell_type": "code",
   "execution_count": 64,
   "metadata": {},
   "outputs": [],
   "source": [
    "df_p_u.to_csv('./Data/df_p_u.csv') "
   ]
  },
  {
   "cell_type": "markdown",
   "metadata": {},
   "source": [
    "I will have all the graphs here just in case"
   ]
  },
  {
   "cell_type": "code",
   "execution_count": null,
   "metadata": {},
   "outputs": [],
   "source": []
  },
  {
   "cell_type": "code",
   "execution_count": null,
   "metadata": {},
   "outputs": [],
   "source": []
  },
  {
   "cell_type": "code",
   "execution_count": null,
   "metadata": {},
   "outputs": [],
   "source": []
  },
  {
   "cell_type": "code",
   "execution_count": 65,
   "metadata": {},
   "outputs": [],
   "source": [
    "# Replace all the 'not found' entries with NaN values\n",
    "df['Age of victim'].replace(['not found'], np.nan, inplace = True)"
   ]
  },
  {
   "cell_type": "code",
   "execution_count": 66,
   "metadata": {},
   "outputs": [],
   "source": [
    "list_age_nan = list(df['Age of victim'].unique())\n",
    "list_ages = [x for x in list_age_nan if pd.isna(x) == False]\n",
    "list_int = [x for x in list_ages if x < '60']\n",
    "\n",
    "list_int.sort()"
   ]
  },
  {
   "cell_type": "code",
   "execution_count": 67,
   "metadata": {
    "scrolled": true
   },
   "outputs": [
    {
     "data": {
      "text/plain": [
       "N          4300\n",
       "Y          1389\n",
       "UNKNOWN     613\n",
       "Name: Fatal (Y/N), dtype: int64"
      ]
     },
     "execution_count": 67,
     "metadata": {},
     "output_type": "execute_result"
    }
   ],
   "source": [
    "df['Fatal (Y/N)'].value_counts()"
   ]
  },
  {
   "cell_type": "code",
   "execution_count": 68,
   "metadata": {
    "scrolled": true
   },
   "outputs": [
    {
     "data": {
      "text/plain": [
       "['10',\n",
       " '11',\n",
       " '12',\n",
       " '14',\n",
       " '15',\n",
       " '16',\n",
       " '17',\n",
       " '20',\n",
       " '21',\n",
       " '22',\n",
       " '24',\n",
       " '25',\n",
       " '26',\n",
       " '27',\n",
       " '28',\n",
       " '40',\n",
       " '41',\n",
       " '42',\n",
       " '44',\n",
       " '45',\n",
       " '46',\n",
       " '47',\n",
       " '48',\n",
       " '50',\n",
       " '51',\n",
       " '52',\n",
       " '54',\n",
       " '55',\n",
       " '56',\n",
       " '57',\n",
       " '58']"
      ]
     },
     "execution_count": 68,
     "metadata": {},
     "output_type": "execute_result"
    }
   ],
   "source": [
    "list_int"
   ]
  },
  {
   "cell_type": "code",
   "execution_count": 69,
   "metadata": {
    "scrolled": true
   },
   "outputs": [
    {
     "data": {
      "text/plain": [
       "17    155\n",
       "20    151\n",
       "15    139\n",
       "16    138\n",
       "21    121\n",
       "22    117\n",
       "25    109\n",
       "24    106\n",
       "14    102\n",
       "26     83\n",
       "28     82\n",
       "27     78\n",
       "12     73\n",
       "40     59\n",
       "10     59\n",
       "11     38\n",
       "42     38\n",
       "41     38\n",
       "50     36\n",
       "52     35\n",
       "45     33\n",
       "47     30\n",
       "44     29\n",
       "48     28\n",
       "46     27\n",
       "55     23\n",
       "51     20\n",
       "60     18\n",
       "54     17\n",
       "57     16\n",
       "58     15\n",
       "61     13\n",
       "56     10\n",
       "62      8\n",
       "68      7\n",
       "70      6\n",
       "65      5\n",
       "64      4\n",
       "66      4\n",
       "71      3\n",
       "77      3\n",
       "75      2\n",
       "78      2\n",
       "74      2\n",
       "82      1\n",
       "84      1\n",
       "67      1\n",
       "86      1\n",
       "72      1\n",
       "87      1\n",
       "81      1\n",
       "Name: Age of victim, dtype: int64"
      ]
     },
     "execution_count": 69,
     "metadata": {},
     "output_type": "execute_result"
    }
   ],
   "source": [
    "df['Age of victim'].value_counts()"
   ]
  },
  {
   "cell_type": "code",
   "execution_count": 70,
   "metadata": {
    "scrolled": false
   },
   "outputs": [
    {
     "data": {
      "text/plain": [
       "array(['57', '11', '48', nan, None, '52', '15', '12', '10', '21', '60',\n",
       "       '54', '41', '56', '25', '55', '46', '45', '14', '40', '28', '20',\n",
       "       '24', '26', '22', '17', '42', '50', '16', '82', '68', '51', '58',\n",
       "       '47', '61', '65', '66', '72', '27', '64', '71', '44', '62', '70',\n",
       "       '77', '74', '86', '84', '75', '87', '67', '81', '78'], dtype=object)"
      ]
     },
     "execution_count": 70,
     "metadata": {},
     "output_type": "execute_result"
    }
   ],
   "source": [
    "df['Age of victim'].unique()"
   ]
  },
  {
   "cell_type": "code",
   "execution_count": 71,
   "metadata": {},
   "outputs": [],
   "source": [
    "df_prov_unprov = (df['Sex'] == 'N') & (df['Sex'] == 'Y')"
   ]
  },
  {
   "cell_type": "code",
   "execution_count": 72,
   "metadata": {
    "scrolled": true
   },
   "outputs": [
    {
     "data": {
      "text/html": [
       "<div>\n",
       "<style scoped>\n",
       "    .dataframe tbody tr th:only-of-type {\n",
       "        vertical-align: middle;\n",
       "    }\n",
       "\n",
       "    .dataframe tbody tr th {\n",
       "        vertical-align: top;\n",
       "    }\n",
       "\n",
       "    .dataframe thead th {\n",
       "        text-align: right;\n",
       "    }\n",
       "</style>\n",
       "<table border=\"1\" class=\"dataframe\">\n",
       "  <thead>\n",
       "    <tr style=\"text-align: right;\">\n",
       "      <th></th>\n",
       "      <th>Case Number</th>\n",
       "      <th>Date</th>\n",
       "      <th>Year</th>\n",
       "      <th>Type</th>\n",
       "      <th>Country</th>\n",
       "      <th>Area</th>\n",
       "      <th>Location</th>\n",
       "      <th>Activity</th>\n",
       "      <th>Name</th>\n",
       "      <th>Sex</th>\n",
       "      <th>Age</th>\n",
       "      <th>Injury</th>\n",
       "      <th>Fatal (Y/N)</th>\n",
       "      <th>Time</th>\n",
       "      <th>Species</th>\n",
       "      <th>Investigator or Source</th>\n",
       "      <th>P/U</th>\n",
       "      <th>Age of victim</th>\n",
       "      <th>Activity of victim</th>\n",
       "      <th>Activity count</th>\n",
       "    </tr>\n",
       "  </thead>\n",
       "  <tbody>\n",
       "    <tr>\n",
       "      <th>1</th>\n",
       "      <td>2018.06.18</td>\n",
       "      <td>18-Jun-2018</td>\n",
       "      <td>2018.0</td>\n",
       "      <td>Unprovoked</td>\n",
       "      <td>USA</td>\n",
       "      <td>Georgia</td>\n",
       "      <td>St. Simon Island, Glynn County</td>\n",
       "      <td>Standing</td>\n",
       "      <td>AdysonÂ McNeely</td>\n",
       "      <td>F</td>\n",
       "      <td>11</td>\n",
       "      <td>Minor injury to left thigh</td>\n",
       "      <td>N</td>\n",
       "      <td>14h00  -15h00</td>\n",
       "      <td>NaN</td>\n",
       "      <td>K.McMurray, TrackingSharks.com</td>\n",
       "      <td>Unprovoked</td>\n",
       "      <td>11</td>\n",
       "      <td>Standing</td>\n",
       "      <td>131.0</td>\n",
       "    </tr>\n",
       "    <tr>\n",
       "      <th>3</th>\n",
       "      <td>2018.06.08</td>\n",
       "      <td>08-Jun-2018</td>\n",
       "      <td>2018.0</td>\n",
       "      <td>Unprovoked</td>\n",
       "      <td>AUSTRALIA</td>\n",
       "      <td>New South Wales</td>\n",
       "      <td>Arrawarra Headland</td>\n",
       "      <td>Surfing</td>\n",
       "      <td>male</td>\n",
       "      <td>M</td>\n",
       "      <td>NaN</td>\n",
       "      <td>Minor injury to lower leg</td>\n",
       "      <td>N</td>\n",
       "      <td>NaN</td>\n",
       "      <td>2 m shark</td>\n",
       "      <td>B. Myatt, GSAF</td>\n",
       "      <td>Unprovoked</td>\n",
       "      <td>NaN</td>\n",
       "      <td>Surfing</td>\n",
       "      <td>1085.0</td>\n",
       "    </tr>\n",
       "    <tr>\n",
       "      <th>4</th>\n",
       "      <td>2018.06.04</td>\n",
       "      <td>04-Jun-2018</td>\n",
       "      <td>2018.0</td>\n",
       "      <td>Provoked</td>\n",
       "      <td>MEXICO</td>\n",
       "      <td>Colima</td>\n",
       "      <td>La Ticla</td>\n",
       "      <td>Free diving</td>\n",
       "      <td>Gustavo Ramos</td>\n",
       "      <td>M</td>\n",
       "      <td>NaN</td>\n",
       "      <td>Lacerations to leg &amp; hand shark PROVOKED INCIDENT</td>\n",
       "      <td>N</td>\n",
       "      <td>NaN</td>\n",
       "      <td>Tiger shark, 3m</td>\n",
       "      <td>A .Kipper</td>\n",
       "      <td>Provoked</td>\n",
       "      <td>NaN</td>\n",
       "      <td>Diving</td>\n",
       "      <td>528.0</td>\n",
       "    </tr>\n",
       "    <tr>\n",
       "      <th>5</th>\n",
       "      <td>2018.06.03.b</td>\n",
       "      <td>03-Jun-2018</td>\n",
       "      <td>2018.0</td>\n",
       "      <td>Unprovoked</td>\n",
       "      <td>AUSTRALIA</td>\n",
       "      <td>New South Wales</td>\n",
       "      <td>Flat Rock, Ballina</td>\n",
       "      <td>Kite surfing</td>\n",
       "      <td>Chris Â</td>\n",
       "      <td>M</td>\n",
       "      <td>NaN</td>\n",
       "      <td>No injury, board bitten</td>\n",
       "      <td>N</td>\n",
       "      <td>NaN</td>\n",
       "      <td>NaN</td>\n",
       "      <td>Daily Telegraph, 6/4/2018</td>\n",
       "      <td>Unprovoked</td>\n",
       "      <td>NaN</td>\n",
       "      <td>Surfing</td>\n",
       "      <td>1085.0</td>\n",
       "    </tr>\n",
       "    <tr>\n",
       "      <th>6</th>\n",
       "      <td>2018.06.03.a</td>\n",
       "      <td>03-Jun-2018</td>\n",
       "      <td>2018.0</td>\n",
       "      <td>Unprovoked</td>\n",
       "      <td>BRAZIL</td>\n",
       "      <td>Pernambuco</td>\n",
       "      <td>Piedade Beach, Recife</td>\n",
       "      <td>Swimming</td>\n",
       "      <td>Jose Ernesto da Silva</td>\n",
       "      <td>M</td>\n",
       "      <td>1</td>\n",
       "      <td>FATAL</td>\n",
       "      <td>Y</td>\n",
       "      <td>Late afternoon</td>\n",
       "      <td>Tiger shark</td>\n",
       "      <td>Diario de Pernambuco, 6/4/2018</td>\n",
       "      <td>Unprovoked</td>\n",
       "      <td>None</td>\n",
       "      <td>Swimming</td>\n",
       "      <td>1100.0</td>\n",
       "    </tr>\n",
       "    <tr>\n",
       "      <th>...</th>\n",
       "      <td>...</td>\n",
       "      <td>...</td>\n",
       "      <td>...</td>\n",
       "      <td>...</td>\n",
       "      <td>...</td>\n",
       "      <td>...</td>\n",
       "      <td>...</td>\n",
       "      <td>...</td>\n",
       "      <td>...</td>\n",
       "      <td>...</td>\n",
       "      <td>...</td>\n",
       "      <td>...</td>\n",
       "      <td>...</td>\n",
       "      <td>...</td>\n",
       "      <td>...</td>\n",
       "      <td>...</td>\n",
       "      <td>...</td>\n",
       "      <td>...</td>\n",
       "      <td>...</td>\n",
       "      <td>...</td>\n",
       "    </tr>\n",
       "    <tr>\n",
       "      <th>6297</th>\n",
       "      <td>ND.0005</td>\n",
       "      <td>Before 1903</td>\n",
       "      <td>0.0</td>\n",
       "      <td>Unprovoked</td>\n",
       "      <td>AUSTRALIA</td>\n",
       "      <td>Western Australia</td>\n",
       "      <td>Roebuck Bay</td>\n",
       "      <td>Diving</td>\n",
       "      <td>male</td>\n",
       "      <td>M</td>\n",
       "      <td>NaN</td>\n",
       "      <td>FATAL</td>\n",
       "      <td>Y</td>\n",
       "      <td>NaN</td>\n",
       "      <td>NaN</td>\n",
       "      <td>H. Taunton; N. Bartlett,  p. 234</td>\n",
       "      <td>Unprovoked</td>\n",
       "      <td>NaN</td>\n",
       "      <td>Diving</td>\n",
       "      <td>528.0</td>\n",
       "    </tr>\n",
       "    <tr>\n",
       "      <th>6298</th>\n",
       "      <td>ND.0004</td>\n",
       "      <td>Before 1903</td>\n",
       "      <td>0.0</td>\n",
       "      <td>Unprovoked</td>\n",
       "      <td>AUSTRALIA</td>\n",
       "      <td>Western Australia</td>\n",
       "      <td>NaN</td>\n",
       "      <td>Pearl diving</td>\n",
       "      <td>Ahmun</td>\n",
       "      <td>M</td>\n",
       "      <td>NaN</td>\n",
       "      <td>FATAL</td>\n",
       "      <td>Y</td>\n",
       "      <td>NaN</td>\n",
       "      <td>NaN</td>\n",
       "      <td>H. Taunton; N. Bartlett,  pp. 233-234</td>\n",
       "      <td>Unprovoked</td>\n",
       "      <td>NaN</td>\n",
       "      <td>Diving</td>\n",
       "      <td>528.0</td>\n",
       "    </tr>\n",
       "    <tr>\n",
       "      <th>6299</th>\n",
       "      <td>ND.0003</td>\n",
       "      <td>1900-1905</td>\n",
       "      <td>0.0</td>\n",
       "      <td>Unprovoked</td>\n",
       "      <td>USA</td>\n",
       "      <td>North Carolina</td>\n",
       "      <td>Ocracoke Inlet</td>\n",
       "      <td>Swimming</td>\n",
       "      <td>Coast Guard personnel</td>\n",
       "      <td>M</td>\n",
       "      <td>NaN</td>\n",
       "      <td>FATAL</td>\n",
       "      <td>Y</td>\n",
       "      <td>NaN</td>\n",
       "      <td>NaN</td>\n",
       "      <td>F. Schwartz, p.23; C. Creswell, GSAF</td>\n",
       "      <td>Unprovoked</td>\n",
       "      <td>NaN</td>\n",
       "      <td>Swimming</td>\n",
       "      <td>1100.0</td>\n",
       "    </tr>\n",
       "    <tr>\n",
       "      <th>6300</th>\n",
       "      <td>ND.0002</td>\n",
       "      <td>1883-1889</td>\n",
       "      <td>0.0</td>\n",
       "      <td>Unprovoked</td>\n",
       "      <td>PANAMA</td>\n",
       "      <td>NaN</td>\n",
       "      <td>Panama Bay 8ÂºN, 79ÂºW</td>\n",
       "      <td>NaN</td>\n",
       "      <td>Jules Patterson</td>\n",
       "      <td>M</td>\n",
       "      <td>NaN</td>\n",
       "      <td>FATAL</td>\n",
       "      <td>Y</td>\n",
       "      <td>NaN</td>\n",
       "      <td>NaN</td>\n",
       "      <td>The Sun, 10/20/1938</td>\n",
       "      <td>Unprovoked</td>\n",
       "      <td>NaN</td>\n",
       "      <td>NaN</td>\n",
       "      <td>NaN</td>\n",
       "    </tr>\n",
       "    <tr>\n",
       "      <th>6301</th>\n",
       "      <td>ND.0001</td>\n",
       "      <td>1845-1853</td>\n",
       "      <td>0.0</td>\n",
       "      <td>Unprovoked</td>\n",
       "      <td>CEYLON (SRI LANKA)</td>\n",
       "      <td>Eastern Province</td>\n",
       "      <td>Below the English fort, Trincomalee</td>\n",
       "      <td>Swimming</td>\n",
       "      <td>male</td>\n",
       "      <td>M</td>\n",
       "      <td>15</td>\n",
       "      <td>FATAL. \"Shark bit him in half, carrying away t...</td>\n",
       "      <td>Y</td>\n",
       "      <td>NaN</td>\n",
       "      <td>NaN</td>\n",
       "      <td>S.W. Baker</td>\n",
       "      <td>Unprovoked</td>\n",
       "      <td>15</td>\n",
       "      <td>Swimming</td>\n",
       "      <td>1100.0</td>\n",
       "    </tr>\n",
       "  </tbody>\n",
       "</table>\n",
       "<p>5169 rows × 20 columns</p>\n",
       "</div>"
      ],
      "text/plain": [
       "       Case Number         Date    Year        Type             Country  \\\n",
       "1       2018.06.18  18-Jun-2018  2018.0  Unprovoked                 USA   \n",
       "3       2018.06.08  08-Jun-2018  2018.0  Unprovoked           AUSTRALIA   \n",
       "4       2018.06.04  04-Jun-2018  2018.0    Provoked              MEXICO   \n",
       "5     2018.06.03.b  03-Jun-2018  2018.0  Unprovoked           AUSTRALIA   \n",
       "6     2018.06.03.a  03-Jun-2018  2018.0  Unprovoked              BRAZIL   \n",
       "...            ...          ...     ...         ...                 ...   \n",
       "6297       ND.0005  Before 1903     0.0  Unprovoked           AUSTRALIA   \n",
       "6298       ND.0004  Before 1903     0.0  Unprovoked           AUSTRALIA   \n",
       "6299       ND.0003    1900-1905     0.0  Unprovoked                 USA   \n",
       "6300       ND.0002    1883-1889     0.0  Unprovoked              PANAMA   \n",
       "6301       ND.0001    1845-1853     0.0  Unprovoked  CEYLON (SRI LANKA)   \n",
       "\n",
       "                   Area                             Location      Activity  \\\n",
       "1               Georgia       St. Simon Island, Glynn County      Standing   \n",
       "3       New South Wales                   Arrawarra Headland       Surfing   \n",
       "4                Colima                             La Ticla   Free diving   \n",
       "5       New South Wales                   Flat Rock, Ballina  Kite surfing   \n",
       "6            Pernambuco                Piedade Beach, Recife      Swimming   \n",
       "...                 ...                                  ...           ...   \n",
       "6297  Western Australia                          Roebuck Bay        Diving   \n",
       "6298  Western Australia                                  NaN  Pearl diving   \n",
       "6299     North Carolina                       Ocracoke Inlet      Swimming   \n",
       "6300                NaN               Panama Bay 8ÂºN, 79ÂºW           NaN   \n",
       "6301   Eastern Province  Below the English fort, Trincomalee      Swimming   \n",
       "\n",
       "                        Name Sex  Age  \\\n",
       "1           AdysonÂ McNeely    F   11   \n",
       "3                       male   M  NaN   \n",
       "4             Gustavo Ramos    M  NaN   \n",
       "5                   Chris Â\n",
       "   M  NaN   \n",
       "6     Jose Ernesto da Silva    M    1   \n",
       "...                      ...  ..  ...   \n",
       "6297                    male   M  NaN   \n",
       "6298                   Ahmun   M  NaN   \n",
       "6299   Coast Guard personnel   M  NaN   \n",
       "6300         Jules Patterson   M  NaN   \n",
       "6301                    male   M   15   \n",
       "\n",
       "                                                 Injury Fatal (Y/N)  \\\n",
       "1                            Minor injury to left thigh           N   \n",
       "3                             Minor injury to lower leg           N   \n",
       "4     Lacerations to leg & hand shark PROVOKED INCIDENT           N   \n",
       "5                               No injury, board bitten           N   \n",
       "6                                                 FATAL           Y   \n",
       "...                                                 ...         ...   \n",
       "6297                                              FATAL           Y   \n",
       "6298                                              FATAL           Y   \n",
       "6299                                              FATAL           Y   \n",
       "6300                                              FATAL           Y   \n",
       "6301  FATAL. \"Shark bit him in half, carrying away t...           Y   \n",
       "\n",
       "                Time         Species                  Investigator or Source  \\\n",
       "1      14h00  -15h00              NaN         K.McMurray, TrackingSharks.com   \n",
       "3                NaN        2 m shark                         B. Myatt, GSAF   \n",
       "4                NaN  Tiger shark, 3m                              A .Kipper   \n",
       "5                NaN              NaN              Daily Telegraph, 6/4/2018   \n",
       "6     Late afternoon      Tiger shark         Diario de Pernambuco, 6/4/2018   \n",
       "...              ...              ...                                    ...   \n",
       "6297             NaN              NaN       H. Taunton; N. Bartlett,  p. 234   \n",
       "6298             NaN              NaN  H. Taunton; N. Bartlett,  pp. 233-234   \n",
       "6299             NaN              NaN   F. Schwartz, p.23; C. Creswell, GSAF   \n",
       "6300             NaN              NaN                    The Sun, 10/20/1938   \n",
       "6301             NaN              NaN                             S.W. Baker   \n",
       "\n",
       "             P/U Age of victim Activity of victim  Activity count  \n",
       "1     Unprovoked            11           Standing           131.0  \n",
       "3     Unprovoked           NaN            Surfing          1085.0  \n",
       "4       Provoked           NaN             Diving           528.0  \n",
       "5     Unprovoked           NaN            Surfing          1085.0  \n",
       "6     Unprovoked          None           Swimming          1100.0  \n",
       "...          ...           ...                ...             ...  \n",
       "6297  Unprovoked           NaN             Diving           528.0  \n",
       "6298  Unprovoked           NaN             Diving           528.0  \n",
       "6299  Unprovoked           NaN           Swimming          1100.0  \n",
       "6300  Unprovoked           NaN                NaN             NaN  \n",
       "6301  Unprovoked            15           Swimming          1100.0  \n",
       "\n",
       "[5169 rows x 20 columns]"
      ]
     },
     "execution_count": 72,
     "metadata": {},
     "output_type": "execute_result"
    }
   ],
   "source": [
    "df_p_u"
   ]
  },
  {
   "cell_type": "code",
   "execution_count": 73,
   "metadata": {
    "scrolled": false
   },
   "outputs": [
    {
     "data": {
      "image/png": "[encoded data removed]",
      "text/plain": [
       "<Figure size 576x576 with 1 Axes>"
      ]
     },
     "metadata": {
      "needs_background": "light"
     },
     "output_type": "display_data"
    }
   ],
   "source": [
    "fig, ax = plt.subplots(figsize = (8, 8))\n",
    "p_u_by_sex = sns.countplot(x = df_p_u['P/U'], hue = df_p_u['Sex'], palette=\"Greens\")\n",
    "ax.set_title(\"Unprovoked and provoked attacks (by sex)\")\n",
    "plt.show()"
   ]
  },
  {
   "cell_type": "code",
   "execution_count": 95,
   "metadata": {
    "scrolled": false
   },
   "outputs": [
    {
     "data": {
      "image/png": "[encoded data removed]",
      "text/plain": [
       "<Figure size 576x576 with 1 Axes>"
      ]
     },
     "metadata": {
      "needs_background": "light"
     },
     "output_type": "display_data"
    }
   ],
   "source": [
    "# This graph shows the provoked and unprovoked attacks by sex\n",
    "fig, ax = plt.subplots(figsize = (8, 8))\n",
    "fatality_of_attacks = sns.countplot(x = df['Fatal (Y/N)'], hue=df['Sex'], data = df_prov_unprov, palette=\"Greens\")\n",
    "ax.set_title(\"Fatality of attacks (by sex)\")\n",
    "plt.show()"
   ]
  },
  {
   "cell_type": "code",
   "execution_count": 96,
   "metadata": {},
   "outputs": [],
   "source": [
    "vi.save_graph(fatality_of_attacks, \"images/fatality_of_attacks.svg\")"
   ]
  },
  {
   "cell_type": "code",
   "execution_count": 76,
   "metadata": {
    "scrolled": false
   },
   "outputs": [
    {
     "data": {
      "image/png": "[encoded data removed]",
      "text/plain": [
       "<Figure size 864x576 with 1 Axes>"
      ]
     },
     "metadata": {
      "needs_background": "light"
     },
     "output_type": "display_data"
    }
   ],
   "source": [
    "# This shows the amount of people that died as a result of an attack and the activity they were doing\n",
    "# Try to make a graph combining both\n",
    "fig, ax = plt.subplots(figsize = (12, 8))\n",
    "activity_f = sns.countplot(x = 'Activity of victim', data = df_calculation, palette=\"Set2\")\n",
    "ax.set_title(\"Activity realized by a victim of an attack (fatal attacks)\")\n",
    "plt.show()"
   ]
  },
  {
   "cell_type": "code",
   "execution_count": 97,
   "metadata": {},
   "outputs": [],
   "source": [
    "vi.save_graph(activity_f, \"images/activity_f.svg\")"
   ]
  },
  {
   "cell_type": "code",
   "execution_count": 77,
   "metadata": {
    "scrolled": false
   },
   "outputs": [
    {
     "data": {
      "image/png": "[encoded data removed]",
      "text/plain": [
       "<Figure size 864x576 with 1 Axes>"
      ]
     },
     "metadata": {
      "needs_background": "light"
     },
     "output_type": "display_data"
    }
   ],
   "source": [
    "# This shows the amout of people attacked that survived, by activity\n",
    "fig, ax = plt.subplots(figsize = (12, 8))\n",
    "activity_non_f = sns.countplot(x = 'Activity of victim', data = df_calculation2, palette=\"Set2\")\n",
    "ax.set_title(\"Activity realized by a victim of an attack (non-fatal attacks)\")\n",
    "plt.show()"
   ]
  },
  {
   "cell_type": "code",
   "execution_count": 86,
   "metadata": {},
   "outputs": [
    {
     "data": {
      "image/png": "[encoded data removed]",
      "text/plain": [
       "<Figure size 864x576 with 1 Axes>"
      ]
     },
     "metadata": {
      "needs_background": "light"
     },
     "output_type": "display_data"
    }
   ],
   "source": [
    "fig, ax = plt.subplots(figsize = (12, 8))\n",
    "activity_f_by_sex = sns.countplot(x = 'Activity of victim', hue = 'Sex', data = df_calculation, palette=\"Set2\")\n",
    "ax.set_title(\"Activity realized by a victim of an attack (by sex / fatal attacks)\")\n",
    "plt.show()"
   ]
  },
  {
   "cell_type": "code",
   "execution_count": 89,
   "metadata": {},
   "outputs": [],
   "source": [
    "vi.save_graph(activity_f_by_sex, \"images/activity_f_by_sex.svg\")"
   ]
  },
  {
   "cell_type": "code",
   "execution_count": 87,
   "metadata": {
    "scrolled": false
   },
   "outputs": [
    {
     "data": {
      "image/png": "[encoded data removed]",
      "text/plain": [
       "<Figure size 864x576 with 1 Axes>"
      ]
     },
     "metadata": {
      "needs_background": "light"
     },
     "output_type": "display_data"
    }
   ],
   "source": [
    "fig, ax = plt.subplots(figsize = (12, 8))\n",
    "activity_non_f_by_sex = sns.countplot(x = 'Activity of victim', hue = 'Sex', data = df_calculation2, palette=\"Set2\")\n",
    "ax.set_title(\"Activity realized by a victim of an attack (by sex / non-fatal attacks)\")\n",
    "plt.show()"
   ]
  },
  {
   "cell_type": "code",
   "execution_count": 90,
   "metadata": {},
   "outputs": [],
   "source": [
    "vi.save_graph(activity_non_f_by_sex, \"images/activity_non_f_by_sex.svg\")"
   ]
  },
  {
   "cell_type": "code",
   "execution_count": 92,
   "metadata": {},
   "outputs": [
    {
     "data": {
      "image/png": "[encoded data removed]",
      "text/plain": [
       "<Figure size 864x576 with 1 Axes>"
      ]
     },
     "metadata": {
      "needs_background": "light"
     },
     "output_type": "display_data"
    }
   ],
   "source": [
    "# This returns the amount of attacks by sex and age between 10 and 30\n",
    "fig, ax = plt.subplots(figsize = (12, 8))\n",
    "num_of_f_attacks = sns.countplot(x = 'Age of victim', hue = 'Fatal (Y/N)', data = df_a_s2, order = list_int, palette = \"pastel\")\n",
    "ax.set_title(\"Number of fatal and non-fatal attacks\")\n",
    "plt.show()"
   ]
  },
  {
   "cell_type": "code",
   "execution_count": 93,
   "metadata": {},
   "outputs": [],
   "source": [
    "vi.save_graph(num_of_f_attacks, \"images/num_of_f_attacks.svg\")"
   ]
  },
  {
   "cell_type": "code",
   "execution_count": 83,
   "metadata": {
    "scrolled": false
   },
   "outputs": [
    {
     "data": {
      "image/png": "[encoded data removed]",
      "text/plain": [
       "<Figure size 864x576 with 1 Axes>"
      ]
     },
     "metadata": {
      "needs_background": "light"
     },
     "output_type": "display_data"
    }
   ],
   "source": [
    "fig, ax = plt.subplots(figsize = (12, 8))\n",
    "num_of_attacks = sns.countplot(x = 'Age of victim', hue = 'Sex', data = df_a_s, order = list_int, palette=\"pastel\")\n",
    "ax.set_title(\"Number of attacks (by age and sex)\")\n",
    "plt.show()"
   ]
  },
  {
   "cell_type": "code",
   "execution_count": 84,
   "metadata": {},
   "outputs": [],
   "source": [
    "vi.save_graph(num_of_attacks, \"images/num_of_attacks.svg\")"
   ]
  },
  {
   "cell_type": "code",
   "execution_count": null,
   "metadata": {},
   "outputs": [],
   "source": []
  }
 ],
 "metadata": {
  "kernelspec": {
   "display_name": "Python 3",
   "language": "python",
   "name": "python3"
  },
  "language_info": {
   "codemirror_mode": {
    "name": "ipython",
    "version": 3
   },
   "file_extension": ".py",
   "mimetype": "text/x-python",
   "name": "python",
   "nbconvert_exporter": "python",
   "pygments_lexer": "ipython3",
   "version": "3.8.5"
  },
  "toc": {
   "base_numbering": 1,
   "nav_menu": {},
   "number_sections": true,
   "sideBar": true,
   "skip_h1_title": true,
   "title_cell": "Table of Contents",
   "title_sidebar": "Contents",
   "toc_cell": false,
   "toc_position": {},
   "toc_section_display": true,
   "toc_window_display": false
  }
 },
 "nbformat": 4,
 "nbformat_minor": 4
}
