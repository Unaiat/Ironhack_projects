{
 "cells": [
  {
   "cell_type": "code",
   "execution_count": 1,
   "metadata": {},
   "outputs": [],
   "source": [
    "from selenium import webdriver\n",
    "from time import sleep\n",
    "import pandas as pd\n",
    "import numpy as np\n",
    "import src.scraping as sc\n",
    "import src.cleaning as cl"
   ]
  },
  {
   "cell_type": "markdown",
   "metadata": {},
   "source": [
    "### Getting info from Verba"
   ]
  },
  {
   "cell_type": "markdown",
   "metadata": {},
   "source": [
    "I decided to make two dictionaries, not to do all the searches at the same time and have problems with the website. "
   ]
  },
  {
   "cell_type": "code",
   "execution_count": 2,
   "metadata": {},
   "outputs": [],
   "source": [
    "# Dictionary to store the info for the searches\n",
    "search_verba_parties = {\n",
    "    \"Unidas Podemos\": \"10/03/2021 - 04/05/2021\",\n",
    "    \"Podemos\": \"10/03/2021 - 04/05/2021\",\n",
    "    \"PP\": \"10/03/2021 - 04/05/2021\",\n",
    "    \"Partido Popular\": \"10/03/2021 - 04/05/2021\",\n",
    "    \"Más Madrid\": \"10/03/2021 - 04/05/2021\",\n",
    "    \"PSOE\": \"10/03/2021 - 04/05/2021\",\n",
    "    \"Partido Socialista\": \"10/03/2021 - 04/05/2021\",\n",
    "    \"Vox\": \"10/03/2021 - 04/05/2021\", \n",
    "    \"Ciudadanos\": \"10/03/2021 - 04/05/2021\"\n",
    "}"
   ]
  },
  {
   "cell_type": "code",
   "execution_count": 3,
   "metadata": {},
   "outputs": [],
   "source": [
    "search_verba_candidates = {\n",
    "    \"Pablo Iglesias\": \"10/03/2021 - 04/05/2021\",\n",
    "    \"Iglesias\": \"10/03/2021 - 04/05/2021\",\n",
    "    \"candidato de Unidas Podemos\": \"10/03/2021 - 04/05/2021\",\n",
    "    \"Isabel Díaz Ayuso\": \"10/03/2021 - 04/05/2021\",\n",
    "    \"Ayuso\": \"10/03/2021 - 04/05/2021\",\n",
    "    \"candidata del Partido Popular\": \"10/03/2021 - 04/05/2021\",\n",
    "    \"candidata del PP\": \"10/03/2021 - 04/05/2021\",\n",
    "    \"Mónica García\": \"10/03/2021 - 04/05/2021\",\n",
    "    \"García\": \"10/03/2021 - 04/05/2021\",\n",
    "    \"candidata de Más Madrid\": \"10/03/2021 - 04/05/2021\",\n",
    "    \"Ángel Gabilondo\": \"10/03/2021 - 04/05/2021\",\n",
    "    \"Gabilondo\": \"10/03/2021 - 04/05/2021\",\n",
    "    \"candidato del PSOE\": \"10/03/2021 - 04/05/2021\",\n",
    "    \"Rocío Monasterio\": \"10/03/2021 - 04/05/2021\",\n",
    "    \"Monasterio\": \"10/03/2021 - 04/05/2021\",\n",
    "    \"candidata de Vox\": \"10/03/2021 - 04/05/2021\",\n",
    "    \"Edmundo Bal\": \"10/03/2021 - 04/05/2021\",\n",
    "    \"Bal\": \"10/03/2021 - 04/05/2021\",\n",
    "    \"candidato de Ciudadanos\": \"10/03/2021 - 04/05/2021\"\n",
    "}"
   ]
  },
  {
   "cell_type": "code",
   "execution_count": 4,
   "metadata": {},
   "outputs": [],
   "source": [
    "# Loop to do the searches with the info from the dictionary\n",
    "# COMMENTED OUT NOT TO RUN IT AGAIN \n",
    "#for key, value in search_verba_parties.items():\n",
    "    #sc.get_verba(key, value)"
   ]
  },
  {
   "cell_type": "code",
   "execution_count": 5,
   "metadata": {},
   "outputs": [],
   "source": [
    "#for key, value in search_verba_candidates.items():\n",
    "# COMMENTED OUT NOT TO RUN IT AGAIN \n",
    "    #sc.get_verba(key, value)"
   ]
  },
  {
   "cell_type": "markdown",
   "metadata": {},
   "source": [
    "### Cleaning the dataframes"
   ]
  },
  {
   "cell_type": "markdown",
   "metadata": {},
   "source": [
    "### Ángel Gabilondo"
   ]
  },
  {
   "cell_type": "code",
   "execution_count": 6,
   "metadata": {},
   "outputs": [],
   "source": [
    "df_gabilondo1 = pd.read_csv(\"./data/verba_results/verba_candidates/angel_gabilondo1.csv\")\n",
    "df_gabilondo2 = pd.read_csv(\"./data/verba_results/verba_candidates/angel_gabilondo2.csv\") \n",
    "df_gabilondo3 = pd.read_csv(\"./data/verba_results/verba_candidates/angel_gabilondo3.csv\")"
   ]
  },
  {
   "cell_type": "code",
   "execution_count": 7,
   "metadata": {},
   "outputs": [],
   "source": [
    "# Create a dataframe droping duplicates from the search\n",
    "df_gabilondo = pd.concat([df_gabilondo1, df_gabilondo2, df_gabilondo3]).drop_duplicates().reset_index(drop = True)"
   ]
  },
  {
   "cell_type": "code",
   "execution_count": 8,
   "metadata": {},
   "outputs": [],
   "source": [
    "df_verba_gabilondo = cl.clean_verba(df_gabilondo, 4, 1, 1)"
   ]
  },
  {
   "cell_type": "markdown",
   "metadata": {},
   "source": [
    "### Edmundo Val"
   ]
  },
  {
   "cell_type": "code",
   "execution_count": 9,
   "metadata": {},
   "outputs": [],
   "source": [
    "df_edmundo1 = pd.read_csv(\"./data/verba_results/verba_candidates/edmundo_bal1.csv\")\n",
    "df_edmundo2 = pd.read_csv(\"./data/verba_results/verba_candidates/edmundo_bal2.csv\")\n",
    "df_edmundo3 = pd.read_csv(\"./data/verba_results/verba_candidates/edmundo_bal3.csv\")"
   ]
  },
  {
   "cell_type": "code",
   "execution_count": 10,
   "metadata": {},
   "outputs": [],
   "source": [
    "# Create a dataframe droping duplicates from the search\n",
    "df_edmundo = pd.concat([df_edmundo1, df_edmundo2, df_edmundo3]).drop_duplicates().reset_index(drop = True)"
   ]
  },
  {
   "cell_type": "code",
   "execution_count": 11,
   "metadata": {},
   "outputs": [],
   "source": [
    "df_verba_edmundo = cl.clean_verba(df_edmundo, 1, 2, 1)"
   ]
  },
  {
   "cell_type": "markdown",
   "metadata": {},
   "source": [
    "### Isabel Díaz Ayuso"
   ]
  },
  {
   "cell_type": "code",
   "execution_count": 12,
   "metadata": {},
   "outputs": [],
   "source": [
    "df_ayuso1 = pd.read_csv(\"./data/verba_results/verba_candidates/isabel_diaz_ayuso1.csv\")\n",
    "df_ayuso2 = pd.read_csv(\"./data/verba_results/verba_candidates/isabel_diaz_ayuso2.csv\")\n",
    "df_ayuso3 = pd.read_csv(\"./data/verba_results/verba_candidates/isabel_diaz_ayuso3.csv\")\n",
    "df_ayuso4 = pd.read_csv(\"./data/verba_results/verba_candidates/isabel_diaz_ayuso4.csv\")"
   ]
  },
  {
   "cell_type": "code",
   "execution_count": 13,
   "metadata": {},
   "outputs": [],
   "source": [
    "df_ayuso = pd.concat([df_ayuso1, df_ayuso2, df_ayuso3, df_ayuso4]).drop_duplicates().reset_index(drop = True)"
   ]
  },
  {
   "cell_type": "code",
   "execution_count": 14,
   "metadata": {},
   "outputs": [],
   "source": [
    "df_verba_ayuso = cl.clean_verba(df_ayuso, 3, 3, 1)"
   ]
  },
  {
   "cell_type": "markdown",
   "metadata": {},
   "source": [
    "### Mónica García "
   ]
  },
  {
   "cell_type": "code",
   "execution_count": 15,
   "metadata": {},
   "outputs": [],
   "source": [
    "df_garcia1 = pd.read_csv(\"./data/verba_results/verba_candidates/monica_garcia1.csv\")\n",
    "df_garcia2 = pd.read_csv(\"./data/verba_results/verba_candidates/monica_garcia2.csv\")\n",
    "df_garcia3 = pd.read_csv(\"./data/verba_results/verba_candidates/monica_garcia3.csv\")"
   ]
  },
  {
   "cell_type": "code",
   "execution_count": 16,
   "metadata": {},
   "outputs": [],
   "source": [
    "df_garcia = pd.concat([df_garcia1, df_garcia2, df_garcia3]).drop_duplicates().reset_index(drop = True)"
   ]
  },
  {
   "cell_type": "code",
   "execution_count": 17,
   "metadata": {
    "scrolled": true
   },
   "outputs": [],
   "source": [
    "df_verba_garcia = cl.clean_verba(df_garcia, 2, 4, 1)"
   ]
  },
  {
   "cell_type": "code",
   "execution_count": 18,
   "metadata": {},
   "outputs": [],
   "source": [
    "df_verba_garcia = df_verba_garcia[(df_verba_garcia['phrase'].str.contains(\"Mónica García\")) | (df_verba_garcia['phrase'].str.contains(\"Más Madrid\"))]"
   ]
  },
  {
   "cell_type": "code",
   "execution_count": 19,
   "metadata": {},
   "outputs": [],
   "source": [
    "df_verba_garcia.drop(columns = 'id', inplace = True)"
   ]
  },
  {
   "cell_type": "code",
   "execution_count": 20,
   "metadata": {
    "collapsed": true
   },
   "outputs": [
    {
     "data": {
      "text/html": [
       "<div>\n",
       "<style scoped>\n",
       "    .dataframe tbody tr th:only-of-type {\n",
       "        vertical-align: middle;\n",
       "    }\n",
       "\n",
       "    .dataframe tbody tr th {\n",
       "        vertical-align: top;\n",
       "    }\n",
       "\n",
       "    .dataframe thead th {\n",
       "        text-align: right;\n",
       "    }\n",
       "</style>\n",
       "<table border=\"1\" class=\"dataframe\">\n",
       "  <thead>\n",
       "    <tr style=\"text-align: right;\">\n",
       "      <th></th>\n",
       "      <th>id</th>\n",
       "      <th>p0_c1</th>\n",
       "      <th>party_id</th>\n",
       "      <th>candidate_id</th>\n",
       "      <th>phrase</th>\n",
       "      <th>date</th>\n",
       "    </tr>\n",
       "  </thead>\n",
       "  <tbody>\n",
       "    <tr>\n",
       "      <th>0</th>\n",
       "      <td>1</td>\n",
       "      <td>1</td>\n",
       "      <td>2</td>\n",
       "      <td>4</td>\n",
       "      <td>Es el momento en el que los candidatos a la pr...</td>\n",
       "      <td>2021-05-04</td>\n",
       "    </tr>\n",
       "    <tr>\n",
       "      <th>1</th>\n",
       "      <td>2</td>\n",
       "      <td>1</td>\n",
       "      <td>2</td>\n",
       "      <td>4</td>\n",
       "      <td>A Mónica García, candidata de Más Madrid, no l...</td>\n",
       "      <td>2021-05-04</td>\n",
       "    </tr>\n",
       "    <tr>\n",
       "      <th>2</th>\n",
       "      <td>3</td>\n",
       "      <td>1</td>\n",
       "      <td>2</td>\n",
       "      <td>4</td>\n",
       "      <td>Es la imagen que más se repite durante las jor...</td>\n",
       "      <td>2021-05-03</td>\n",
       "    </tr>\n",
       "    <tr>\n",
       "      <th>3</th>\n",
       "      <td>4</td>\n",
       "      <td>1</td>\n",
       "      <td>2</td>\n",
       "      <td>4</td>\n",
       "      <td>Mónica García, desde Getafe, ha pedido moviliz...</td>\n",
       "      <td>2021-04-29</td>\n",
       "    </tr>\n",
       "    <tr>\n",
       "      <th>4</th>\n",
       "      <td>5</td>\n",
       "      <td>1</td>\n",
       "      <td>2</td>\n",
       "      <td>4</td>\n",
       "      <td>Mónica García lo comparte.</td>\n",
       "      <td>2021-04-28</td>\n",
       "    </tr>\n",
       "    <tr>\n",
       "      <th>5</th>\n",
       "      <td>6</td>\n",
       "      <td>1</td>\n",
       "      <td>2</td>\n",
       "      <td>4</td>\n",
       "      <td>En un encuentro rodeada de mujeres, Mónica Gar...</td>\n",
       "      <td>2021-04-25</td>\n",
       "    </tr>\n",
       "    <tr>\n",
       "      <th>6</th>\n",
       "      <td>7</td>\n",
       "      <td>1</td>\n",
       "      <td>2</td>\n",
       "      <td>4</td>\n",
       "      <td>Cree Mónica García que el feminismo es el mejo...</td>\n",
       "      <td>2021-04-25</td>\n",
       "    </tr>\n",
       "    <tr>\n",
       "      <th>7</th>\n",
       "      <td>8</td>\n",
       "      <td>1</td>\n",
       "      <td>2</td>\n",
       "      <td>4</td>\n",
       "      <td>Mónica García asegura que Ayuso convocó los co...</td>\n",
       "      <td>2021-04-24</td>\n",
       "    </tr>\n",
       "    <tr>\n",
       "      <th>8</th>\n",
       "      <td>9</td>\n",
       "      <td>1</td>\n",
       "      <td>2</td>\n",
       "      <td>4</td>\n",
       "      <td>Hablar de lo que de verdad importa, hacer fren...</td>\n",
       "      <td>2021-04-24</td>\n",
       "    </tr>\n",
       "    <tr>\n",
       "      <th>9</th>\n",
       "      <td>10</td>\n",
       "      <td>1</td>\n",
       "      <td>2</td>\n",
       "      <td>4</td>\n",
       "      <td>Pablo Iglesias Rocío Monasterio Mónica García ...</td>\n",
       "      <td>2021-04-21</td>\n",
       "    </tr>\n",
       "    <tr>\n",
       "      <th>10</th>\n",
       "      <td>11</td>\n",
       "      <td>1</td>\n",
       "      <td>2</td>\n",
       "      <td>4</td>\n",
       "      <td>Mónica García se ha reunido esta mañana con re...</td>\n",
       "      <td>2021-04-19</td>\n",
       "    </tr>\n",
       "    <tr>\n",
       "      <th>11</th>\n",
       "      <td>12</td>\n",
       "      <td>1</td>\n",
       "      <td>2</td>\n",
       "      <td>4</td>\n",
       "      <td>\"Por lo que de verdad importa\", en el lema, co...</td>\n",
       "      <td>2021-04-17</td>\n",
       "    </tr>\n",
       "    <tr>\n",
       "      <th>12</th>\n",
       "      <td>13</td>\n",
       "      <td>1</td>\n",
       "      <td>2</td>\n",
       "      <td>4</td>\n",
       "      <td>Mónica García critica el modelo de libertad qu...</td>\n",
       "      <td>2021-04-10</td>\n",
       "    </tr>\n",
       "    <tr>\n",
       "      <th>13</th>\n",
       "      <td>14</td>\n",
       "      <td>1</td>\n",
       "      <td>2</td>\n",
       "      <td>4</td>\n",
       "      <td>Con la mano tendida, Mónica García se abre a l...</td>\n",
       "      <td>2021-03-28</td>\n",
       "    </tr>\n",
       "    <tr>\n",
       "      <th>14</th>\n",
       "      <td>15</td>\n",
       "      <td>1</td>\n",
       "      <td>2</td>\n",
       "      <td>4</td>\n",
       "      <td>Preguntada por si se vería en un Gobierno con ...</td>\n",
       "      <td>2021-03-28</td>\n",
       "    </tr>\n",
       "    <tr>\n",
       "      <th>15</th>\n",
       "      <td>16</td>\n",
       "      <td>1</td>\n",
       "      <td>2</td>\n",
       "      <td>4</td>\n",
       "      <td>La militancia de Más Madrid confirma a la cand...</td>\n",
       "      <td>2021-03-21</td>\n",
       "    </tr>\n",
       "    <tr>\n",
       "      <th>16</th>\n",
       "      <td>17</td>\n",
       "      <td>1</td>\n",
       "      <td>2</td>\n",
       "      <td>4</td>\n",
       "      <td>Mónica García encabezará la lista de Más Madri...</td>\n",
       "      <td>2021-03-21</td>\n",
       "    </tr>\n",
       "    <tr>\n",
       "      <th>17</th>\n",
       "      <td>18</td>\n",
       "      <td>1</td>\n",
       "      <td>2</td>\n",
       "      <td>4</td>\n",
       "      <td>Mónica García encabezará la lista de Más Madri...</td>\n",
       "      <td>2021-03-20</td>\n",
       "    </tr>\n",
       "    <tr>\n",
       "      <th>18</th>\n",
       "      <td>19</td>\n",
       "      <td>1</td>\n",
       "      <td>2</td>\n",
       "      <td>4</td>\n",
       "      <td>Más Madrid opta por un cuestionario personal p...</td>\n",
       "      <td>2021-03-20</td>\n",
       "    </tr>\n",
       "    <tr>\n",
       "      <th>19</th>\n",
       "      <td>20</td>\n",
       "      <td>1</td>\n",
       "      <td>2</td>\n",
       "      <td>4</td>\n",
       "      <td>Más Madrid aprovecha para presentar a Mónica G...</td>\n",
       "      <td>2021-03-20</td>\n",
       "    </tr>\n",
       "    <tr>\n",
       "      <th>20</th>\n",
       "      <td>21</td>\n",
       "      <td>1</td>\n",
       "      <td>2</td>\n",
       "      <td>4</td>\n",
       "      <td>Esa era la respuesta de Mónica García, la cand...</td>\n",
       "      <td>2021-03-16</td>\n",
       "    </tr>\n",
       "    <tr>\n",
       "      <th>21</th>\n",
       "      <td>22</td>\n",
       "      <td>1</td>\n",
       "      <td>2</td>\n",
       "      <td>4</td>\n",
       "      <td>Así respondía la candidata de Más Madrid, Móni...</td>\n",
       "      <td>2021-03-16</td>\n",
       "    </tr>\n",
       "    <tr>\n",
       "      <th>22</th>\n",
       "      <td>23</td>\n",
       "      <td>1</td>\n",
       "      <td>2</td>\n",
       "      <td>4</td>\n",
       "      <td>Mónica García es tajante.</td>\n",
       "      <td>2021-03-16</td>\n",
       "    </tr>\n",
       "    <tr>\n",
       "      <th>23</th>\n",
       "      <td>24</td>\n",
       "      <td>1</td>\n",
       "      <td>2</td>\n",
       "      <td>4</td>\n",
       "      <td>La candidata de Más Madrid no se ha quedado ha...</td>\n",
       "      <td>2021-05-02</td>\n",
       "    </tr>\n",
       "    <tr>\n",
       "      <th>24</th>\n",
       "      <td>25</td>\n",
       "      <td>1</td>\n",
       "      <td>2</td>\n",
       "      <td>4</td>\n",
       "      <td>Desde el sur de la capital, la candidata de Má...</td>\n",
       "      <td>2021-04-29</td>\n",
       "    </tr>\n",
       "    <tr>\n",
       "      <th>25</th>\n",
       "      <td>26</td>\n",
       "      <td>1</td>\n",
       "      <td>2</td>\n",
       "      <td>4</td>\n",
       "      <td>Es la hoja de ruta que la candidata de Más Mad...</td>\n",
       "      <td>2021-04-24</td>\n",
       "    </tr>\n",
       "    <tr>\n",
       "      <th>26</th>\n",
       "      <td>27</td>\n",
       "      <td>1</td>\n",
       "      <td>2</td>\n",
       "      <td>4</td>\n",
       "      <td>Lo pedían el candidato del PSOE y la candidata...</td>\n",
       "      <td>2021-04-23</td>\n",
       "    </tr>\n",
       "    <tr>\n",
       "      <th>27</th>\n",
       "      <td>28</td>\n",
       "      <td>1</td>\n",
       "      <td>2</td>\n",
       "      <td>4</td>\n",
       "      <td>-Esos discursos de odio, de provocación se cre...</td>\n",
       "      <td>2021-04-23</td>\n",
       "    </tr>\n",
       "    <tr>\n",
       "      <th>28</th>\n",
       "      <td>29</td>\n",
       "      <td>1</td>\n",
       "      <td>2</td>\n",
       "      <td>4</td>\n",
       "      <td>Es un rebaño de Soto del Real, donde ha estado...</td>\n",
       "      <td>2021-04-22</td>\n",
       "    </tr>\n",
       "    <tr>\n",
       "      <th>29</th>\n",
       "      <td>30</td>\n",
       "      <td>1</td>\n",
       "      <td>2</td>\n",
       "      <td>4</td>\n",
       "      <td>La candidata de Más Madrid, desde la localidad...</td>\n",
       "      <td>2021-04-22</td>\n",
       "    </tr>\n",
       "    <tr>\n",
       "      <th>30</th>\n",
       "      <td>31</td>\n",
       "      <td>1</td>\n",
       "      <td>2</td>\n",
       "      <td>4</td>\n",
       "      <td>También la candidata de Más Madrid.</td>\n",
       "      <td>2021-04-19</td>\n",
       "    </tr>\n",
       "    <tr>\n",
       "      <th>31</th>\n",
       "      <td>32</td>\n",
       "      <td>1</td>\n",
       "      <td>2</td>\n",
       "      <td>4</td>\n",
       "      <td>\"Si quiere nos vamos un día a correr las dos 1...</td>\n",
       "      <td>2021-04-18</td>\n",
       "    </tr>\n",
       "    <tr>\n",
       "      <th>32</th>\n",
       "      <td>33</td>\n",
       "      <td>1</td>\n",
       "      <td>2</td>\n",
       "      <td>4</td>\n",
       "      <td>Y la candidata de Más Madrid lo que le preocup...</td>\n",
       "      <td>2021-04-16</td>\n",
       "    </tr>\n",
       "    <tr>\n",
       "      <th>33</th>\n",
       "      <td>34</td>\n",
       "      <td>1</td>\n",
       "      <td>2</td>\n",
       "      <td>4</td>\n",
       "      <td>La candidata de Más Madrid, también pide a los...</td>\n",
       "      <td>2021-04-04</td>\n",
       "    </tr>\n",
       "    <tr>\n",
       "      <th>34</th>\n",
       "      <td>35</td>\n",
       "      <td>1</td>\n",
       "      <td>2</td>\n",
       "      <td>4</td>\n",
       "      <td>Las mujeres estamos cansados de hacer el traba...</td>\n",
       "      <td>2021-03-16</td>\n",
       "    </tr>\n",
       "    <tr>\n",
       "      <th>35</th>\n",
       "      <td>36</td>\n",
       "      <td>1</td>\n",
       "      <td>2</td>\n",
       "      <td>4</td>\n",
       "      <td>Iñigo Errejón guarda silencio, pero la candida...</td>\n",
       "      <td>2021-03-15</td>\n",
       "    </tr>\n",
       "  </tbody>\n",
       "</table>\n",
       "</div>"
      ],
      "text/plain": [
       "    id  p0_c1  party_id  candidate_id  \\\n",
       "0    1      1         2             4   \n",
       "1    2      1         2             4   \n",
       "2    3      1         2             4   \n",
       "3    4      1         2             4   \n",
       "4    5      1         2             4   \n",
       "5    6      1         2             4   \n",
       "6    7      1         2             4   \n",
       "7    8      1         2             4   \n",
       "8    9      1         2             4   \n",
       "9   10      1         2             4   \n",
       "10  11      1         2             4   \n",
       "11  12      1         2             4   \n",
       "12  13      1         2             4   \n",
       "13  14      1         2             4   \n",
       "14  15      1         2             4   \n",
       "15  16      1         2             4   \n",
       "16  17      1         2             4   \n",
       "17  18      1         2             4   \n",
       "18  19      1         2             4   \n",
       "19  20      1         2             4   \n",
       "20  21      1         2             4   \n",
       "21  22      1         2             4   \n",
       "22  23      1         2             4   \n",
       "23  24      1         2             4   \n",
       "24  25      1         2             4   \n",
       "25  26      1         2             4   \n",
       "26  27      1         2             4   \n",
       "27  28      1         2             4   \n",
       "28  29      1         2             4   \n",
       "29  30      1         2             4   \n",
       "30  31      1         2             4   \n",
       "31  32      1         2             4   \n",
       "32  33      1         2             4   \n",
       "33  34      1         2             4   \n",
       "34  35      1         2             4   \n",
       "35  36      1         2             4   \n",
       "\n",
       "                                               phrase        date  \n",
       "0   Es el momento en el que los candidatos a la pr...  2021-05-04  \n",
       "1   A Mónica García, candidata de Más Madrid, no l...  2021-05-04  \n",
       "2   Es la imagen que más se repite durante las jor...  2021-05-03  \n",
       "3   Mónica García, desde Getafe, ha pedido moviliz...  2021-04-29  \n",
       "4                          Mónica García lo comparte.  2021-04-28  \n",
       "5   En un encuentro rodeada de mujeres, Mónica Gar...  2021-04-25  \n",
       "6   Cree Mónica García que el feminismo es el mejo...  2021-04-25  \n",
       "7   Mónica García asegura que Ayuso convocó los co...  2021-04-24  \n",
       "8   Hablar de lo que de verdad importa, hacer fren...  2021-04-24  \n",
       "9   Pablo Iglesias Rocío Monasterio Mónica García ...  2021-04-21  \n",
       "10  Mónica García se ha reunido esta mañana con re...  2021-04-19  \n",
       "11  \"Por lo que de verdad importa\", en el lema, co...  2021-04-17  \n",
       "12  Mónica García critica el modelo de libertad qu...  2021-04-10  \n",
       "13  Con la mano tendida, Mónica García se abre a l...  2021-03-28  \n",
       "14  Preguntada por si se vería en un Gobierno con ...  2021-03-28  \n",
       "15  La militancia de Más Madrid confirma a la cand...  2021-03-21  \n",
       "16  Mónica García encabezará la lista de Más Madri...  2021-03-21  \n",
       "17  Mónica García encabezará la lista de Más Madri...  2021-03-20  \n",
       "18  Más Madrid opta por un cuestionario personal p...  2021-03-20  \n",
       "19  Más Madrid aprovecha para presentar a Mónica G...  2021-03-20  \n",
       "20  Esa era la respuesta de Mónica García, la cand...  2021-03-16  \n",
       "21  Así respondía la candidata de Más Madrid, Móni...  2021-03-16  \n",
       "22                          Mónica García es tajante.  2021-03-16  \n",
       "23  La candidata de Más Madrid no se ha quedado ha...  2021-05-02  \n",
       "24  Desde el sur de la capital, la candidata de Má...  2021-04-29  \n",
       "25  Es la hoja de ruta que la candidata de Más Mad...  2021-04-24  \n",
       "26  Lo pedían el candidato del PSOE y la candidata...  2021-04-23  \n",
       "27  -Esos discursos de odio, de provocación se cre...  2021-04-23  \n",
       "28  Es un rebaño de Soto del Real, donde ha estado...  2021-04-22  \n",
       "29  La candidata de Más Madrid, desde la localidad...  2021-04-22  \n",
       "30                También la candidata de Más Madrid.  2021-04-19  \n",
       "31  \"Si quiere nos vamos un día a correr las dos 1...  2021-04-18  \n",
       "32  Y la candidata de Más Madrid lo que le preocup...  2021-04-16  \n",
       "33  La candidata de Más Madrid, también pide a los...  2021-04-04  \n",
       "34  Las mujeres estamos cansados de hacer el traba...  2021-03-16  \n",
       "35  Iñigo Errejón guarda silencio, pero la candida...  2021-03-15  "
      ]
     },
     "execution_count": 20,
     "metadata": {},
     "output_type": "execute_result"
    }
   ],
   "source": [
    "cl.create_index(df_verba_garcia)"
   ]
  },
  {
   "cell_type": "markdown",
   "metadata": {},
   "source": [
    "### Pablo Iglesias"
   ]
  },
  {
   "cell_type": "code",
   "execution_count": 21,
   "metadata": {},
   "outputs": [],
   "source": [
    "df_iglesias1 = pd.read_csv(\"./data/verba_results/verba_candidates/pablo_iglesias1.csv\")\n",
    "df_iglesias2 = pd.read_csv(\"./data/verba_results/verba_candidates/pablo_iglesias2.csv\")\n",
    "df_iglesias3 = pd.read_csv(\"./data/verba_results/verba_candidates/pablo_iglesias3.csv\")"
   ]
  },
  {
   "cell_type": "code",
   "execution_count": 22,
   "metadata": {},
   "outputs": [],
   "source": [
    "df_iglesias = pd.concat([df_iglesias1, df_iglesias2, df_iglesias3]).drop_duplicates().reset_index(drop = True)"
   ]
  },
  {
   "cell_type": "code",
   "execution_count": 23,
   "metadata": {},
   "outputs": [],
   "source": [
    "df_verba_iglesias = cl.clean_verba(df_iglesias, 5, 5, 1)"
   ]
  },
  {
   "cell_type": "markdown",
   "metadata": {},
   "source": [
    "### Rocío Monasterio"
   ]
  },
  {
   "cell_type": "code",
   "execution_count": 24,
   "metadata": {},
   "outputs": [],
   "source": [
    "df_monasterio1 = pd.read_csv(\"./data/verba_results/verba_candidates/rocio_monasterio1.csv\")\n",
    "df_monasterio2 = pd.read_csv(\"./data/verba_results/verba_candidates/rocio_monasterio2.csv\")\n",
    "df_monasterio3 = pd.read_csv(\"./data/verba_results/verba_candidates/rocio_monasterio3.csv\")"
   ]
  },
  {
   "cell_type": "code",
   "execution_count": 25,
   "metadata": {},
   "outputs": [],
   "source": [
    "df_monasterio = pd.concat([df_monasterio1, df_monasterio2, df_monasterio3]).drop_duplicates().reset_index(drop = True)"
   ]
  },
  {
   "cell_type": "code",
   "execution_count": 26,
   "metadata": {},
   "outputs": [],
   "source": [
    "df_verba_monasterio = cl.clean_verba(df_monasterio, 6, 6, 1)"
   ]
  },
  {
   "cell_type": "code",
   "execution_count": 27,
   "metadata": {},
   "outputs": [],
   "source": [
    "# I will discard all the entries where monasterio appears in lower case\n",
    "df_verba_monasterio = df_verba_monasterio[~df_verba_monasterio['phrase'].str.contains('monasterio')]"
   ]
  },
  {
   "cell_type": "markdown",
   "metadata": {},
   "source": [
    "### Ciudadanos"
   ]
  },
  {
   "cell_type": "code",
   "execution_count": 28,
   "metadata": {},
   "outputs": [],
   "source": [
    "df_ciudadanos = pd.read_csv(\"./data/verba_results/verba_parties/verba_ciudadanos.csv\")\n",
    "df_verba_ciudadanos = cl.clean_verba(df_ciudadanos, 1, 2, 0)"
   ]
  },
  {
   "cell_type": "code",
   "execution_count": 29,
   "metadata": {},
   "outputs": [],
   "source": [
    "# I will only keep the cases in which Podemos appears in upper cases, as in lower cases it should be the plural of citizen\n",
    "df_verba_ciudadanos = df_verba_ciudadanos[~df_verba_ciudadanos['phrase'].str.contains('ciudadanos')]"
   ]
  },
  {
   "cell_type": "markdown",
   "metadata": {},
   "source": [
    "### Más Madrid"
   ]
  },
  {
   "cell_type": "code",
   "execution_count": 30,
   "metadata": {},
   "outputs": [],
   "source": [
    "df_mas_madrid = pd.read_csv(\"./data/verba_results/verba_parties/verba_mas_madrid.csv\")\n",
    "df_verba_mas_madrid = cl.clean_verba(df_mas_madrid, 2, 4, 0)"
   ]
  },
  {
   "cell_type": "markdown",
   "metadata": {},
   "source": [
    "### PP"
   ]
  },
  {
   "cell_type": "code",
   "execution_count": 31,
   "metadata": {},
   "outputs": [],
   "source": [
    "df_pp1 = pd.read_csv(\"./data/verba_results/verba_parties/verba_partido_popular.csv\")\n",
    "df_pp2 = pd.read_csv(\"./data/verba_results/verba_parties/verba_PP.csv\")"
   ]
  },
  {
   "cell_type": "code",
   "execution_count": 32,
   "metadata": {},
   "outputs": [],
   "source": [
    "df_pp = pd.concat([df_pp1, df_pp2]).drop_duplicates().reset_index(drop = True)"
   ]
  },
  {
   "cell_type": "code",
   "execution_count": 33,
   "metadata": {},
   "outputs": [],
   "source": [
    "df_verba_pp = cl.clean_verba(df_pp, 3, 3, 0)"
   ]
  },
  {
   "cell_type": "markdown",
   "metadata": {},
   "source": [
    "### PSOE"
   ]
  },
  {
   "cell_type": "code",
   "execution_count": 34,
   "metadata": {},
   "outputs": [],
   "source": [
    "df_psoe1 = pd.read_csv(\"./data/verba_results/verba_parties/verba_partido_socialista.csv\")\n",
    "df_psoe2 = pd.read_csv(\"./data/verba_results/verba_parties/verba_PSOE.csv\")"
   ]
  },
  {
   "cell_type": "code",
   "execution_count": 35,
   "metadata": {},
   "outputs": [],
   "source": [
    "df_psoe = pd.concat([df_psoe1, df_psoe2]).drop_duplicates().reset_index(drop = True)"
   ]
  },
  {
   "cell_type": "code",
   "execution_count": 36,
   "metadata": {},
   "outputs": [],
   "source": [
    "df_verba_psoe = cl.clean_verba(df_psoe, 4, 1, 0)"
   ]
  },
  {
   "cell_type": "markdown",
   "metadata": {},
   "source": [
    "### Unidas Podemos"
   ]
  },
  {
   "cell_type": "code",
   "execution_count": 37,
   "metadata": {},
   "outputs": [],
   "source": [
    "df_unidas_podemos1 = pd.read_csv(\"./data/verba_results/verba_parties/verba_unidas_podemos1.csv\")\n",
    "df_unidas_podemos2 = pd.read_csv(\"./data/verba_results/verba_parties/verba_unidas_podemos2.csv\")"
   ]
  },
  {
   "cell_type": "code",
   "execution_count": 38,
   "metadata": {},
   "outputs": [],
   "source": [
    "df_unidas_podemos = pd.concat([df_unidas_podemos1, df_unidas_podemos2]).drop_duplicates().reset_index(drop = True)"
   ]
  },
  {
   "cell_type": "code",
   "execution_count": 39,
   "metadata": {},
   "outputs": [],
   "source": [
    "df_verba_unidas_podemos = cl.clean_verba(df_unidas_podemos, 5, 5, 0)"
   ]
  },
  {
   "cell_type": "code",
   "execution_count": 40,
   "metadata": {
    "scrolled": true
   },
   "outputs": [],
   "source": [
    "# I will only keep the cases in which Podemos appears in upper cases, as in lower cases it should be the verb\n",
    "df_verba_unidas_podemos = df_verba_unidas_podemos[~df_verba_unidas_podemos['phrase'].str.contains(\"podemos\")]"
   ]
  },
  {
   "cell_type": "markdown",
   "metadata": {},
   "source": [
    "### Vox"
   ]
  },
  {
   "cell_type": "code",
   "execution_count": 41,
   "metadata": {},
   "outputs": [],
   "source": [
    "df_vox = pd.read_csv(\"./data/verba_results/verba_parties/verba_vox.csv\")\n",
    "df_verba_vox = cl.clean_verba(df_vox, 6, 6, 0)"
   ]
  },
  {
   "cell_type": "markdown",
   "metadata": {},
   "source": [
    "### Concat all the dataframes to insert them into the database"
   ]
  },
  {
   "cell_type": "code",
   "execution_count": 42,
   "metadata": {},
   "outputs": [],
   "source": [
    "all_verba_results = pd.concat([df_verba_gabilondo, df_verba_edmundo, df_verba_ayuso, df_verba_garcia, df_verba_iglesias, df_verba_monasterio, df_verba_ciudadanos, df_verba_mas_madrid, df_verba_pp, df_verba_psoe, df_verba_unidas_podemos, df_verba_vox])"
   ]
  },
  {
   "cell_type": "code",
   "execution_count": 43,
   "metadata": {},
   "outputs": [],
   "source": [
    "all_verba_results.drop(columns = [\"id\", \"index\"], inplace = True)"
   ]
  },
  {
   "cell_type": "code",
   "execution_count": 44,
   "metadata": {},
   "outputs": [],
   "source": [
    "all_verba_results = cl.create_index(all_verba_results)"
   ]
  },
  {
   "cell_type": "code",
   "execution_count": 45,
   "metadata": {
    "collapsed": true
   },
   "outputs": [
    {
     "data": {
      "text/plain": [
       "0       Edmundo Bal ha sido el primero en votar y Ánge...\n",
       "1                     El último en votar Ángel Gabilondo.\n",
       "2       El socialista Ángel Gabilondo ha visitado el h...\n",
       "3       También a mi me decían que era imposible ganar...\n",
       "4       Ángel Gabilondo anunció que sería su vicepresi...\n",
       "                              ...                        \n",
       "3130    Hoy ha superado el trámite en el Congreso con ...\n",
       "3131    Las negociaciones para formar Gobierno no fuer...\n",
       "3132    Y en las últimas semanas el escándalo de las v...\n",
       "3133    También el acuerdo que se hizo público ayer en...\n",
       "3134    Ortega Smith afirmó que tenía el coronavirus, ...\n",
       "Name: phrase, Length: 3135, dtype: object"
      ]
     },
     "execution_count": 45,
     "metadata": {},
     "output_type": "execute_result"
    }
   ],
   "source": [
    "cl.replace(all_verba_results, 'phrase', r\"[\\\"]\", r\"'\")"
   ]
  },
  {
   "cell_type": "code",
   "execution_count": 46,
   "metadata": {
    "collapsed": true
   },
   "outputs": [
    {
     "data": {
      "text/plain": [
       "0       Edmundo Bal ha sido el primero en votar y Ánge...\n",
       "1                     El último en votar Ángel Gabilondo.\n",
       "2       El socialista Ángel Gabilondo ha visitado el h...\n",
       "3       También a mi me decían que era imposible ganar...\n",
       "4       Ángel Gabilondo anunció que sería su vicepresi...\n",
       "                              ...                        \n",
       "3130    Hoy ha superado el trámite en el Congreso con ...\n",
       "3131    Las negociaciones para formar Gobierno no fuer...\n",
       "3132    Y en las últimas semanas el escándalo de las v...\n",
       "3133    También el acuerdo que se hizo público ayer en...\n",
       "3134    Ortega Smith afirmó que tenía el coronavirus, ...\n",
       "Name: phrase, Length: 3135, dtype: object"
      ]
     },
     "execution_count": 46,
     "metadata": {},
     "output_type": "execute_result"
    }
   ],
   "source": [
    "cl.replace(all_verba_results, 'phrase', r\"%\", \"por ciento\")"
   ]
  },
  {
   "cell_type": "code",
   "execution_count": 47,
   "metadata": {
    "collapsed": true
   },
   "outputs": [
    {
     "data": {
      "text/plain": [
       "0       Edmundo Bal ha sido el primero en votar y Ánge...\n",
       "1                     El último en votar Ángel Gabilondo.\n",
       "2       El socialista Ángel Gabilondo ha visitado el h...\n",
       "3       También a mi me decían que era imposible ganar...\n",
       "4       Ángel Gabilondo anunció que sería su vicepresi...\n",
       "                              ...                        \n",
       "3130    Hoy ha superado el trámite en el Congreso con ...\n",
       "3131    Las negociaciones para formar Gobierno no fuer...\n",
       "3132    Y en las últimas semanas el escándalo de las v...\n",
       "3133    También el acuerdo que se hizo público ayer en...\n",
       "3134    Ortega Smith afirmó que tenía el coronavirus, ...\n",
       "Name: phrase, Length: 3135, dtype: object"
      ]
     },
     "execution_count": 47,
     "metadata": {},
     "output_type": "execute_result"
    }
   ],
   "source": [
    "cl.replace(all_verba_results, 'phrase', r\"%\", \"por ciento\")"
   ]
  },
  {
   "cell_type": "code",
   "execution_count": 48,
   "metadata": {
    "scrolled": false
   },
   "outputs": [
    {
     "name": "stdout",
     "output_type": "stream",
     "text": [
      "<class 'pandas.core.frame.DataFrame'>\n",
      "RangeIndex: 3135 entries, 0 to 3134\n",
      "Data columns (total 6 columns):\n",
      " #   Column        Non-Null Count  Dtype \n",
      "---  ------        --------------  ----- \n",
      " 0   id            3135 non-null   int64 \n",
      " 1   p0_c1         3135 non-null   int64 \n",
      " 2   party_id      3135 non-null   int64 \n",
      " 3   candidate_id  3135 non-null   int64 \n",
      " 4   phrase        3135 non-null   object\n",
      " 5   date          3135 non-null   object\n",
      "dtypes: int64(4), object(2)\n",
      "memory usage: 147.1+ KB\n"
     ]
    }
   ],
   "source": [
    "all_verba_results.info()"
   ]
  },
  {
   "cell_type": "code",
   "execution_count": 49,
   "metadata": {},
   "outputs": [],
   "source": [
    "all_verba_results.to_csv(\"./data/verba_results/verba_candidates/all_verba_results.csv\")"
   ]
  },
  {
   "cell_type": "code",
   "execution_count": null,
   "metadata": {},
   "outputs": [],
   "source": []
  }
 ],
 "metadata": {
  "kernelspec": {
   "display_name": "proyecto",
   "language": "python",
   "name": "proyecto"
  },
  "language_info": {
   "codemirror_mode": {
    "name": "ipython",
    "version": 3
   },
   "file_extension": ".py",
   "mimetype": "text/x-python",
   "name": "python",
   "nbconvert_exporter": "python",
   "pygments_lexer": "ipython3",
   "version": "3.8.5"
  }
 },
 "nbformat": 4,
 "nbformat_minor": 4
}
