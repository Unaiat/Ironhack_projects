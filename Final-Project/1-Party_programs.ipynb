{
 "cells": [
  {
   "cell_type": "code",
   "execution_count": 1,
   "metadata": {},
   "outputs": [],
   "source": [
    "import pandas as pd\n",
    "from bs4 import BeautifulSoup\n",
    "import requests\n",
    "import pandas as pd\n",
    "import re\n",
    "from selenium import webdriver\n",
    "from time import sleep\n",
    "import numpy as np\n",
    "import src.cleaning as cl\n",
    "import src.scraping as sc"
   ]
  },
  {
   "cell_type": "markdown",
   "metadata": {},
   "source": [
    "### Unidas Podemos "
   ]
  },
  {
   "cell_type": "markdown",
   "metadata": {},
   "source": [
    "#### Scraping"
   ]
  },
  {
   "cell_type": "code",
   "execution_count": 3,
   "metadata": {},
   "outputs": [],
   "source": [
    "scraping = {\n",
    "    \"https://podemos.info/bloque/horizonte-verde-nuevo-modelo-industrial/\": \"Horizonte Verde y Nuevo Modelo Industrial\",\n",
    "    \"https://podemos.info/bloque/garantias-democraticas-ciudadania/\": \"Garantías Democráticas y de Ciudadanía\",\n",
    "    \"https://podemos.info/bloque/garantias-justicia-fiscal/\": \"Garantías de Justicia Fiscal\",\n",
    "    \"https://podemos.info/bloque/horizonte-morado-economia-los-cuidados/\": \"Horizonte Morado y Economía de los Cuidados\",\n",
    "    \"https://podemos.info/bloque/garantias-justicia-laboral-pensiones/\": \"Garantías de Justicia Laboral y Pensiones\",\n",
    "    \"https://podemos.info/bloque/garantias-justicia-territorial/\": \"Garantías de Justicia Territorial\",\n",
    "    \"https://podemos.info/bloque/horizonte-digital-nueva-economia/\": \"Horizonte Digital y Nueva Economía\",\n",
    "    \"https://podemos.info/bloque/garantias-justicia-social/\": \"Garantías de Justicia Social\"\n",
    "}"
   ]
  },
  {
   "cell_type": "code",
   "execution_count": 4,
   "metadata": {},
   "outputs": [
    {
     "name": "stderr",
     "output_type": "stream",
     "text": [
      "/Users/unai/Iron_Hack_Course/Final-Project/src/scraping.py:17: GuessedAtParserWarning: No parser was explicitly specified, so I'm using the best available HTML parser for this system (\"lxml\"). This usually isn't a problem, but if you run this code on another system, or in a different virtual environment, it may use a different parser and behave differently.\n",
      "\n",
      "The code that caused this warning is on line 17 of the file /Users/unai/Iron_Hack_Course/Final-Project/src/scraping.py. To get rid of this warning, pass the additional argument 'features=\"lxml\"' to the BeautifulSoup constructor.\n",
      "\n",
      "  headline = BeautifulSoup(f'''<h2 class=\"fusion-responsive-typography-calculated\">{title}</h2>''')\n"
     ]
    }
   ],
   "source": [
    "podemos_total = []\n",
    "for key, value in scraping.items():\n",
    "    result = sc.scraping_podemos(key, value)\n",
    "    podemos_total.append(result)"
   ]
  },
  {
   "cell_type": "code",
   "execution_count": 5,
   "metadata": {},
   "outputs": [],
   "source": [
    "unidas_podemos_total = podemos_total[0] + podemos_total[1] + podemos_total[2] + podemos_total[3] + podemos_total[4] + podemos_total[5] + podemos_total[6] + podemos_total[7]"
   ]
  },
  {
   "cell_type": "code",
   "execution_count": 6,
   "metadata": {},
   "outputs": [],
   "source": [
    "df_unidas_podemos = pd.DataFrame(unidas_podemos_total)"
   ]
  },
  {
   "cell_type": "code",
   "execution_count": 7,
   "metadata": {},
   "outputs": [],
   "source": [
    "df_unidas_podemos.reset_index(inplace = True)"
   ]
  },
  {
   "cell_type": "code",
   "execution_count": 8,
   "metadata": {},
   "outputs": [],
   "source": [
    "df_unidas_podemos.rename(columns = {\"index\" : \"id\", 0 : \"phrases\"}, inplace = True)"
   ]
  },
  {
   "cell_type": "code",
   "execution_count": 9,
   "metadata": {},
   "outputs": [
    {
     "name": "stderr",
     "output_type": "stream",
     "text": [
      "/Users/unai/opt/anaconda3/lib/python3.8/site-packages/pandas/core/strings.py:2001: UserWarning: This pattern has match groups. To actually get the groups, use str.extract.\n",
      "  return func(self, *args, **kwargs)\n"
     ]
    }
   ],
   "source": [
    "to_delete = (\"Email: contacto@podemos.info\", \"C/ Francisco Villaespesa, 1828017 Madrid\", \n",
    "             \"Comparte esta medida\", \"(Véase el apartado «Garantías de Justicia Territorial»).m\", \"podemos.info\")\n",
    "\n",
    "for e in to_delete:\n",
    "    df_unidas_podemos = df_unidas_podemos[df_unidas_podemos[\"phrases\"].str.contains(e)==False]"
   ]
  },
  {
   "cell_type": "code",
   "execution_count": 10,
   "metadata": {},
   "outputs": [],
   "source": [
    "df_unidas_podemos.to_csv(\"./data/programs/csv-s/unidas_podemos.csv\", index = False)"
   ]
  },
  {
   "cell_type": "markdown",
   "metadata": {},
   "source": [
    "### Mas Madrid"
   ]
  },
  {
   "cell_type": "code",
   "execution_count": 11,
   "metadata": {},
   "outputs": [],
   "source": [
    "df_mas_madrid = pd.read_csv(\"./data/programs/csv-s/mas_madrid.csv\")"
   ]
  },
  {
   "cell_type": "markdown",
   "metadata": {},
   "source": [
    "### PP"
   ]
  },
  {
   "cell_type": "code",
   "execution_count": 12,
   "metadata": {},
   "outputs": [],
   "source": [
    "df_pp = pd.read_csv(\"./data/programs/csv-s/pp.csv\")"
   ]
  },
  {
   "cell_type": "markdown",
   "metadata": {},
   "source": [
    "### VOX"
   ]
  },
  {
   "cell_type": "code",
   "execution_count": 2,
   "metadata": {},
   "outputs": [],
   "source": [
    "df_vox = pd.read_csv(\"./data/programs/csv-s/vox.csv\")"
   ]
  },
  {
   "cell_type": "code",
   "execution_count": 3,
   "metadata": {},
   "outputs": [
    {
     "data": {
      "text/html": [
       "<div>\n",
       "<style scoped>\n",
       "    .dataframe tbody tr th:only-of-type {\n",
       "        vertical-align: middle;\n",
       "    }\n",
       "\n",
       "    .dataframe tbody tr th {\n",
       "        vertical-align: top;\n",
       "    }\n",
       "\n",
       "    .dataframe thead th {\n",
       "        text-align: right;\n",
       "    }\n",
       "</style>\n",
       "<table border=\"1\" class=\"dataframe\">\n",
       "  <thead>\n",
       "    <tr style=\"text-align: right;\">\n",
       "      <th></th>\n",
       "      <th>Unnamed: 0</th>\n",
       "      <th>VOX</th>\n",
       "    </tr>\n",
       "  </thead>\n",
       "  <tbody>\n",
       "    <tr>\n",
       "      <th>0</th>\n",
       "      <td>0</td>\n",
       "      <td>Reducir a la mitad el número de diputados de l...</td>\n",
       "    </tr>\n",
       "    <tr>\n",
       "      <th>1</th>\n",
       "      <td>1</td>\n",
       "      <td>Bajada radical e inmediata de impuestos que al...</td>\n",
       "    </tr>\n",
       "    <tr>\n",
       "      <th>2</th>\n",
       "      <td>2</td>\n",
       "      <td>Proteger la salud y la libertad. Porque es com...</td>\n",
       "    </tr>\n",
       "    <tr>\n",
       "      <th>3</th>\n",
       "      <td>3</td>\n",
       "      <td>Indemnizar a todos aquellos a los que se les h...</td>\n",
       "    </tr>\n",
       "    <tr>\n",
       "      <th>4</th>\n",
       "      <td>4</td>\n",
       "      <td>Proteger a las madres y a las familias Combati...</td>\n",
       "    </tr>\n",
       "    <tr>\n",
       "      <th>5</th>\n",
       "      <td>5</td>\n",
       "      <td>Garantizar el acceso a la vivienda Liberalizar...</td>\n",
       "    </tr>\n",
       "    <tr>\n",
       "      <th>6</th>\n",
       "      <td>6</td>\n",
       "      <td>Recuperar la vida de nuestros barrios. Persecu...</td>\n",
       "    </tr>\n",
       "    <tr>\n",
       "      <th>7</th>\n",
       "      <td>7</td>\n",
       "      <td>Expulsar de forma inmediata a los inmigrantes ...</td>\n",
       "    </tr>\n",
       "    <tr>\n",
       "      <th>8</th>\n",
       "      <td>8</td>\n",
       "      <td>Derogar las leyes ideológicas del Partido Popu...</td>\n",
       "    </tr>\n",
       "    <tr>\n",
       "      <th>9</th>\n",
       "      <td>9</td>\n",
       "      <td>Proteger radicalmente nuestro campo y la forma...</td>\n",
       "    </tr>\n",
       "  </tbody>\n",
       "</table>\n",
       "</div>"
      ],
      "text/plain": [
       "   Unnamed: 0                                                VOX\n",
       "0           0  Reducir a la mitad el número de diputados de l...\n",
       "1           1  Bajada radical e inmediata de impuestos que al...\n",
       "2           2  Proteger la salud y la libertad. Porque es com...\n",
       "3           3  Indemnizar a todos aquellos a los que se les h...\n",
       "4           4  Proteger a las madres y a las familias Combati...\n",
       "5           5  Garantizar el acceso a la vivienda Liberalizar...\n",
       "6           6  Recuperar la vida de nuestros barrios. Persecu...\n",
       "7           7  Expulsar de forma inmediata a los inmigrantes ...\n",
       "8           8  Derogar las leyes ideológicas del Partido Popu...\n",
       "9           9  Proteger radicalmente nuestro campo y la forma..."
      ]
     },
     "execution_count": 3,
     "metadata": {},
     "output_type": "execute_result"
    }
   ],
   "source": [
    "df_vox"
   ]
  },
  {
   "cell_type": "code",
   "execution_count": 4,
   "metadata": {},
   "outputs": [],
   "source": [
    "df_vox.drop(columns = [\"Unnamed: 0\"], inplace = True)"
   ]
  },
  {
   "cell_type": "code",
   "execution_count": 6,
   "metadata": {},
   "outputs": [],
   "source": [
    "df_vox.reset_index(inplace = True)"
   ]
  },
  {
   "cell_type": "code",
   "execution_count": 7,
   "metadata": {},
   "outputs": [
    {
     "data": {
      "text/html": [
       "<div>\n",
       "<style scoped>\n",
       "    .dataframe tbody tr th:only-of-type {\n",
       "        vertical-align: middle;\n",
       "    }\n",
       "\n",
       "    .dataframe tbody tr th {\n",
       "        vertical-align: top;\n",
       "    }\n",
       "\n",
       "    .dataframe thead th {\n",
       "        text-align: right;\n",
       "    }\n",
       "</style>\n",
       "<table border=\"1\" class=\"dataframe\">\n",
       "  <thead>\n",
       "    <tr style=\"text-align: right;\">\n",
       "      <th></th>\n",
       "      <th>index</th>\n",
       "      <th>VOX</th>\n",
       "    </tr>\n",
       "  </thead>\n",
       "  <tbody>\n",
       "    <tr>\n",
       "      <th>0</th>\n",
       "      <td>0</td>\n",
       "      <td>Reducir a la mitad el número de diputados de l...</td>\n",
       "    </tr>\n",
       "    <tr>\n",
       "      <th>1</th>\n",
       "      <td>1</td>\n",
       "      <td>Bajada radical e inmediata de impuestos que al...</td>\n",
       "    </tr>\n",
       "    <tr>\n",
       "      <th>2</th>\n",
       "      <td>2</td>\n",
       "      <td>Proteger la salud y la libertad. Porque es com...</td>\n",
       "    </tr>\n",
       "    <tr>\n",
       "      <th>3</th>\n",
       "      <td>3</td>\n",
       "      <td>Indemnizar a todos aquellos a los que se les h...</td>\n",
       "    </tr>\n",
       "    <tr>\n",
       "      <th>4</th>\n",
       "      <td>4</td>\n",
       "      <td>Proteger a las madres y a las familias Combati...</td>\n",
       "    </tr>\n",
       "    <tr>\n",
       "      <th>5</th>\n",
       "      <td>5</td>\n",
       "      <td>Garantizar el acceso a la vivienda Liberalizar...</td>\n",
       "    </tr>\n",
       "    <tr>\n",
       "      <th>6</th>\n",
       "      <td>6</td>\n",
       "      <td>Recuperar la vida de nuestros barrios. Persecu...</td>\n",
       "    </tr>\n",
       "    <tr>\n",
       "      <th>7</th>\n",
       "      <td>7</td>\n",
       "      <td>Expulsar de forma inmediata a los inmigrantes ...</td>\n",
       "    </tr>\n",
       "    <tr>\n",
       "      <th>8</th>\n",
       "      <td>8</td>\n",
       "      <td>Derogar las leyes ideológicas del Partido Popu...</td>\n",
       "    </tr>\n",
       "    <tr>\n",
       "      <th>9</th>\n",
       "      <td>9</td>\n",
       "      <td>Proteger radicalmente nuestro campo y la forma...</td>\n",
       "    </tr>\n",
       "  </tbody>\n",
       "</table>\n",
       "</div>"
      ],
      "text/plain": [
       "   index                                                VOX\n",
       "0      0  Reducir a la mitad el número de diputados de l...\n",
       "1      1  Bajada radical e inmediata de impuestos que al...\n",
       "2      2  Proteger la salud y la libertad. Porque es com...\n",
       "3      3  Indemnizar a todos aquellos a los que se les h...\n",
       "4      4  Proteger a las madres y a las familias Combati...\n",
       "5      5  Garantizar el acceso a la vivienda Liberalizar...\n",
       "6      6  Recuperar la vida de nuestros barrios. Persecu...\n",
       "7      7  Expulsar de forma inmediata a los inmigrantes ...\n",
       "8      8  Derogar las leyes ideológicas del Partido Popu...\n",
       "9      9  Proteger radicalmente nuestro campo y la forma..."
      ]
     },
     "execution_count": 7,
     "metadata": {},
     "output_type": "execute_result"
    }
   ],
   "source": [
    "df_vox"
   ]
  },
  {
   "cell_type": "code",
   "execution_count": 12,
   "metadata": {},
   "outputs": [],
   "source": [
    "df_vox.rename(columns = {'index': 'id', 'VOX': 'phrases'}, inplace = True)"
   ]
  },
  {
   "cell_type": "code",
   "execution_count": 13,
   "metadata": {},
   "outputs": [
    {
     "data": {
      "text/html": [
       "<div>\n",
       "<style scoped>\n",
       "    .dataframe tbody tr th:only-of-type {\n",
       "        vertical-align: middle;\n",
       "    }\n",
       "\n",
       "    .dataframe tbody tr th {\n",
       "        vertical-align: top;\n",
       "    }\n",
       "\n",
       "    .dataframe thead th {\n",
       "        text-align: right;\n",
       "    }\n",
       "</style>\n",
       "<table border=\"1\" class=\"dataframe\">\n",
       "  <thead>\n",
       "    <tr style=\"text-align: right;\">\n",
       "      <th></th>\n",
       "      <th>id</th>\n",
       "      <th>phrases</th>\n",
       "    </tr>\n",
       "  </thead>\n",
       "  <tbody>\n",
       "    <tr>\n",
       "      <th>0</th>\n",
       "      <td>0</td>\n",
       "      <td>Reducir a la mitad el número de diputados de l...</td>\n",
       "    </tr>\n",
       "    <tr>\n",
       "      <th>1</th>\n",
       "      <td>1</td>\n",
       "      <td>Bajada radical e inmediata de impuestos que al...</td>\n",
       "    </tr>\n",
       "    <tr>\n",
       "      <th>2</th>\n",
       "      <td>2</td>\n",
       "      <td>Proteger la salud y la libertad. Porque es com...</td>\n",
       "    </tr>\n",
       "    <tr>\n",
       "      <th>3</th>\n",
       "      <td>3</td>\n",
       "      <td>Indemnizar a todos aquellos a los que se les h...</td>\n",
       "    </tr>\n",
       "    <tr>\n",
       "      <th>4</th>\n",
       "      <td>4</td>\n",
       "      <td>Proteger a las madres y a las familias Combati...</td>\n",
       "    </tr>\n",
       "    <tr>\n",
       "      <th>5</th>\n",
       "      <td>5</td>\n",
       "      <td>Garantizar el acceso a la vivienda Liberalizar...</td>\n",
       "    </tr>\n",
       "    <tr>\n",
       "      <th>6</th>\n",
       "      <td>6</td>\n",
       "      <td>Recuperar la vida de nuestros barrios. Persecu...</td>\n",
       "    </tr>\n",
       "    <tr>\n",
       "      <th>7</th>\n",
       "      <td>7</td>\n",
       "      <td>Expulsar de forma inmediata a los inmigrantes ...</td>\n",
       "    </tr>\n",
       "    <tr>\n",
       "      <th>8</th>\n",
       "      <td>8</td>\n",
       "      <td>Derogar las leyes ideológicas del Partido Popu...</td>\n",
       "    </tr>\n",
       "    <tr>\n",
       "      <th>9</th>\n",
       "      <td>9</td>\n",
       "      <td>Proteger radicalmente nuestro campo y la forma...</td>\n",
       "    </tr>\n",
       "  </tbody>\n",
       "</table>\n",
       "</div>"
      ],
      "text/plain": [
       "   id                                            phrases\n",
       "0   0  Reducir a la mitad el número de diputados de l...\n",
       "1   1  Bajada radical e inmediata de impuestos que al...\n",
       "2   2  Proteger la salud y la libertad. Porque es com...\n",
       "3   3  Indemnizar a todos aquellos a los que se les h...\n",
       "4   4  Proteger a las madres y a las familias Combati...\n",
       "5   5  Garantizar el acceso a la vivienda Liberalizar...\n",
       "6   6  Recuperar la vida de nuestros barrios. Persecu...\n",
       "7   7  Expulsar de forma inmediata a los inmigrantes ...\n",
       "8   8  Derogar las leyes ideológicas del Partido Popu...\n",
       "9   9  Proteger radicalmente nuestro campo y la forma..."
      ]
     },
     "execution_count": 13,
     "metadata": {},
     "output_type": "execute_result"
    }
   ],
   "source": [
    "df_vox"
   ]
  },
  {
   "cell_type": "code",
   "execution_count": 15,
   "metadata": {},
   "outputs": [],
   "source": [
    "df_vox.to_csv(\"./data/programs/csv-s/vox.csv\")"
   ]
  },
  {
   "cell_type": "markdown",
   "metadata": {},
   "source": [
    "### Ciudadanos"
   ]
  },
  {
   "cell_type": "code",
   "execution_count": 55,
   "metadata": {},
   "outputs": [],
   "source": [
    "ciudadanos = sc.scrape_ciudadanos()"
   ]
  },
  {
   "cell_type": "code",
   "execution_count": 56,
   "metadata": {},
   "outputs": [],
   "source": [
    "df_ciudadanos = pd.DataFrame(ciudadanos)"
   ]
  },
  {
   "cell_type": "code",
   "execution_count": 63,
   "metadata": {},
   "outputs": [],
   "source": [
    "df_ciudadanos.rename(columns = {\"index\": \"id\", 0: \"phrases\" }, inplace = True)"
   ]
  },
  {
   "cell_type": "code",
   "execution_count": 59,
   "metadata": {},
   "outputs": [],
   "source": [
    "df_ciudadanos['phrases'].replace(\"\\n\", \" \", regex = True, inplace = True)"
   ]
  },
  {
   "cell_type": "code",
   "execution_count": 61,
   "metadata": {},
   "outputs": [],
   "source": [
    "df_ciudadanos.reset_index(inplace = True)"
   ]
  },
  {
   "cell_type": "code",
   "execution_count": 64,
   "metadata": {},
   "outputs": [
    {
     "data": {
      "text/html": [
       "<div>\n",
       "<style scoped>\n",
       "    .dataframe tbody tr th:only-of-type {\n",
       "        vertical-align: middle;\n",
       "    }\n",
       "\n",
       "    .dataframe tbody tr th {\n",
       "        vertical-align: top;\n",
       "    }\n",
       "\n",
       "    .dataframe thead th {\n",
       "        text-align: right;\n",
       "    }\n",
       "</style>\n",
       "<table border=\"1\" class=\"dataframe\">\n",
       "  <thead>\n",
       "    <tr style=\"text-align: right;\">\n",
       "      <th></th>\n",
       "      <th>id</th>\n",
       "      <th>phrases</th>\n",
       "    </tr>\n",
       "  </thead>\n",
       "  <tbody>\n",
       "    <tr>\n",
       "      <th>0</th>\n",
       "      <td>0</td>\n",
       "      <td>1.1 Queremos dejar atrás la pandemia con sensa...</td>\n",
       "    </tr>\n",
       "    <tr>\n",
       "      <th>1</th>\n",
       "      <td>1</td>\n",
       "      <td>1.1 Queremos dejar atrás la pandemia con sensa...</td>\n",
       "    </tr>\n",
       "    <tr>\n",
       "      <th>2</th>\n",
       "      <td>2</td>\n",
       "      <td>1.2 Vacunaremos 24/7, incluyendo festivos y fi...</td>\n",
       "    </tr>\n",
       "    <tr>\n",
       "      <th>3</th>\n",
       "      <td>3</td>\n",
       "      <td>1.3 Pondremos en marcha nuestro Plan Integral ...</td>\n",
       "    </tr>\n",
       "    <tr>\n",
       "      <th>4</th>\n",
       "      <td>4</td>\n",
       "      <td>Más de 600 millones de euros para pymes y autó...</td>\n",
       "    </tr>\n",
       "    <tr>\n",
       "      <th>...</th>\n",
       "      <td>...</td>\n",
       "      <td>...</td>\n",
       "    </tr>\n",
       "    <tr>\n",
       "      <th>220</th>\n",
       "      <td>220</td>\n",
       "      <td>10.8 Nos aseguraremos de conseguir un aumento ...</td>\n",
       "    </tr>\n",
       "    <tr>\n",
       "      <th>221</th>\n",
       "      <td>221</td>\n",
       "      <td>10.9 Simplificaremos los trámites burocráticos...</td>\n",
       "    </tr>\n",
       "    <tr>\n",
       "      <th>222</th>\n",
       "      <td>222</td>\n",
       "      <td>10.10 Seguiremos apostando por la colaboración...</td>\n",
       "    </tr>\n",
       "    <tr>\n",
       "      <th>223</th>\n",
       "      <td>223</td>\n",
       "      <td>10.11 Impulsaremos el ecosistema emprendedor y...</td>\n",
       "    </tr>\n",
       "    <tr>\n",
       "      <th>224</th>\n",
       "      <td>224</td>\n",
       "      <td>10.12 Movilizaremos fondos privados para la in...</td>\n",
       "    </tr>\n",
       "  </tbody>\n",
       "</table>\n",
       "<p>225 rows × 2 columns</p>\n",
       "</div>"
      ],
      "text/plain": [
       "      id                                            phrases\n",
       "0      0  1.1 Queremos dejar atrás la pandemia con sensa...\n",
       "1      1  1.1 Queremos dejar atrás la pandemia con sensa...\n",
       "2      2  1.2 Vacunaremos 24/7, incluyendo festivos y fi...\n",
       "3      3  1.3 Pondremos en marcha nuestro Plan Integral ...\n",
       "4      4  Más de 600 millones de euros para pymes y autó...\n",
       "..   ...                                                ...\n",
       "220  220  10.8 Nos aseguraremos de conseguir un aumento ...\n",
       "221  221  10.9 Simplificaremos los trámites burocráticos...\n",
       "222  222  10.10 Seguiremos apostando por la colaboración...\n",
       "223  223  10.11 Impulsaremos el ecosistema emprendedor y...\n",
       "224  224  10.12 Movilizaremos fondos privados para la in...\n",
       "\n",
       "[225 rows x 2 columns]"
      ]
     },
     "execution_count": 64,
     "metadata": {},
     "output_type": "execute_result"
    }
   ],
   "source": [
    "df_ciudadanos"
   ]
  },
  {
   "cell_type": "code",
   "execution_count": 14,
   "metadata": {},
   "outputs": [
    {
     "ename": "NameError",
     "evalue": "name 'df_ciudadanos' is not defined",
     "output_type": "error",
     "traceback": [
      "\u001b[0;31m---------------------------------------------------------------------------\u001b[0m",
      "\u001b[0;31mNameError\u001b[0m                                 Traceback (most recent call last)",
      "\u001b[0;32m<ipython-input-14-16a3896e5f0a>\u001b[0m in \u001b[0;36m<module>\u001b[0;34m\u001b[0m\n\u001b[0;32m----> 1\u001b[0;31m \u001b[0mdf_ciudadanos\u001b[0m\u001b[0;34m.\u001b[0m\u001b[0mto_csv\u001b[0m\u001b[0;34m(\u001b[0m\u001b[0;34m\"./data/programs/csv-s/ciudadanos.csv\"\u001b[0m\u001b[0;34m,\u001b[0m \u001b[0mindex\u001b[0m \u001b[0;34m=\u001b[0m \u001b[0;32mFalse\u001b[0m\u001b[0;34m)\u001b[0m\u001b[0;34m\u001b[0m\u001b[0;34m\u001b[0m\u001b[0m\n\u001b[0m",
      "\u001b[0;31mNameError\u001b[0m: name 'df_ciudadanos' is not defined"
     ]
    }
   ],
   "source": [
    "df_ciudadanos.to_csv(\"./data/programs/csv-s/ciudadanos.csv\", index = False)"
   ]
  },
  {
   "cell_type": "markdown",
   "metadata": {},
   "source": [
    "### PSOE"
   ]
  },
  {
   "cell_type": "code",
   "execution_count": 23,
   "metadata": {},
   "outputs": [],
   "source": [
    "df_psoe = pd.read_excel(\"./data/programs/pdf-s_and_words/psoe.xlsx\")"
   ]
  },
  {
   "cell_type": "code",
   "execution_count": 24,
   "metadata": {},
   "outputs": [],
   "source": [
    "df_psoe.reset_index(inplace = True)"
   ]
  },
  {
   "cell_type": "code",
   "execution_count": 25,
   "metadata": {},
   "outputs": [],
   "source": [
    "df_psoe.rename(columns = {\"index\": \"id\", 'PSOE': \"phrases\" }, inplace = True)"
   ]
  },
  {
   "cell_type": "code",
   "execution_count": 67,
   "metadata": {
    "collapsed": true
   },
   "outputs": [
    {
     "data": {
      "text/plain": [
       "0                                           INTRODUCCIÓN\n",
       "1      Un programa electoral no es una mera enumeraci...\n",
       "2      La primera es la pandemia causada por la COVID...\n",
       "3      La segunda circunstancia es el aumento de la i...\n",
       "4      Este programa electoral intenta dar respuesta ...\n",
       "                             ...                        \n",
       "538    Colaborar con los ayuntamientos en los program...\n",
       "539    Elaborar un Plan Director para el Cuerpo de Pr...\n",
       "540    Mejorar la dotación de personal, aumentando la...\n",
       "541    Mejorar la eficacia de la extinción de incend...\n",
       "542                                  Gobernar en serio. \n",
       "Name: phrases, Length: 543, dtype: object"
      ]
     },
     "execution_count": 67,
     "metadata": {},
     "output_type": "execute_result"
    }
   ],
   "source": [
    "cl.replace(df_psoe, 'phrases', r\"- \", r\"\")"
   ]
  },
  {
   "cell_type": "code",
   "execution_count": 68,
   "metadata": {},
   "outputs": [],
   "source": [
    "df_psoe.to_csv(\"./data/programs/csv-s/psoe.csv\", index = False)"
   ]
  },
  {
   "cell_type": "markdown",
   "metadata": {},
   "source": [
    "### Put all the programs together to insert them to the database"
   ]
  },
  {
   "cell_type": "code",
   "execution_count": 27,
   "metadata": {},
   "outputs": [],
   "source": [
    "df_mas_madrid['party_id'] = 2"
   ]
  },
  {
   "cell_type": "code",
   "execution_count": 28,
   "metadata": {
    "scrolled": true
   },
   "outputs": [],
   "source": [
    "df_vox['party_id'] = 6"
   ]
  },
  {
   "cell_type": "code",
   "execution_count": 29,
   "metadata": {},
   "outputs": [],
   "source": [
    "df_unidas_podemos['party_id'] = 5"
   ]
  },
  {
   "cell_type": "code",
   "execution_count": 30,
   "metadata": {
    "scrolled": true
   },
   "outputs": [],
   "source": [
    "df_ciudadanos['party_id'] = 1"
   ]
  },
  {
   "cell_type": "code",
   "execution_count": 31,
   "metadata": {
    "scrolled": true
   },
   "outputs": [],
   "source": [
    "df_pp['party_id'] = 3"
   ]
  },
  {
   "cell_type": "code",
   "execution_count": 32,
   "metadata": {},
   "outputs": [],
   "source": [
    "df_psoe['party_id'] = 4"
   ]
  },
  {
   "cell_type": "code",
   "execution_count": 33,
   "metadata": {},
   "outputs": [],
   "source": [
    "all_programs = pd.concat([df_mas_madrid, df_vox, df_unidas_podemos, df_ciudadanos, df_pp, df_psoe])"
   ]
  },
  {
   "cell_type": "code",
   "execution_count": 34,
   "metadata": {},
   "outputs": [],
   "source": [
    "all_programs.drop(columns = [\"id\",\"index\"], inplace = True)"
   ]
  },
  {
   "cell_type": "code",
   "execution_count": 36,
   "metadata": {},
   "outputs": [],
   "source": [
    "all_programs = cl.create_index(all_programs)"
   ]
  },
  {
   "cell_type": "code",
   "execution_count": 39,
   "metadata": {
    "collapsed": true
   },
   "outputs": [
    {
     "data": {
      "text/plain": [
       "0       El próximo 4 de mayo las madrileñas y madrileñ...\n",
       "1       Hemos sufrido el abandono de una presidenta qu...\n",
       "2       Abordamos esta convocatoria electoral desde el...\n",
       "3       Los compromisos que adquirimos con el programa...\n",
       "4       Hemos revisado y actualizado las medidas para ...\n",
       "                              ...                        \n",
       "3717    Colaborar con los ayuntamientos en los program...\n",
       "3718    Elaborar un Plan Director para el Cuerpo de Pr...\n",
       "3719    Mejorar la dotación de personal, aumentando la...\n",
       "3720    Mejorar la eficacia de la extinción de incend...\n",
       "3721                                  Gobernar en serio. \n",
       "Name: phrases, Length: 3722, dtype: object"
      ]
     },
     "execution_count": 39,
     "metadata": {},
     "output_type": "execute_result"
    }
   ],
   "source": [
    "cl.replace(all_programs, 'phrases', r\"- \", r\"\")"
   ]
  },
  {
   "cell_type": "code",
   "execution_count": 40,
   "metadata": {
    "collapsed": true
   },
   "outputs": [
    {
     "data": {
      "text/plain": [
       "0       El próximo 4 de mayo las madrileñas y madrileñ...\n",
       "1       Hemos sufrido el abandono de una presidenta qu...\n",
       "2       Abordamos esta convocatoria electoral desde el...\n",
       "3       Los compromisos que adquirimos con el programa...\n",
       "4       Hemos revisado y actualizado las medidas para ...\n",
       "                              ...                        \n",
       "3717    Colaborar con los ayuntamientos en los program...\n",
       "3718    Elaborar un Plan Director para el Cuerpo de Pr...\n",
       "3719    Mejorar la dotación de personal, aumentando la...\n",
       "3720    Mejorar la eficacia de la extinción de incend...\n",
       "3721                                  Gobernar en serio. \n",
       "Name: phrases, Length: 3722, dtype: object"
      ]
     },
     "execution_count": 40,
     "metadata": {},
     "output_type": "execute_result"
    }
   ],
   "source": [
    "cl.replace(all_programs, 'phrases', r\"[\\\"]\", r\"'\")"
   ]
  },
  {
   "cell_type": "code",
   "execution_count": 41,
   "metadata": {
    "collapsed": true
   },
   "outputs": [
    {
     "data": {
      "text/plain": [
       "0       El próximo 4 de mayo las madrileñas y madrileñ...\n",
       "1       Hemos sufrido el abandono de una presidenta qu...\n",
       "2       Abordamos esta convocatoria electoral desde el...\n",
       "3       Los compromisos que adquirimos con el programa...\n",
       "4       Hemos revisado y actualizado las medidas para ...\n",
       "                              ...                        \n",
       "3717    Colaborar con los ayuntamientos en los program...\n",
       "3718    Elaborar un Plan Director para el Cuerpo de Pr...\n",
       "3719    Mejorar la dotación de personal, aumentando la...\n",
       "3720    Mejorar la eficacia de la extinción de incend...\n",
       "3721                                  Gobernar en serio. \n",
       "Name: phrases, Length: 3722, dtype: object"
      ]
     },
     "execution_count": 41,
     "metadata": {},
     "output_type": "execute_result"
    }
   ],
   "source": [
    "cl.replace(all_programs, 'phrases', r\"%\", \"por ciento\")"
   ]
  },
  {
   "cell_type": "code",
   "execution_count": 42,
   "metadata": {
    "collapsed": true
   },
   "outputs": [
    {
     "data": {
      "text/plain": [
       "0       El próximo 4 de mayo las madrileñas y madrileñ...\n",
       "1       Hemos sufrido el abandono de una presidenta qu...\n",
       "2       Abordamos esta convocatoria electoral desde el...\n",
       "3       Los compromisos que adquirimos con el programa...\n",
       "4       Hemos revisado y actualizado las medidas para ...\n",
       "                              ...                        \n",
       "3717    Colaborar con los ayuntamientos en los program...\n",
       "3718    Elaborar un Plan Director para el Cuerpo de Pr...\n",
       "3719    Mejorar la dotación de personal, aumentando la...\n",
       "3720    Mejorar la eficacia de la extinción de incend...\n",
       "3721                                  Gobernar en serio. \n",
       "Name: phrases, Length: 3722, dtype: object"
      ]
     },
     "execution_count": 42,
     "metadata": {},
     "output_type": "execute_result"
    }
   ],
   "source": [
    "cl.replace(all_programs, 'phrases', r\"«\", \"'\")"
   ]
  },
  {
   "cell_type": "code",
   "execution_count": 43,
   "metadata": {
    "collapsed": true
   },
   "outputs": [
    {
     "data": {
      "text/plain": [
       "0       El próximo 4 de mayo las madrileñas y madrileñ...\n",
       "1       Hemos sufrido el abandono de una presidenta qu...\n",
       "2       Abordamos esta convocatoria electoral desde el...\n",
       "3       Los compromisos que adquirimos con el programa...\n",
       "4       Hemos revisado y actualizado las medidas para ...\n",
       "                              ...                        \n",
       "3717    Colaborar con los ayuntamientos en los program...\n",
       "3718    Elaborar un Plan Director para el Cuerpo de Pr...\n",
       "3719    Mejorar la dotación de personal, aumentando la...\n",
       "3720    Mejorar la eficacia de la extinción de incend...\n",
       "3721                                  Gobernar en serio. \n",
       "Name: phrases, Length: 3722, dtype: object"
      ]
     },
     "execution_count": 43,
     "metadata": {},
     "output_type": "execute_result"
    }
   ],
   "source": [
    "cl.replace(all_programs, 'phrases', r\"»\", \"'\")"
   ]
  },
  {
   "cell_type": "code",
   "execution_count": 45,
   "metadata": {},
   "outputs": [],
   "source": [
    "column_names = [\"id\", \"party_id\", \"phrases\"] \n",
    "all_programs = all_programs.reindex(columns = column_names)"
   ]
  },
  {
   "cell_type": "code",
   "execution_count": 46,
   "metadata": {},
   "outputs": [],
   "source": [
    "all_programs = all_programs.dropna(how = \"any\", axis = 0)"
   ]
  },
  {
   "cell_type": "code",
   "execution_count": 47,
   "metadata": {
    "scrolled": true
   },
   "outputs": [
    {
     "data": {
      "text/plain": [
       "id          0\n",
       "party_id    0\n",
       "phrases     0\n",
       "dtype: int64"
      ]
     },
     "execution_count": 47,
     "metadata": {},
     "output_type": "execute_result"
    }
   ],
   "source": [
    "all_programs.isnull().sum()"
   ]
  },
  {
   "cell_type": "code",
   "execution_count": 48,
   "metadata": {},
   "outputs": [],
   "source": [
    "all_programs.to_csv(\"./data/programs/csv-s/all_programs.csv\", index = False)"
   ]
  },
  {
   "cell_type": "code",
   "execution_count": 49,
   "metadata": {},
   "outputs": [],
   "source": [
    "all_programs = pd.read_csv(\"./data/programs/csv-s/all_programs.csv\")"
   ]
  },
  {
   "cell_type": "markdown",
   "metadata": {},
   "source": [
    "### Create the content of the tables and candidates tables"
   ]
  },
  {
   "cell_type": "code",
   "execution_count": 50,
   "metadata": {},
   "outputs": [],
   "source": [
    "parties = {\"id\": [1, 2, 3, 4, 5, 6], \"name\": ['Ciudadanos', 'Más Madrid', 'PP', 'PSOE', 'Unidas Podemos', 'Vox']}\n",
    "parties_table = pd.DataFrame(parties)"
   ]
  },
  {
   "cell_type": "code",
   "execution_count": 51,
   "metadata": {},
   "outputs": [],
   "source": [
    "parties_table.to_csv(\"./data/programs/csv-s/parties_table.csv\", index = False)"
   ]
  },
  {
   "cell_type": "code",
   "execution_count": 52,
   "metadata": {},
   "outputs": [],
   "source": [
    "candidates = {\"id\": [1, 2, 3, 4, 5, 6], \"name\": [\"Ángel\", \"Edmundo\", \"Isabel\", \"Mónica\", \"Pablo\", \"Rocío\"],\n",
    "             \"surname\": [\"Gabilondo\", \"Bal\", \"Díaz Ayuso\", \"García\", \"Iglesias\", \"Monasterio\"], \n",
    "             \"party_id\": [4, 1, 3, 2, 5, 6]\n",
    "             }"
   ]
  },
  {
   "cell_type": "code",
   "execution_count": 53,
   "metadata": {},
   "outputs": [],
   "source": [
    "candidates_table = pd.DataFrame(candidates)"
   ]
  },
  {
   "cell_type": "code",
   "execution_count": 54,
   "metadata": {},
   "outputs": [],
   "source": [
    "candidates_table.to_csv(\"./data/programs/csv-s/candidates.csv\", index = False)"
   ]
  },
  {
   "cell_type": "code",
   "execution_count": null,
   "metadata": {},
   "outputs": [],
   "source": []
  }
 ],
 "metadata": {
  "kernelspec": {
   "display_name": "proyecto",
   "language": "python",
   "name": "proyecto"
  },
  "language_info": {
   "codemirror_mode": {
    "name": "ipython",
    "version": 3
   },
   "file_extension": ".py",
   "mimetype": "text/x-python",
   "name": "python",
   "nbconvert_exporter": "python",
   "pygments_lexer": "ipython3",
   "version": "3.8.5"
  }
 },
 "nbformat": 4,
 "nbformat_minor": 4
}
